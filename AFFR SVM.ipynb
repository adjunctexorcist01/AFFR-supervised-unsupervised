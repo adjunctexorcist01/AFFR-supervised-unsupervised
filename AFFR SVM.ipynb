{
 "cells": [
  {
   "cell_type": "markdown",
   "metadata": {},
   "source": [
    "# Amazon Fine Food Reviews Analysis\n",
    "\n",
    "\n",
    "Data Source: https://www.kaggle.com/snap/amazon-fine-food-reviews <br>\n",
    "\n",
    "EDA: https://nycdatascience.com/blog/student-works/amazon-fine-foods-visualization/\n",
    "\n",
    "\n",
    "The Amazon Fine Food Reviews dataset consists of reviews of fine foods from Amazon.<br>\n",
    "\n",
    "Number of reviews: 568,454<br>\n",
    "Number of users: 256,059<br>\n",
    "Number of products: 74,258<br>\n",
    "Timespan: Oct 1999 - Oct 2012<br>\n",
    "Number of Attributes/Columns in data: 10 \n",
    "\n",
    "Attribute Information:\n",
    "\n",
    "1. Id\n",
    "2. ProductId - unique identifier for the product\n",
    "3. UserId - unqiue identifier for the user\n",
    "4. ProfileName\n",
    "5. HelpfulnessNumerator - number of users who found the review helpful\n",
    "6. HelpfulnessDenominator - number of users who indicated whether they found the review helpful or not\n",
    "7. Score - rating between 1 and 5\n",
    "8. Time - timestamp for the review\n",
    "9. Summary - brief summary of the review\n",
    "10. Text - text of the review\n",
    "\n",
    "\n",
    "#### Objective:\n",
    "Given a review, determine whether the review is positive (rating of 4 or 5) or negative (rating of 1 or 2).\n",
    "\n",
    "<br>\n",
    "[Q] How to determine if a review is positive or negative?<br>\n",
    "<br> \n",
    "[Ans] We could use Score/Rating. A rating of 4 or 5 can be cosnidered as a positive review. A rating of 1 or 2 can be considered as negative one. A review of rating 3 is considered nuetral and such reviews are ignored from our analysis. This is an approximate and proxy way of determining the polarity (positivity/negativity) of a review.\n",
    "\n",
    "\n"
   ]
  },
  {
   "cell_type": "markdown",
   "metadata": {},
   "source": [
    "# [1]. Reading Data"
   ]
  },
  {
   "cell_type": "markdown",
   "metadata": {},
   "source": [
    "## [1.1] Loading the data\n",
    "\n",
    "The dataset is available in two forms\n",
    "1. .csv file\n",
    "2. SQLite Database\n",
    "\n",
    "In order to load the data, We have used the SQLITE dataset as it is easier to query the data and visualise the data efficiently.\n",
    "<br> \n",
    "\n",
    "Here as we only want to get the global sentiment of the recommendations (positive or negative), we will purposefully ignore all Scores equal to 3. If the score is above 3, then the recommendation wil be set to \"positive\". Otherwise, it will be set to \"negative\"."
   ]
  },
  {
   "cell_type": "code",
   "execution_count": 1,
   "metadata": {},
   "outputs": [
    {
     "name": "stderr",
     "output_type": "stream",
     "text": [
      "C:\\Users\\AE\\Anaconda3\\lib\\site-packages\\gensim\\utils.py:1197: UserWarning: detected Windows; aliasing chunkize to chunkize_serial\n",
      "  warnings.warn(\"detected Windows; aliasing chunkize to chunkize_serial\")\n"
     ]
    }
   ],
   "source": [
    "%matplotlib inline\n",
    "import warnings\n",
    "warnings.filterwarnings(\"ignore\")\n",
    "\n",
    "\n",
    "import sqlite3\n",
    "import pandas as pd\n",
    "import numpy as np\n",
    "import nltk\n",
    "import string\n",
    "import matplotlib.pyplot as plt\n",
    "import seaborn as sns\n",
    "from sklearn.feature_extraction.text import TfidfTransformer\n",
    "from sklearn.feature_extraction.text import TfidfVectorizer\n",
    "\n",
    "from sklearn.feature_extraction.text import CountVectorizer\n",
    "from sklearn.metrics import confusion_matrix\n",
    "from sklearn import metrics\n",
    "from sklearn.metrics import roc_curve, auc, roc_auc_score\n",
    "from nltk.stem.porter import PorterStemmer\n",
    "from sklearn.model_selection import cross_val_score\n",
    "from sklearn.utils import resample\n",
    "from sklearn.calibration import CalibratedClassifierCV\n",
    "\n",
    "import re\n",
    "# Tutorial about Python regular expressions: https://pymotw.com/2/re/\n",
    "import string\n",
    "from nltk.corpus import stopwords\n",
    "from nltk.stem import PorterStemmer\n",
    "from nltk.stem.wordnet import WordNetLemmatizer\n",
    "\n",
    "from gensim.models import Word2Vec\n",
    "from gensim.models import KeyedVectors\n",
    "import pickle\n",
    "\n",
    "from tqdm import tqdm\n",
    "import os\n",
    "from prettytable import PrettyTable"
   ]
  },
  {
   "cell_type": "code",
   "execution_count": 2,
   "metadata": {},
   "outputs": [
    {
     "name": "stdout",
     "output_type": "stream",
     "text": [
      "Number of data points in our data (70000, 10)\n"
     ]
    },
    {
     "data": {
      "text/html": [
       "<div>\n",
       "<style scoped>\n",
       "    .dataframe tbody tr th:only-of-type {\n",
       "        vertical-align: middle;\n",
       "    }\n",
       "\n",
       "    .dataframe tbody tr th {\n",
       "        vertical-align: top;\n",
       "    }\n",
       "\n",
       "    .dataframe thead th {\n",
       "        text-align: right;\n",
       "    }\n",
       "</style>\n",
       "<table border=\"1\" class=\"dataframe\">\n",
       "  <thead>\n",
       "    <tr style=\"text-align: right;\">\n",
       "      <th></th>\n",
       "      <th>Id</th>\n",
       "      <th>ProductId</th>\n",
       "      <th>UserId</th>\n",
       "      <th>ProfileName</th>\n",
       "      <th>HelpfulnessNumerator</th>\n",
       "      <th>HelpfulnessDenominator</th>\n",
       "      <th>Score</th>\n",
       "      <th>Time</th>\n",
       "      <th>Summary</th>\n",
       "      <th>Text</th>\n",
       "    </tr>\n",
       "  </thead>\n",
       "  <tbody>\n",
       "    <tr>\n",
       "      <th>0</th>\n",
       "      <td>1</td>\n",
       "      <td>B001E4KFG0</td>\n",
       "      <td>A3SGXH7AUHU8GW</td>\n",
       "      <td>delmartian</td>\n",
       "      <td>1</td>\n",
       "      <td>1</td>\n",
       "      <td>1</td>\n",
       "      <td>1303862400</td>\n",
       "      <td>Good Quality Dog Food</td>\n",
       "      <td>I have bought several of the Vitality canned d...</td>\n",
       "    </tr>\n",
       "    <tr>\n",
       "      <th>1</th>\n",
       "      <td>2</td>\n",
       "      <td>B00813GRG4</td>\n",
       "      <td>A1D87F6ZCVE5NK</td>\n",
       "      <td>dll pa</td>\n",
       "      <td>0</td>\n",
       "      <td>0</td>\n",
       "      <td>0</td>\n",
       "      <td>1346976000</td>\n",
       "      <td>Not as Advertised</td>\n",
       "      <td>Product arrived labeled as Jumbo Salted Peanut...</td>\n",
       "    </tr>\n",
       "    <tr>\n",
       "      <th>2</th>\n",
       "      <td>3</td>\n",
       "      <td>B000LQOCH0</td>\n",
       "      <td>ABXLMWJIXXAIN</td>\n",
       "      <td>Natalia Corres \"Natalia Corres\"</td>\n",
       "      <td>1</td>\n",
       "      <td>1</td>\n",
       "      <td>1</td>\n",
       "      <td>1219017600</td>\n",
       "      <td>\"Delight\" says it all</td>\n",
       "      <td>This is a confection that has been around a fe...</td>\n",
       "    </tr>\n",
       "  </tbody>\n",
       "</table>\n",
       "</div>"
      ],
      "text/plain": [
       "   Id   ProductId          UserId                      ProfileName  \\\n",
       "0   1  B001E4KFG0  A3SGXH7AUHU8GW                       delmartian   \n",
       "1   2  B00813GRG4  A1D87F6ZCVE5NK                           dll pa   \n",
       "2   3  B000LQOCH0   ABXLMWJIXXAIN  Natalia Corres \"Natalia Corres\"   \n",
       "\n",
       "   HelpfulnessNumerator  HelpfulnessDenominator  Score        Time  \\\n",
       "0                     1                       1      1  1303862400   \n",
       "1                     0                       0      0  1346976000   \n",
       "2                     1                       1      1  1219017600   \n",
       "\n",
       "                 Summary                                               Text  \n",
       "0  Good Quality Dog Food  I have bought several of the Vitality canned d...  \n",
       "1      Not as Advertised  Product arrived labeled as Jumbo Salted Peanut...  \n",
       "2  \"Delight\" says it all  This is a confection that has been around a fe...  "
      ]
     },
     "execution_count": 2,
     "metadata": {},
     "output_type": "execute_result"
    }
   ],
   "source": [
    "# using SQLite Table to read data.\n",
    "con = sqlite3.connect(os.getcwd()+'/Assignment/database.sqlite')\n",
    "\n",
    "filtered_data = pd.read_sql_query(\"\"\" SELECT * FROM Reviews WHERE Score != 3 LIMIT 70000\"\"\", con) \n",
    "\n",
    "# Give reviews with Score>3 a positive rating(1), and reviews with a score<3 a negative rating(0).\n",
    "def partition(x):\n",
    "    if x < 3:\n",
    "        return 0\n",
    "    return 1\n",
    "\n",
    "#changing reviews with score less than 3 to be positive and vice-versa\n",
    "filtered_data['Score'] = filtered_data[\"Score\"].map(partition)\n",
    "print(\"Number of data points in our data\", filtered_data.shape)\n",
    "filtered_data.head(3)"
   ]
  },
  {
   "cell_type": "markdown",
   "metadata": {},
   "source": [
    "#  [2] Exploratory Data Analysis"
   ]
  },
  {
   "cell_type": "markdown",
   "metadata": {},
   "source": [
    "## [2.1] Data Cleaning: Deduplication\n",
    "\n",
    "It is observed (as shown in the table below) that the reviews data had many duplicate entries. Hence it was necessary to remove duplicates in order to get unbiased results for the analysis of the data.  Following is an example:"
   ]
  },
  {
   "cell_type": "code",
   "execution_count": 3,
   "metadata": {},
   "outputs": [
    {
     "data": {
      "text/html": [
       "<div>\n",
       "<style scoped>\n",
       "    .dataframe tbody tr th:only-of-type {\n",
       "        vertical-align: middle;\n",
       "    }\n",
       "\n",
       "    .dataframe tbody tr th {\n",
       "        vertical-align: top;\n",
       "    }\n",
       "\n",
       "    .dataframe thead th {\n",
       "        text-align: right;\n",
       "    }\n",
       "</style>\n",
       "<table border=\"1\" class=\"dataframe\">\n",
       "  <thead>\n",
       "    <tr style=\"text-align: right;\">\n",
       "      <th></th>\n",
       "      <th>Id</th>\n",
       "      <th>ProductId</th>\n",
       "      <th>UserId</th>\n",
       "      <th>ProfileName</th>\n",
       "      <th>HelpfulnessNumerator</th>\n",
       "      <th>HelpfulnessDenominator</th>\n",
       "      <th>Score</th>\n",
       "      <th>Time</th>\n",
       "      <th>Summary</th>\n",
       "      <th>Text</th>\n",
       "    </tr>\n",
       "  </thead>\n",
       "  <tbody>\n",
       "    <tr>\n",
       "      <th>0</th>\n",
       "      <td>78445</td>\n",
       "      <td>B000HDL1RQ</td>\n",
       "      <td>AR5J8UI46CURR</td>\n",
       "      <td>Geetha Krishnan</td>\n",
       "      <td>2</td>\n",
       "      <td>2</td>\n",
       "      <td>5</td>\n",
       "      <td>1199577600</td>\n",
       "      <td>LOACKER QUADRATINI VANILLA WAFERS</td>\n",
       "      <td>DELICIOUS WAFERS. I FIND THAT EUROPEAN WAFERS ...</td>\n",
       "    </tr>\n",
       "    <tr>\n",
       "      <th>1</th>\n",
       "      <td>138317</td>\n",
       "      <td>B000HDOPYC</td>\n",
       "      <td>AR5J8UI46CURR</td>\n",
       "      <td>Geetha Krishnan</td>\n",
       "      <td>2</td>\n",
       "      <td>2</td>\n",
       "      <td>5</td>\n",
       "      <td>1199577600</td>\n",
       "      <td>LOACKER QUADRATINI VANILLA WAFERS</td>\n",
       "      <td>DELICIOUS WAFERS. I FIND THAT EUROPEAN WAFERS ...</td>\n",
       "    </tr>\n",
       "    <tr>\n",
       "      <th>2</th>\n",
       "      <td>138277</td>\n",
       "      <td>B000HDOPYM</td>\n",
       "      <td>AR5J8UI46CURR</td>\n",
       "      <td>Geetha Krishnan</td>\n",
       "      <td>2</td>\n",
       "      <td>2</td>\n",
       "      <td>5</td>\n",
       "      <td>1199577600</td>\n",
       "      <td>LOACKER QUADRATINI VANILLA WAFERS</td>\n",
       "      <td>DELICIOUS WAFERS. I FIND THAT EUROPEAN WAFERS ...</td>\n",
       "    </tr>\n",
       "    <tr>\n",
       "      <th>3</th>\n",
       "      <td>73791</td>\n",
       "      <td>B000HDOPZG</td>\n",
       "      <td>AR5J8UI46CURR</td>\n",
       "      <td>Geetha Krishnan</td>\n",
       "      <td>2</td>\n",
       "      <td>2</td>\n",
       "      <td>5</td>\n",
       "      <td>1199577600</td>\n",
       "      <td>LOACKER QUADRATINI VANILLA WAFERS</td>\n",
       "      <td>DELICIOUS WAFERS. I FIND THAT EUROPEAN WAFERS ...</td>\n",
       "    </tr>\n",
       "    <tr>\n",
       "      <th>4</th>\n",
       "      <td>155049</td>\n",
       "      <td>B000PAQ75C</td>\n",
       "      <td>AR5J8UI46CURR</td>\n",
       "      <td>Geetha Krishnan</td>\n",
       "      <td>2</td>\n",
       "      <td>2</td>\n",
       "      <td>5</td>\n",
       "      <td>1199577600</td>\n",
       "      <td>LOACKER QUADRATINI VANILLA WAFERS</td>\n",
       "      <td>DELICIOUS WAFERS. I FIND THAT EUROPEAN WAFERS ...</td>\n",
       "    </tr>\n",
       "  </tbody>\n",
       "</table>\n",
       "</div>"
      ],
      "text/plain": [
       "       Id   ProductId         UserId      ProfileName  HelpfulnessNumerator  \\\n",
       "0   78445  B000HDL1RQ  AR5J8UI46CURR  Geetha Krishnan                     2   \n",
       "1  138317  B000HDOPYC  AR5J8UI46CURR  Geetha Krishnan                     2   \n",
       "2  138277  B000HDOPYM  AR5J8UI46CURR  Geetha Krishnan                     2   \n",
       "3   73791  B000HDOPZG  AR5J8UI46CURR  Geetha Krishnan                     2   \n",
       "4  155049  B000PAQ75C  AR5J8UI46CURR  Geetha Krishnan                     2   \n",
       "\n",
       "   HelpfulnessDenominator  Score        Time  \\\n",
       "0                       2      5  1199577600   \n",
       "1                       2      5  1199577600   \n",
       "2                       2      5  1199577600   \n",
       "3                       2      5  1199577600   \n",
       "4                       2      5  1199577600   \n",
       "\n",
       "                             Summary  \\\n",
       "0  LOACKER QUADRATINI VANILLA WAFERS   \n",
       "1  LOACKER QUADRATINI VANILLA WAFERS   \n",
       "2  LOACKER QUADRATINI VANILLA WAFERS   \n",
       "3  LOACKER QUADRATINI VANILLA WAFERS   \n",
       "4  LOACKER QUADRATINI VANILLA WAFERS   \n",
       "\n",
       "                                                Text  \n",
       "0  DELICIOUS WAFERS. I FIND THAT EUROPEAN WAFERS ...  \n",
       "1  DELICIOUS WAFERS. I FIND THAT EUROPEAN WAFERS ...  \n",
       "2  DELICIOUS WAFERS. I FIND THAT EUROPEAN WAFERS ...  \n",
       "3  DELICIOUS WAFERS. I FIND THAT EUROPEAN WAFERS ...  \n",
       "4  DELICIOUS WAFERS. I FIND THAT EUROPEAN WAFERS ...  "
      ]
     },
     "execution_count": 3,
     "metadata": {},
     "output_type": "execute_result"
    }
   ],
   "source": [
    "display= pd.read_sql_query(\"\"\"\n",
    "SELECT *\n",
    "FROM Reviews\n",
    "WHERE Score != 3 AND UserId=\"AR5J8UI46CURR\"\n",
    "ORDER BY ProductID\n",
    "\"\"\", con)\n",
    "display.head()"
   ]
  },
  {
   "cell_type": "markdown",
   "metadata": {},
   "source": [
    "As it can be seen above that same user has multiple reviews with same values for HelpfulnessNumerator, HelpfulnessDenominator, Score, Time, Summary and Text and on doing analysis it was found that <br>\n",
    "<br> \n",
    "ProductId=B000HDOPZG was Loacker Quadratini Vanilla Wafer Cookies, 8.82-Ounce Packages (Pack of 8)<br>\n",
    "<br> \n",
    "ProductId=B000HDL1RQ was Loacker Quadratini Lemon Wafer Cookies, 8.82-Ounce Packages (Pack of 8) and so on<br>\n",
    "\n",
    "It was inferred after analysis that reviews with same parameters other than ProductId belonged to the same product just having different flavour or quantity. Hence in order to reduce redundancy it was decided to eliminate the rows having same parameters.<br>\n",
    "\n",
    "The method used for the same was that we first sort the data according to ProductId and then just keep the first similar product review and delelte the others. for eg. in the above just the review for ProductId=B000HDL1RQ remains. This method ensures that there is only one representative for each product and deduplication without sorting would lead to possibility of different representatives still existing for the same product."
   ]
  },
  {
   "cell_type": "code",
   "execution_count": 4,
   "metadata": {},
   "outputs": [],
   "source": [
    "#Sorting data according to ProductId in ascending order\n",
    "sorted_data=filtered_data.sort_values('ProductId', axis=0, ascending=True, inplace=False, kind='quicksort', na_position='last')"
   ]
  },
  {
   "cell_type": "code",
   "execution_count": 5,
   "metadata": {},
   "outputs": [
    {
     "data": {
      "text/plain": [
       "(62864, 10)"
      ]
     },
     "execution_count": 5,
     "metadata": {},
     "output_type": "execute_result"
    }
   ],
   "source": [
    "#Deduplication of entries\n",
    "final=sorted_data.drop_duplicates(subset={\"UserId\",\"ProfileName\",\"Time\",\"Text\"}, keep='first', inplace=False)\n",
    "final.shape"
   ]
  },
  {
   "cell_type": "code",
   "execution_count": 6,
   "metadata": {},
   "outputs": [
    {
     "data": {
      "text/plain": [
       "89.80571428571429"
      ]
     },
     "execution_count": 6,
     "metadata": {},
     "output_type": "execute_result"
    }
   ],
   "source": [
    "#Checking to see how much % of data still remains\n",
    "(final['Id'].size*1.0)/(filtered_data['Id'].size*1.0)*100"
   ]
  },
  {
   "cell_type": "markdown",
   "metadata": {},
   "source": [
    "<b>Observation:-</b> It was also seen that in two rows given below the value of HelpfulnessNumerator is greater than HelpfulnessDenominator which is not practically possible. Hence these two rows too are removed from calcualtions"
   ]
  },
  {
   "cell_type": "code",
   "execution_count": 7,
   "metadata": {},
   "outputs": [
    {
     "data": {
      "text/html": [
       "<div>\n",
       "<style scoped>\n",
       "    .dataframe tbody tr th:only-of-type {\n",
       "        vertical-align: middle;\n",
       "    }\n",
       "\n",
       "    .dataframe tbody tr th {\n",
       "        vertical-align: top;\n",
       "    }\n",
       "\n",
       "    .dataframe thead th {\n",
       "        text-align: right;\n",
       "    }\n",
       "</style>\n",
       "<table border=\"1\" class=\"dataframe\">\n",
       "  <thead>\n",
       "    <tr style=\"text-align: right;\">\n",
       "      <th></th>\n",
       "      <th>Id</th>\n",
       "      <th>ProductId</th>\n",
       "      <th>UserId</th>\n",
       "      <th>ProfileName</th>\n",
       "      <th>HelpfulnessNumerator</th>\n",
       "      <th>HelpfulnessDenominator</th>\n",
       "      <th>Score</th>\n",
       "      <th>Time</th>\n",
       "      <th>Summary</th>\n",
       "      <th>Text</th>\n",
       "    </tr>\n",
       "  </thead>\n",
       "  <tbody>\n",
       "    <tr>\n",
       "      <th>0</th>\n",
       "      <td>64422</td>\n",
       "      <td>B000MIDROQ</td>\n",
       "      <td>A161DK06JJMCYF</td>\n",
       "      <td>J. E. Stephens \"Jeanne\"</td>\n",
       "      <td>3</td>\n",
       "      <td>1</td>\n",
       "      <td>5</td>\n",
       "      <td>1224892800</td>\n",
       "      <td>Bought This for My Son at College</td>\n",
       "      <td>My son loves spaghetti so I didn't hesitate or...</td>\n",
       "    </tr>\n",
       "    <tr>\n",
       "      <th>1</th>\n",
       "      <td>44737</td>\n",
       "      <td>B001EQ55RW</td>\n",
       "      <td>A2V0I904FH7ABY</td>\n",
       "      <td>Ram</td>\n",
       "      <td>3</td>\n",
       "      <td>2</td>\n",
       "      <td>4</td>\n",
       "      <td>1212883200</td>\n",
       "      <td>Pure cocoa taste with crunchy almonds inside</td>\n",
       "      <td>It was almost a 'love at first bite' - the per...</td>\n",
       "    </tr>\n",
       "  </tbody>\n",
       "</table>\n",
       "</div>"
      ],
      "text/plain": [
       "      Id   ProductId          UserId              ProfileName  \\\n",
       "0  64422  B000MIDROQ  A161DK06JJMCYF  J. E. Stephens \"Jeanne\"   \n",
       "1  44737  B001EQ55RW  A2V0I904FH7ABY                      Ram   \n",
       "\n",
       "   HelpfulnessNumerator  HelpfulnessDenominator  Score        Time  \\\n",
       "0                     3                       1      5  1224892800   \n",
       "1                     3                       2      4  1212883200   \n",
       "\n",
       "                                        Summary  \\\n",
       "0             Bought This for My Son at College   \n",
       "1  Pure cocoa taste with crunchy almonds inside   \n",
       "\n",
       "                                                Text  \n",
       "0  My son loves spaghetti so I didn't hesitate or...  \n",
       "1  It was almost a 'love at first bite' - the per...  "
      ]
     },
     "execution_count": 7,
     "metadata": {},
     "output_type": "execute_result"
    }
   ],
   "source": [
    "display= pd.read_sql_query(\"\"\"\n",
    "SELECT *\n",
    "FROM Reviews\n",
    "WHERE Score != 3 AND Id=44737 OR Id=64422\n",
    "ORDER BY ProductID\n",
    "\"\"\", con)\n",
    "\n",
    "display.head()"
   ]
  },
  {
   "cell_type": "code",
   "execution_count": 8,
   "metadata": {},
   "outputs": [],
   "source": [
    "final=final[final.HelpfulnessNumerator<=final.HelpfulnessDenominator]"
   ]
  },
  {
   "cell_type": "code",
   "execution_count": 9,
   "metadata": {},
   "outputs": [
    {
     "name": "stdout",
     "output_type": "stream",
     "text": [
      "(62862, 10)\n"
     ]
    },
    {
     "data": {
      "text/plain": [
       "1    52600\n",
       "0    10262\n",
       "Name: Score, dtype: int64"
      ]
     },
     "execution_count": 9,
     "metadata": {},
     "output_type": "execute_result"
    }
   ],
   "source": [
    "#Before starting the next phase of preprocessing lets see the number of entries left\n",
    "print(final.shape)\n",
    "\n",
    "#How many positive and negative reviews are present in our dataset?\n",
    "final['Score'].value_counts()"
   ]
  },
  {
   "cell_type": "markdown",
   "metadata": {},
   "source": [
    "## [2.4] Upsampling the data for a balanced dataset"
   ]
  },
  {
   "cell_type": "code",
   "execution_count": 10,
   "metadata": {},
   "outputs": [],
   "source": [
    "# final_neg = final[final.Score==0]\n",
    "# final_neg_upsampled = resample(final_neg, replace=True, n_samples=38000, random_state=1)"
   ]
  },
  {
   "cell_type": "code",
   "execution_count": 11,
   "metadata": {
    "scrolled": true
   },
   "outputs": [],
   "source": [
    "# final = pd.concat([final[final.Score==1], final_neg_upsampled])\n",
    "# final.shape"
   ]
  },
  {
   "cell_type": "markdown",
   "metadata": {},
   "source": [
    "## [2.5] Sorting the data according to Time"
   ]
  },
  {
   "cell_type": "code",
   "execution_count": 12,
   "metadata": {},
   "outputs": [],
   "source": [
    "final = final.sort_values(by=\"Time\", ascending=True).reset_index(drop=True)"
   ]
  },
  {
   "cell_type": "code",
   "execution_count": 13,
   "metadata": {},
   "outputs": [
    {
     "data": {
      "text/html": [
       "<div>\n",
       "<style scoped>\n",
       "    .dataframe tbody tr th:only-of-type {\n",
       "        vertical-align: middle;\n",
       "    }\n",
       "\n",
       "    .dataframe tbody tr th {\n",
       "        vertical-align: top;\n",
       "    }\n",
       "\n",
       "    .dataframe thead th {\n",
       "        text-align: right;\n",
       "    }\n",
       "</style>\n",
       "<table border=\"1\" class=\"dataframe\">\n",
       "  <thead>\n",
       "    <tr style=\"text-align: right;\">\n",
       "      <th></th>\n",
       "      <th>Id</th>\n",
       "      <th>ProductId</th>\n",
       "      <th>UserId</th>\n",
       "      <th>ProfileName</th>\n",
       "      <th>HelpfulnessNumerator</th>\n",
       "      <th>HelpfulnessDenominator</th>\n",
       "      <th>Score</th>\n",
       "      <th>Time</th>\n",
       "      <th>Summary</th>\n",
       "      <th>Text</th>\n",
       "    </tr>\n",
       "  </thead>\n",
       "  <tbody>\n",
       "    <tr>\n",
       "      <th>0</th>\n",
       "      <td>1245</td>\n",
       "      <td>B00002Z754</td>\n",
       "      <td>A29Z5PI9BW2PU3</td>\n",
       "      <td>Robbie</td>\n",
       "      <td>7</td>\n",
       "      <td>7</td>\n",
       "      <td>1</td>\n",
       "      <td>961718400</td>\n",
       "      <td>Great Product</td>\n",
       "      <td>This was a really good idea and the final prod...</td>\n",
       "    </tr>\n",
       "    <tr>\n",
       "      <th>1</th>\n",
       "      <td>1244</td>\n",
       "      <td>B00002Z754</td>\n",
       "      <td>A3B8RCEI0FXFI6</td>\n",
       "      <td>B G Chase</td>\n",
       "      <td>10</td>\n",
       "      <td>10</td>\n",
       "      <td>1</td>\n",
       "      <td>962236800</td>\n",
       "      <td>WOW Make your own 'slickers' !</td>\n",
       "      <td>I just received my shipment and could hardly w...</td>\n",
       "    </tr>\n",
       "    <tr>\n",
       "      <th>2</th>\n",
       "      <td>30629</td>\n",
       "      <td>B00008RCMI</td>\n",
       "      <td>A19E94CF5O1LY7</td>\n",
       "      <td>Andrew Arnold</td>\n",
       "      <td>0</td>\n",
       "      <td>0</td>\n",
       "      <td>1</td>\n",
       "      <td>1067040000</td>\n",
       "      <td>I've chewed this gum many times, but used?</td>\n",
       "      <td>Nothing against the product, but it does bothe...</td>\n",
       "    </tr>\n",
       "    <tr>\n",
       "      <th>3</th>\n",
       "      <td>30630</td>\n",
       "      <td>B00008RCMI</td>\n",
       "      <td>A284C7M23F0APC</td>\n",
       "      <td>A. Mendoza</td>\n",
       "      <td>0</td>\n",
       "      <td>0</td>\n",
       "      <td>1</td>\n",
       "      <td>1067040000</td>\n",
       "      <td>Best sugarless gum ever!</td>\n",
       "      <td>I love this stuff. It is sugar-free so it does...</td>\n",
       "    </tr>\n",
       "    <tr>\n",
       "      <th>4</th>\n",
       "      <td>66610</td>\n",
       "      <td>B0000SY9U4</td>\n",
       "      <td>A3EEDHNHI4WNSH</td>\n",
       "      <td>Joanna J. Young</td>\n",
       "      <td>23</td>\n",
       "      <td>23</td>\n",
       "      <td>1</td>\n",
       "      <td>1067472000</td>\n",
       "      <td>Yummy</td>\n",
       "      <td>If you've never tried Kona coffee, Aloha Islan...</td>\n",
       "    </tr>\n",
       "  </tbody>\n",
       "</table>\n",
       "</div>"
      ],
      "text/plain": [
       "      Id   ProductId          UserId      ProfileName  HelpfulnessNumerator  \\\n",
       "0   1245  B00002Z754  A29Z5PI9BW2PU3           Robbie                     7   \n",
       "1   1244  B00002Z754  A3B8RCEI0FXFI6        B G Chase                    10   \n",
       "2  30629  B00008RCMI  A19E94CF5O1LY7    Andrew Arnold                     0   \n",
       "3  30630  B00008RCMI  A284C7M23F0APC       A. Mendoza                     0   \n",
       "4  66610  B0000SY9U4  A3EEDHNHI4WNSH  Joanna J. Young                    23   \n",
       "\n",
       "   HelpfulnessDenominator  Score        Time  \\\n",
       "0                       7      1   961718400   \n",
       "1                      10      1   962236800   \n",
       "2                       0      1  1067040000   \n",
       "3                       0      1  1067040000   \n",
       "4                      23      1  1067472000   \n",
       "\n",
       "                                      Summary  \\\n",
       "0                               Great Product   \n",
       "1              WOW Make your own 'slickers' !   \n",
       "2  I've chewed this gum many times, but used?   \n",
       "3                    Best sugarless gum ever!   \n",
       "4                                       Yummy   \n",
       "\n",
       "                                                Text  \n",
       "0  This was a really good idea and the final prod...  \n",
       "1  I just received my shipment and could hardly w...  \n",
       "2  Nothing against the product, but it does bothe...  \n",
       "3  I love this stuff. It is sugar-free so it does...  \n",
       "4  If you've never tried Kona coffee, Aloha Islan...  "
      ]
     },
     "execution_count": 13,
     "metadata": {},
     "output_type": "execute_result"
    }
   ],
   "source": [
    "#Verifying the data\n",
    "final.head(5)"
   ]
  },
  {
   "cell_type": "code",
   "execution_count": 14,
   "metadata": {},
   "outputs": [
    {
     "data": {
      "text/html": [
       "<div>\n",
       "<style scoped>\n",
       "    .dataframe tbody tr th:only-of-type {\n",
       "        vertical-align: middle;\n",
       "    }\n",
       "\n",
       "    .dataframe tbody tr th {\n",
       "        vertical-align: top;\n",
       "    }\n",
       "\n",
       "    .dataframe thead th {\n",
       "        text-align: right;\n",
       "    }\n",
       "</style>\n",
       "<table border=\"1\" class=\"dataframe\">\n",
       "  <thead>\n",
       "    <tr style=\"text-align: right;\">\n",
       "      <th></th>\n",
       "      <th>Id</th>\n",
       "      <th>ProductId</th>\n",
       "      <th>UserId</th>\n",
       "      <th>ProfileName</th>\n",
       "      <th>HelpfulnessNumerator</th>\n",
       "      <th>HelpfulnessDenominator</th>\n",
       "      <th>Score</th>\n",
       "      <th>Time</th>\n",
       "      <th>Summary</th>\n",
       "      <th>Text</th>\n",
       "    </tr>\n",
       "  </thead>\n",
       "  <tbody>\n",
       "    <tr>\n",
       "      <th>62857</th>\n",
       "      <td>47562</td>\n",
       "      <td>B004M0Y8T8</td>\n",
       "      <td>A2QJS6MHTIFSRI</td>\n",
       "      <td>Georgie</td>\n",
       "      <td>0</td>\n",
       "      <td>0</td>\n",
       "      <td>1</td>\n",
       "      <td>1351209600</td>\n",
       "      <td>Sleeping a lot better</td>\n",
       "      <td>Hubby and I (both 63) have been drinking about...</td>\n",
       "    </tr>\n",
       "    <tr>\n",
       "      <th>62858</th>\n",
       "      <td>20930</td>\n",
       "      <td>B001L1MKLY</td>\n",
       "      <td>A38XYFHXEUNUW6</td>\n",
       "      <td>bleaufire</td>\n",
       "      <td>0</td>\n",
       "      <td>0</td>\n",
       "      <td>1</td>\n",
       "      <td>1351209600</td>\n",
       "      <td>Yummy &amp; Subtle</td>\n",
       "      <td>Just made my first pot of this wonderful coffe...</td>\n",
       "    </tr>\n",
       "    <tr>\n",
       "      <th>62859</th>\n",
       "      <td>32932</td>\n",
       "      <td>B001P05K8Q</td>\n",
       "      <td>A3L0B5NBTQ7ZHO</td>\n",
       "      <td>Julie</td>\n",
       "      <td>0</td>\n",
       "      <td>0</td>\n",
       "      <td>1</td>\n",
       "      <td>1351209600</td>\n",
       "      <td>Great results but they stink</td>\n",
       "      <td>We originally purchased these chews from our v...</td>\n",
       "    </tr>\n",
       "    <tr>\n",
       "      <th>62860</th>\n",
       "      <td>7178</td>\n",
       "      <td>B004OQLIHK</td>\n",
       "      <td>AKHQMSUORSA91</td>\n",
       "      <td>Pen Name</td>\n",
       "      <td>0</td>\n",
       "      <td>0</td>\n",
       "      <td>1</td>\n",
       "      <td>1351209600</td>\n",
       "      <td>Delicious!</td>\n",
       "      <td>I have ordered these raisins multiple times.  ...</td>\n",
       "    </tr>\n",
       "    <tr>\n",
       "      <th>62861</th>\n",
       "      <td>5703</td>\n",
       "      <td>B009WSNWC4</td>\n",
       "      <td>AMP7K1O84DH1T</td>\n",
       "      <td>ESTY</td>\n",
       "      <td>0</td>\n",
       "      <td>0</td>\n",
       "      <td>1</td>\n",
       "      <td>1351209600</td>\n",
       "      <td>DELICIOUS</td>\n",
       "      <td>Purchased this product at a local store in NY ...</td>\n",
       "    </tr>\n",
       "  </tbody>\n",
       "</table>\n",
       "</div>"
      ],
      "text/plain": [
       "          Id   ProductId          UserId ProfileName  HelpfulnessNumerator  \\\n",
       "62857  47562  B004M0Y8T8  A2QJS6MHTIFSRI     Georgie                     0   \n",
       "62858  20930  B001L1MKLY  A38XYFHXEUNUW6   bleaufire                     0   \n",
       "62859  32932  B001P05K8Q  A3L0B5NBTQ7ZHO       Julie                     0   \n",
       "62860   7178  B004OQLIHK   AKHQMSUORSA91    Pen Name                     0   \n",
       "62861   5703  B009WSNWC4   AMP7K1O84DH1T        ESTY                     0   \n",
       "\n",
       "       HelpfulnessDenominator  Score        Time  \\\n",
       "62857                       0      1  1351209600   \n",
       "62858                       0      1  1351209600   \n",
       "62859                       0      1  1351209600   \n",
       "62860                       0      1  1351209600   \n",
       "62861                       0      1  1351209600   \n",
       "\n",
       "                            Summary  \\\n",
       "62857         Sleeping a lot better   \n",
       "62858                Yummy & Subtle   \n",
       "62859  Great results but they stink   \n",
       "62860                    Delicious!   \n",
       "62861                     DELICIOUS   \n",
       "\n",
       "                                                    Text  \n",
       "62857  Hubby and I (both 63) have been drinking about...  \n",
       "62858  Just made my first pot of this wonderful coffe...  \n",
       "62859  We originally purchased these chews from our v...  \n",
       "62860  I have ordered these raisins multiple times.  ...  \n",
       "62861  Purchased this product at a local store in NY ...  "
      ]
     },
     "execution_count": 14,
     "metadata": {},
     "output_type": "execute_result"
    }
   ],
   "source": [
    "final.tail(5)"
   ]
  },
  {
   "cell_type": "markdown",
   "metadata": {},
   "source": [
    "#  [3] Preprocessing"
   ]
  },
  {
   "cell_type": "markdown",
   "metadata": {},
   "source": [
    "## [3.1].  Preprocessing Review Text\n",
    "\n",
    "Now that we have finished deduplication our data requires some preprocessing before we go on further with analysis and making the prediction model.\n",
    "\n",
    "Hence in the Preprocessing phase we do the following in the order below:-\n",
    "\n",
    "1. Begin by removing the html tags\n",
    "2. Remove any punctuations or limited set of special characters like , or . or # etc.\n",
    "3. Check if the word is made up of english letters and is not alpha-numeric\n",
    "4. Check to see if the length of the word is greater than 2 (as it was researched that there is no adjective in 2-letters)\n",
    "5. Convert the word to lowercase\n",
    "6. Remove Stopwords\n",
    "7. Finally Snowball Stemming the word (it was obsereved to be better than Porter Stemming)<br>\n",
    "\n",
    "After which we collect the words used to describe positive and negative reviews"
   ]
  },
  {
   "cell_type": "code",
   "execution_count": 15,
   "metadata": {},
   "outputs": [],
   "source": [
    "from bs4 import BeautifulSoup\n",
    "\n",
    "def cleanhtml(dirtytext):\n",
    "    return BeautifulSoup(dirtytext, \"html.parser\").get_text()"
   ]
  },
  {
   "cell_type": "code",
   "execution_count": 16,
   "metadata": {},
   "outputs": [],
   "source": [
    "# https://stackoverflow.com/a/47091490/4084039\n",
    "import re\n",
    "\n",
    "def decontracted(phrase):\n",
    "    # specific\n",
    "    phrase = re.sub(r\"won't\", \"will not\", phrase)\n",
    "    phrase = re.sub(r\"can\\'t\", \"can not\", phrase)\n",
    "\n",
    "    # general\n",
    "    phrase = re.sub(r\"n\\'t\", \" not\", phrase)\n",
    "    phrase = re.sub(r\"\\'re\", \" are\", phrase)\n",
    "    phrase = re.sub(r\"\\'s\", \" is\", phrase)\n",
    "    phrase = re.sub(r\"\\'d\", \" would\", phrase)\n",
    "    phrase = re.sub(r\"\\'ll\", \" will\", phrase)\n",
    "    phrase = re.sub(r\"\\'t\", \" not\", phrase)\n",
    "    phrase = re.sub(r\"\\'ve\", \" have\", phrase)\n",
    "    phrase = re.sub(r\"\\'m\", \" am\", phrase)\n",
    "    return phrase"
   ]
  },
  {
   "cell_type": "code",
   "execution_count": 17,
   "metadata": {},
   "outputs": [],
   "source": [
    "#Storing the stopwords of english\n",
    "stopwords = set(nltk.corpus.stopwords.words(\"english\"))\n",
    "# stopwords"
   ]
  },
  {
   "cell_type": "code",
   "execution_count": 18,
   "metadata": {},
   "outputs": [],
   "source": [
    "#function to remove stopwords, removing alphaneumeric words and lowering caps\n",
    "def secondClean(text):\n",
    "    filtered_words = []\n",
    "    text = re.sub('[^A-Za-z]+', ' ', text)\n",
    "    for x in text.split():\n",
    "        if x not in stopwords and x.isalpha():\n",
    "            filtered_words.append(x.lower())\n",
    "    return \" \".join(filtered_words).strip()"
   ]
  },
  {
   "cell_type": "code",
   "execution_count": 19,
   "metadata": {},
   "outputs": [
    {
     "name": "stdout",
     "output_type": "stream",
     "text": [
      "XYZZYSPOON!\n",
      "auld lang syne\n"
     ]
    }
   ],
   "source": [
    "#Testing function:\n",
    "x = cleanhtml(\"<div><a>XYZZYSPOON!</a></div>\")\n",
    "print(x)\n",
    "print(secondClean(\"[Auld] [Lang Syne\"))"
   ]
  },
  {
   "cell_type": "code",
   "execution_count": 20,
   "metadata": {},
   "outputs": [],
   "source": [
    "#Preprocessing the reviews\n",
    "final[\"CleanedText\"] = final[\"Text\"].apply(lambda x:cleanhtml(x))\n",
    "final[\"CleanedText\"] = final[\"CleanedText\"].apply(lambda x: decontracted(x))\n",
    "final[\"CleanedText\"] = final[\"CleanedText\"].apply(lambda x: secondClean(x))"
   ]
  },
  {
   "cell_type": "code",
   "execution_count": 21,
   "metadata": {},
   "outputs": [
    {
     "data": {
      "text/plain": [
       "'this really good idea final product outstanding i use decals car window everybody asks bought decals made two thumbs'"
      ]
     },
     "execution_count": 21,
     "metadata": {},
     "output_type": "execute_result"
    }
   ],
   "source": [
    "final[\"CleanedText\"].values[0]"
   ]
  },
  {
   "cell_type": "code",
   "execution_count": 22,
   "metadata": {},
   "outputs": [
    {
     "data": {
      "text/plain": [
       "'This was a really good idea and the final product is outstanding. I use the decals on my car window and everybody asks where i bought the decals i made.  Two thumbs up!'"
      ]
     },
     "execution_count": 22,
     "metadata": {},
     "output_type": "execute_result"
    }
   ],
   "source": [
    "final[\"Text\"].values[0]"
   ]
  },
  {
   "cell_type": "markdown",
   "metadata": {},
   "source": [
    "# [4] Applying SVM"
   ]
  },
  {
   "cell_type": "markdown",
   "metadata": {},
   "source": [
    "### General functions for smooth sailing"
   ]
  },
  {
   "cell_type": "code",
   "execution_count": 23,
   "metadata": {},
   "outputs": [],
   "source": [
    "from sklearn.linear_model import SGDClassifier\n",
    "from sklearn.svm import SVC"
   ]
  },
  {
   "cell_type": "code",
   "execution_count": 24,
   "metadata": {},
   "outputs": [],
   "source": [
    "def imp_features(feature_names, classifier, label, n=10):\n",
    "#     class_labels=classifier.classes_\n",
    "    if label==1:\n",
    "        topn_class = sorted(zip(classifier.coef_[0], feature_names),reverse=True)[:n]\n",
    "    if label==0:\n",
    "        topn_class = sorted(zip(classifier.coef_[0], feature_names),reverse=False)[:n]\n",
    "    x = PrettyTable()\n",
    "    x.field_names = [\"Coefficient\", \"Feature Name\"]\n",
    "    for coef, feature in topn_class:\n",
    "        x.add_row([coef, feature])\n",
    "    print(x)"
   ]
  },
  {
   "cell_type": "code",
   "execution_count": 35,
   "metadata": {},
   "outputs": [],
   "source": [
    "def get_best_hyperparam(X_train, X_test, y_train, y_test, linear=True, pen=\"l2\"):\n",
    "    clf_score = []\n",
    "    iterator = np.linspace(0.0001, 10000, 80)\n",
    "    if linear==True:\n",
    "        for hyper in tqdm(iterator):\n",
    "            sgd = SGDClassifier(loss=\"hinge\", penalty=pen, alpha=hyper)\n",
    "            clf = CalibratedClassifierCV(sgd)\n",
    "            clf.fit(X_train, y_train)\n",
    "            train_pred_proba = clf.predict_proba(X_train)[:, 1]\n",
    "            test_pred_proba = clf.predict_proba(X_test)[:, 1]\n",
    "            roc_auc_test =roc_auc_score(y_test, test_pred_proba)\n",
    "            roc_auc_train =roc_auc_score(y_train, train_pred_proba)\n",
    "            clf_score.append([hyper, roc_auc_train, roc_auc_test])\n",
    "    if linear==False:\n",
    "        iterator = np.linspace(0.0001, 10000, 4)\n",
    "        for hyper in tqdm(iterator):\n",
    "            svm = SVC(C=hyper, class_weight=\"balanced\")\n",
    "            clf = CalibratedClassifierCV(svm)\n",
    "            X_test = X_test[:10000]\n",
    "            y_test = y_test[:10000]\n",
    "            clf.fit(X_train, y_train)\n",
    "            train_pred_proba = clf.predict_proba(X_train)[:, 1]\n",
    "            test_pred_proba = clf.predict_proba(X_test)[:, 1]\n",
    "            roc_auc_test =roc_auc_score(y_test, test_pred_proba)\n",
    "            roc_auc_train =roc_auc_score(y_train, train_pred_proba)\n",
    "            clf_score.append([hyper, roc_auc_train, roc_auc_test])\n",
    "            \n",
    "    highest_acc = max(clf_score, key=lambda x:x[2])\n",
    "    best_c = highest_acc[0]\n",
    "    sns.lineplot([x[0] for x in clf_score], [x[1] for x in clf_score], \\\n",
    "             color =\"blue\", label=\"Training AUC\")\n",
    "    sns.scatterplot([x[0] for x in clf_score], [x[1] for x in clf_score], \\\n",
    "                 color =\"red\")\n",
    "    sns.lineplot([x[0] for x in clf_score], [x[2] for x in clf_score], \\\n",
    "                 color =\"red\", label=\"Testing AUC\")\n",
    "    sns.scatterplot([x[0] for x in clf_score], [x[2] for x in clf_score], \\\n",
    "                 color =\"blue\")\n",
    "    plt.xlabel(\"log(Hyperparameter)\")\n",
    "    plt.ylabel(\"AUC\")\n",
    "    plt.title(\"log(Hyperparameter) vs ROC_AUC\")\n",
    "    plt.xscale(\"log\")\n",
    "    plt.legend()\n",
    "    plt.show()\n",
    "    \n",
    "    if linear==True:\n",
    "        sgd = SGDClassifier(loss=\"hinge\", penalty=pen, alpha=best_c)\n",
    "        clf = CalibratedClassifierCV(sgd)\n",
    "        generate_confusion(clf, X_train, X_test, y_train, y_test)\n",
    "        f_auc = generate_roc(clf, best_c, X_train, X_test, y_train, y_test)\n",
    "    else:\n",
    "        svm = SVC(C=best_c, class_weight=\"balanced\")\n",
    "        clf = CalibratedClassifierCV(svm)\n",
    "        generate_confusion(clf, X_train, X_test, y_train, y_test)\n",
    "        f_auc = generate_roc(clf, best_c, X_train, X_test, y_train, y_test)\n",
    "    return best_c, f_auc"
   ]
  },
  {
   "cell_type": "code",
   "execution_count": 26,
   "metadata": {},
   "outputs": [],
   "source": [
    "def generate_roc(clf, best_c, X_train, X_test, y_train, y_test):\n",
    "    \n",
    "#     clf = CalibratedClassifierCV(sgd)\n",
    "    clf.fit(X_train, y_train)\n",
    "    y_train_pred_proba = clf.predict_proba(X_train)[:, 1]\n",
    "    fpr_train, tpr_train, thres_train = roc_curve(y_train, y_train_pred_proba)\n",
    "    y_pred_proba = clf.predict_proba(X_test)[:, 1]\n",
    "    fpr, tpr, thres = roc_curve(y_test, y_pred_proba)\n",
    "    ra_s =roc_auc_score(y_test,y_pred_proba)\n",
    "    ra_tr =roc_auc_score(y_train, y_train_pred_proba)\n",
    "    plt.plot([0,1],[0,1],'k--', label=\"Dummy Model\")\n",
    "    plt.plot(fpr_train,tpr_train, 'b', label=f'Training Curve = {ra_tr}')\n",
    "    plt.plot(fpr,tpr, 'r', label=f'Testing AUC = {ra_s}')\n",
    "    plt.xlabel('FPR')\n",
    "    plt.ylabel('TPR')\n",
    "    plt.title(f\"C = {best_c} ROC curve\")\n",
    "    plt.legend()\n",
    "    plt.show()\n",
    "    \n",
    "    return ra_s    "
   ]
  },
  {
   "cell_type": "code",
   "execution_count": 27,
   "metadata": {},
   "outputs": [],
   "source": [
    "def generate_confusion(clf, X_train, X_test, y_train, y_test):\n",
    "    \n",
    "#     clf = CalibratedClassifierCV(sgd)\n",
    "    clf.fit(X_train, y_train)\n",
    "    \n",
    "    train_pred = clf.predict(X_train)\n",
    "    cm = confusion_matrix(y_train, train_pred)\n",
    "    labels = ['0', '1']\n",
    "    df_cm = pd.DataFrame(cm, index = labels, columns = labels)\n",
    "    sns.heatmap(df_cm, annot = True, fmt = \"d\")\n",
    "    plt.title(\"Confusion Matrix for Training Data\")\n",
    "    plt.xlabel(\"Predicted Label\")\n",
    "    plt.ylabel(\"Actual Label\")\n",
    "    plt.show()\n",
    "    \n",
    "    y_pred = clf.predict(X_test)\n",
    "    cm = confusion_matrix(y_test, y_pred)\n",
    "    labels = ['0', '1']\n",
    "    df_cm = pd.DataFrame(cm, index = labels, columns = labels)\n",
    "    sns.heatmap(df_cm, annot = True, fmt = \"d\")\n",
    "    plt.title(\"Confusion Matrix for Test Data\")\n",
    "    plt.xlabel(\"Predicted Label\")\n",
    "    plt.ylabel(\"Actual Label\")\n",
    "    plt.show()\n",
    "    return"
   ]
  },
  {
   "cell_type": "code",
   "execution_count": 28,
   "metadata": {},
   "outputs": [],
   "source": [
    "#Splitting the dataset into train_test\n",
    "from sklearn.model_selection import train_test_split\n",
    "\n",
    "X = final[\"CleanedText\"].values\n",
    "y = final[\"Score\"].values\n",
    "X_train, X_test, y_train, y_test = train_test_split(X, y, test_size=0.3, random_state=0)"
   ]
  },
  {
   "cell_type": "markdown",
   "metadata": {},
   "source": [
    "## [4.1] Applying SVM with BOW"
   ]
  },
  {
   "cell_type": "markdown",
   "metadata": {},
   "source": [
    "### [4.1.1] Applying Linear Kernel SVM with BOW"
   ]
  },
  {
   "cell_type": "code",
   "execution_count": 29,
   "metadata": {},
   "outputs": [],
   "source": [
    "#Creating a bow instance\n",
    "bow = CountVectorizer(ngram_range=(1,2))\n",
    "X_train_bow = bow.fit_transform(X_train)\n",
    "X_test_bow = bow.transform(X_test)"
   ]
  },
  {
   "cell_type": "code",
   "execution_count": 30,
   "metadata": {},
   "outputs": [
    {
     "name": "stderr",
     "output_type": "stream",
     "text": [
      "100%|██████████████████████████████████████████████████████████████████████████████████| 80/80 [01:44<00:00,  1.20s/it]\n"
     ]
    },
    {
     "data": {
      "image/png": "[encoded data removed]",
      "text/plain": [
       "<Figure size 432x288 with 1 Axes>"
      ]
     },
     "metadata": {
      "needs_background": "light"
     },
     "output_type": "display_data"
    },
    {
     "data": {
      "image/png": "[encoded data removed]",
      "text/plain": [
       "<Figure size 432x288 with 2 Axes>"
      ]
     },
     "metadata": {
      "needs_background": "light"
     },
     "output_type": "display_data"
    },
    {
     "data": {
      "image/png": "[encoded data removed]",
      "text/plain": [
       "<Figure size 432x288 with 2 Axes>"
      ]
     },
     "metadata": {
      "needs_background": "light"
     },
     "output_type": "display_data"
    },
    {
     "data": {
      "image/png": "[encoded data removed]",
      "text/plain": [
       "<Figure size 432x288 with 1 Axes>"
      ]
     },
     "metadata": {
      "needs_background": "light"
     },
     "output_type": "display_data"
    },
    {
     "name": "stdout",
     "output_type": "stream",
     "text": [
      "Wall time: 1min 47s\n"
     ]
    }
   ],
   "source": [
    "%%time\n",
    "linear_bow, linear_bow_auc = get_best_hyperparam(X_train_bow, X_test_bow, y_train, y_test,linear=True, pen=\"l2\")"
   ]
  },
  {
   "cell_type": "markdown",
   "metadata": {},
   "source": [
    "### [4.1.2] Applying RBF Kernel SVM with BOW"
   ]
  },
  {
   "cell_type": "code",
   "execution_count": 31,
   "metadata": {},
   "outputs": [],
   "source": [
    "#Creating a bow instance\n",
    "bow = CountVectorizer(ngram_range=(1,2), min_df=10, max_features=500)\n",
    "X_train_bow = bow.fit_transform(X_train[:10000])\n",
    "X_test_bow = bow.transform(X_test)"
   ]
  },
  {
   "cell_type": "code",
   "execution_count": 32,
   "metadata": {},
   "outputs": [
    {
     "name": "stderr",
     "output_type": "stream",
     "text": [
      "100%|█████████████████████████████████████████████████████████████████████████████████| 10/10 [33:23<00:00, 207.70s/it]\n"
     ]
    },
    {
     "data": {
      "image/png": "[encoded data removed]",
      "text/plain": [
       "<Figure size 432x288 with 1 Axes>"
      ]
     },
     "metadata": {
      "needs_background": "light"
     },
     "output_type": "display_data"
    },
    {
     "data": {
      "image/png": "[encoded data removed]",
      "text/plain": [
       "<Figure size 432x288 with 2 Axes>"
      ]
     },
     "metadata": {
      "needs_background": "light"
     },
     "output_type": "display_data"
    },
    {
     "data": {
      "image/png": "[encoded data removed]",
      "text/plain": [
       "<Figure size 432x288 with 2 Axes>"
      ]
     },
     "metadata": {
      "needs_background": "light"
     },
     "output_type": "display_data"
    },
    {
     "data": {
      "image/png": "[encoded data removed]",
      "text/plain": [
       "<Figure size 432x288 with 1 Axes>"
      ]
     },
     "metadata": {
      "needs_background": "light"
     },
     "output_type": "display_data"
    }
   ],
   "source": [
    "rbf_bow, rbf_bow_auc = get_best_hyperparam(X_train_bow, X_test_bow, y_train[:10000], y_test, linear=False, pen=\"l1\")"
   ]
  },
  {
   "cell_type": "markdown",
   "metadata": {},
   "source": [
    "### [4.1.3] Top 10 words of each class"
   ]
  },
  {
   "cell_type": "markdown",
   "metadata": {},
   "source": [
    "#### Positive Class"
   ]
  },
  {
   "cell_type": "code",
   "execution_count": 33,
   "metadata": {},
   "outputs": [
    {
     "name": "stdout",
     "output_type": "stream",
     "text": [
      "+--------------------+--------------+\n",
      "|    Coefficient     | Feature Name |\n",
      "+--------------------+--------------+\n",
      "| 2.0792285072129553 |   perfect    |\n",
      "| 1.9802176259170996 |  delicious   |\n",
      "| 1.8812067446212344 |    loves     |\n",
      "| 1.5841741007336698 |    great     |\n",
      "| 1.485163219437818  |     nice     |\n",
      "| 1.386152338141965  |     best     |\n",
      "| 1.2871414568461177 |  recommend   |\n",
      "| 1.1881305755502638 |     find     |\n",
      "| 1.1881305755502614 |    sweet     |\n",
      "| 1.1881305755502596 |    price     |\n",
      "+--------------------+--------------+\n"
     ]
    }
   ],
   "source": [
    "clf = SGDClassifier(loss=\"hinge\", penalty=\"l2\", alpha=linear_bow)\n",
    "clf.fit(X_train_bow, y_train[:20000])\n",
    "imp_features(bow.get_feature_names(), clf, 1, n=10)"
   ]
  },
  {
   "cell_type": "markdown",
   "metadata": {},
   "source": [
    "#### Negative Class"
   ]
  },
  {
   "cell_type": "code",
   "execution_count": 34,
   "metadata": {},
   "outputs": [
    {
     "name": "stdout",
     "output_type": "stream",
     "text": [
      "+---------------------+--------------+\n",
      "|     Coefficient     | Feature Name |\n",
      "+---------------------+--------------+\n",
      "| -1.2871414568461093 |    bought    |\n",
      "|  -1.089119694254397 |    brand     |\n",
      "| -0.9901088129585475 |    would     |\n",
      "| -0.9901088129585449 |     even     |\n",
      "| -0.9901088129585363 |     the      |\n",
      "| -0.7920870503668404 |     box      |\n",
      "| -0.7920870503668368 |     much     |\n",
      "| -0.7920870503668335 |    taste     |\n",
      "| -0.7920870503668331 |   product    |\n",
      "| -0.6930761690709807 |     made     |\n",
      "+---------------------+--------------+\n"
     ]
    }
   ],
   "source": [
    "imp_features(bow.get_feature_names(), clf, 0, n=10)"
   ]
  },
  {
   "cell_type": "markdown",
   "metadata": {},
   "source": [
    "## [4.2] Applying SVM with tf-idf"
   ]
  },
  {
   "cell_type": "code",
   "execution_count": 35,
   "metadata": {},
   "outputs": [
    {
     "name": "stdout",
     "output_type": "stream",
     "text": [
      "Wall time: 7.59 s\n"
     ]
    }
   ],
   "source": [
    "%%time\n",
    "tf_idf = TfidfVectorizer(ngram_range=(1,2), min_df=10)\n",
    "X_train_tf_idf = tf_idf.fit_transform(X_train)\n",
    "X_test_tf_idf = tf_idf.transform(X_test)"
   ]
  },
  {
   "cell_type": "markdown",
   "metadata": {},
   "source": [
    "### [4.2.1] Applying Linear SVM with tf-idf"
   ]
  },
  {
   "cell_type": "code",
   "execution_count": 36,
   "metadata": {},
   "outputs": [
    {
     "name": "stderr",
     "output_type": "stream",
     "text": [
      "100%|██████████████████████████████████████████████████████████████████████████████████| 80/80 [00:32<00:00,  2.47it/s]\n"
     ]
    },
    {
     "data": {
      "image/png": "[encoded data removed]",
      "text/plain": [
       "<Figure size 432x288 with 1 Axes>"
      ]
     },
     "metadata": {
      "needs_background": "light"
     },
     "output_type": "display_data"
    },
    {
     "data": {
      "image/png": "[encoded data removed]",
      "text/plain": [
       "<Figure size 432x288 with 2 Axes>"
      ]
     },
     "metadata": {
      "needs_background": "light"
     },
     "output_type": "display_data"
    },
    {
     "data": {
      "image/png": "[encoded data removed]",
      "text/plain": [
       "<Figure size 432x288 with 2 Axes>"
      ]
     },
     "metadata": {
      "needs_background": "light"
     },
     "output_type": "display_data"
    },
    {
     "data": {
      "image/png": "[encoded data removed]",
      "text/plain": [
       "<Figure size 432x288 with 1 Axes>"
      ]
     },
     "metadata": {
      "needs_background": "light"
     },
     "output_type": "display_data"
    },
    {
     "name": "stdout",
     "output_type": "stream",
     "text": [
      "Wall time: 33.7 s\n"
     ]
    }
   ],
   "source": [
    "%%time\n",
    "linear_tfidf, linear_tfidf_auc = get_best_hyperparam(X_train_tf_idf, X_test_tf_idf, y_train, y_test,linear=True, pen=\"l1\")"
   ]
  },
  {
   "cell_type": "markdown",
   "metadata": {},
   "source": [
    "### [4.2.2] Applying RBF Kernel SVM with TFIDF"
   ]
  },
  {
   "cell_type": "code",
   "execution_count": 40,
   "metadata": {},
   "outputs": [],
   "source": [
    "#Creating a bow instance\n",
    "tfidf = TfidfVectorizer(ngram_range=(1,2), min_df=10, max_features=500)\n",
    "X_train_tfidf = tfidf.fit_transform(X_train[:10000])\n",
    "X_test_tfidf = tfidf.transform(X_test)"
   ]
  },
  {
   "cell_type": "code",
   "execution_count": 38,
   "metadata": {},
   "outputs": [
    {
     "name": "stderr",
     "output_type": "stream",
     "text": [
      "100%|██████████████████████████████████████████████████████████████████████████████████| 10/10 [10:39<00:00, 62.25s/it]\n"
     ]
    },
    {
     "data": {
      "image/png": "[encoded data removed]",
      "text/plain": [
       "<Figure size 432x288 with 1 Axes>"
      ]
     },
     "metadata": {
      "needs_background": "light"
     },
     "output_type": "display_data"
    },
    {
     "data": {
      "image/png": "[encoded data removed]",
      "text/plain": [
       "<Figure size 432x288 with 2 Axes>"
      ]
     },
     "metadata": {
      "needs_background": "light"
     },
     "output_type": "display_data"
    },
    {
     "data": {
      "image/png": "[encoded data removed]",
      "text/plain": [
       "<Figure size 432x288 with 2 Axes>"
      ]
     },
     "metadata": {
      "needs_background": "light"
     },
     "output_type": "display_data"
    },
    {
     "data": {
      "image/png": "[encoded data removed]",
      "text/plain": [
       "<Figure size 432x288 with 1 Axes>"
      ]
     },
     "metadata": {
      "needs_background": "light"
     },
     "output_type": "display_data"
    },
    {
     "name": "stdout",
     "output_type": "stream",
     "text": [
      "Wall time: 12min 40s\n"
     ]
    }
   ],
   "source": [
    "%%time\n",
    "rbf_tfidf, rbf_tfidf_auc = get_best_hyperparam(X_train_tfidf, X_test_tfidf, y_train[:10000], y_test, linear=False, pen=\"l2\")"
   ]
  },
  {
   "cell_type": "markdown",
   "metadata": {},
   "source": [
    "### [4.2.3] Top 10 words of each class"
   ]
  },
  {
   "cell_type": "markdown",
   "metadata": {},
   "source": [
    "#### Positive Class"
   ]
  },
  {
   "cell_type": "code",
   "execution_count": 39,
   "metadata": {},
   "outputs": [
    {
     "name": "stdout",
     "output_type": "stream",
     "text": [
      "+--------------------+--------------------+\n",
      "|    Coefficient     |    Feature Name    |\n",
      "+--------------------+--------------------+\n",
      "| 1.980217625917099  |    accidentally    |\n",
      "| 1.782195863325399  |     able order     |\n",
      "| 1.5841741007336758 |     absorbing      |\n",
      "| 1.5841741007336736 |      able eat      |\n",
      "| 1.485163219437807  |      able use      |\n",
      "| 1.485163219437803  |      accepted      |\n",
      "| 1.386152338141959  | absolutely perfect |\n",
      "| 1.1881305755502514 |        acne        |\n",
      "| 1.1881305755502445 |     absolutely     |\n",
      "| 1.0891196942544097 |     able find      |\n",
      "+--------------------+--------------------+\n"
     ]
    }
   ],
   "source": [
    "clf = SGDClassifier(loss=\"hinge\", penalty=\"l2\", alpha=linear_tfidf)\n",
    "clf.fit(X_train_bow, y_train[:20000])\n",
    "imp_features(tf_idf.get_feature_names(), clf, 1, n=10)"
   ]
  },
  {
   "cell_type": "markdown",
   "metadata": {},
   "source": [
    "#### Negative Class"
   ]
  },
  {
   "cell_type": "code",
   "execution_count": 40,
   "metadata": {},
   "outputs": [
    {
     "name": "stdout",
     "output_type": "stream",
     "text": [
      "+---------------------+----------------------+\n",
      "|     Coefficient     |     Feature Name     |\n",
      "+---------------------+----------------------+\n",
      "| -0.9901088129585431 |       able get       |\n",
      "| -0.8910979316626957 |  absolutely nothing  |\n",
      "|  -0.792087050366844 |      able tell       |\n",
      "| -0.7920870503668331 |      able taste      |\n",
      "|  -0.693076169070986 |   absolutely love    |\n",
      "| -0.6930761690709798 |      able give       |\n",
      "| -0.5940652877751307 |       accurate       |\n",
      "| -0.5940652877751283 |        abroad        |\n",
      "| -0.5940652877751255 |       accounts       |\n",
      "|  -0.594065287775122 | absolutely fantastic |\n",
      "+---------------------+----------------------+\n"
     ]
    }
   ],
   "source": [
    "imp_features(tf_idf.get_feature_names(), clf, 0, n=10)"
   ]
  },
  {
   "cell_type": "markdown",
   "metadata": {},
   "source": [
    "## [4.3] Applying SVM with avg_w2v"
   ]
  },
  {
   "cell_type": "code",
   "execution_count": 29,
   "metadata": {},
   "outputs": [],
   "source": [
    "X_train_w2v, X_test_w2v, y_train, y_test = train_test_split(X, y, test_size=0.3, random_state=2)"
   ]
  },
  {
   "cell_type": "code",
   "execution_count": 30,
   "metadata": {},
   "outputs": [],
   "source": [
    "def compute_avgw2v(list_of_reviews, w2v_model):\n",
    "    w2v_words = list(w2v_model.wv.vocab)\n",
    "    # average Word2Vec\n",
    "    # compute average word2vec for each review.\n",
    "    sent_vectors = []; # the avg-w2v for each sentence/review is stored in this list\n",
    "    for sent in tqdm(list_of_reviews): # for each review/sentence\n",
    "        sent_vec = np.zeros(50) # as word vectors are of zero length 50, you might need to change this to 300 if you use google's w2v\n",
    "        cnt_words =0; # num of words with a valid vector in the sentence/review\n",
    "        for word in sent: # for each word in a review/sentence\n",
    "            if word in w2v_words:\n",
    "                vec = w2v_model.wv[word]\n",
    "                sent_vec += vec\n",
    "                cnt_words += 1\n",
    "        if cnt_words != 0:\n",
    "            sent_vec /= cnt_words\n",
    "        sent_vectors.append(sent_vec)\n",
    "    print(len(sent_vectors))\n",
    "    print(len(sent_vectors[0]))\n",
    "    return sent_vectors"
   ]
  },
  {
   "cell_type": "code",
   "execution_count": 31,
   "metadata": {},
   "outputs": [
    {
     "name": "stderr",
     "output_type": "stream",
     "text": [
      "100%|███████████████████████████████████████████████████████████████████████████| 44003/44003 [00:55<00:00, 790.30it/s]\n"
     ]
    },
    {
     "name": "stdout",
     "output_type": "stream",
     "text": [
      "44003\n",
      "50\n"
     ]
    }
   ],
   "source": [
    "# Train your own Word2Vec model using your own text corpus for train data\n",
    "i=0\n",
    "list_of_reviews_train=[]\n",
    "for review in X_train_w2v:\n",
    "    list_of_reviews_train.append(review.split())\n",
    "\n",
    "w2v_model=Word2Vec(list_of_reviews_train,min_count=5,size=50, workers=4)\n",
    "\n",
    "X_train_aw2v = compute_avgw2v(list_of_reviews_train, w2v_model)"
   ]
  },
  {
   "cell_type": "code",
   "execution_count": 32,
   "metadata": {},
   "outputs": [
    {
     "name": "stderr",
     "output_type": "stream",
     "text": [
      "100%|███████████████████████████████████████████████████████████████████████████| 18859/18859 [00:24<00:00, 761.28it/s]\n"
     ]
    },
    {
     "name": "stdout",
     "output_type": "stream",
     "text": [
      "18859\n",
      "50\n"
     ]
    }
   ],
   "source": [
    "# Train your own Word2Vec model using your own text corpus for test data\n",
    "i=0\n",
    "list_of_reviews_test=[]\n",
    "for review in X_test_w2v:\n",
    "    list_of_reviews_test.append(review.split())\n",
    "\n",
    "# w2v_model=Word2Vec(list_of_reviews_test,min_count=5,size=50, workers=4)\n",
    "X_test_aw2v = compute_avgw2v(list_of_reviews_test, w2v_model)"
   ]
  },
  {
   "cell_type": "markdown",
   "metadata": {},
   "source": [
    "### [4.3.1] Applying Linear SVM with avg_w2v"
   ]
  },
  {
   "cell_type": "code",
   "execution_count": 45,
   "metadata": {
    "scrolled": false
   },
   "outputs": [
    {
     "name": "stderr",
     "output_type": "stream",
     "text": [
      "100%|██████████████████████████████████████████████████████████████████████████████████| 80/80 [00:22<00:00,  3.77it/s]\n"
     ]
    },
    {
     "data": {
      "image/png": "[encoded data removed]",
      "text/plain": [
       "<Figure size 432x288 with 1 Axes>"
      ]
     },
     "metadata": {
      "needs_background": "light"
     },
     "output_type": "display_data"
    },
    {
     "data": {
      "image/png": "[encoded data removed]",
      "text/plain": [
       "<Figure size 432x288 with 2 Axes>"
      ]
     },
     "metadata": {
      "needs_background": "light"
     },
     "output_type": "display_data"
    },
    {
     "data": {
      "image/png": "[encoded data removed]",
      "text/plain": [
       "<Figure size 432x288 with 2 Axes>"
      ]
     },
     "metadata": {
      "needs_background": "light"
     },
     "output_type": "display_data"
    },
    {
     "data": {
      "image/png": "[encoded data removed]",
      "text/plain": [
       "<Figure size 432x288 with 1 Axes>"
      ]
     },
     "metadata": {
      "needs_background": "light"
     },
     "output_type": "display_data"
    },
    {
     "name": "stdout",
     "output_type": "stream",
     "text": [
      "Wall time: 24.3 s\n"
     ]
    }
   ],
   "source": [
    "%%time\n",
    "linear_aw2v, linear_aw2v_auc = get_best_hyperparam(X_train_aw2v, X_test_aw2v, y_train, y_test,linear=True, pen=\"l2\")"
   ]
  },
  {
   "cell_type": "markdown",
   "metadata": {},
   "source": [
    "### [4.3.1] Applying RBF SVM with avg_w2v"
   ]
  },
  {
   "cell_type": "code",
   "execution_count": 36,
   "metadata": {},
   "outputs": [
    {
     "name": "stderr",
     "output_type": "stream",
     "text": [
      "\n",
      "\n",
      "  0%|                                                                                            | 0/4 [00:00<?, ?it/s]\n",
      "\n",
      " 25%|█████████████████████                                                               | 1/4 [00:32<01:37, 32.42s/it]\n",
      "\n",
      " 50%|██████████████████████████████████████████                                          | 2/4 [01:06<01:05, 32.91s/it]\n",
      "\n",
      " 75%|███████████████████████████████████████████████████████████████                     | 3/4 [01:46<00:35, 35.12s/it]\n",
      "\n",
      "100%|████████████████████████████████████████████████████████████████████████████████████| 4/4 [02:30<00:00, 37.72s/it]"
     ]
    },
    {
     "data": {
      "image/png": "[encoded data removed]",
      "text/plain": [
       "<Figure size 432x288 with 1 Axes>"
      ]
     },
     "metadata": {
      "needs_background": "light"
     },
     "output_type": "display_data"
    },
    {
     "data": {
      "image/png": "[encoded data removed]",
      "text/plain": [
       "<Figure size 432x288 with 2 Axes>"
      ]
     },
     "metadata": {
      "needs_background": "light"
     },
     "output_type": "display_data"
    },
    {
     "data": {
      "image/png": "[encoded data removed]",
      "text/plain": [
       "<Figure size 432x288 with 2 Axes>"
      ]
     },
     "metadata": {
      "needs_background": "light"
     },
     "output_type": "display_data"
    },
    {
     "data": {
      "image/png": "[encoded data removed]",
      "text/plain": [
       "<Figure size 432x288 with 1 Axes>"
      ]
     },
     "metadata": {
      "needs_background": "light"
     },
     "output_type": "display_data"
    },
    {
     "name": "stdout",
     "output_type": "stream",
     "text": [
      "Wall time: 3min 42s\n"
     ]
    }
   ],
   "source": [
    "%%time\n",
    "rbf_aw2v, rbf_aw2v_auc = get_best_hyperparam(X_train_aw2v[:10000], X_test_aw2v, y_train[:10000], y_test,linear=False, pen=\"l2\")"
   ]
  },
  {
   "cell_type": "markdown",
   "metadata": {},
   "source": [
    "## [4.4] Applying SVM on tfidf_w2v"
   ]
  },
  {
   "cell_type": "code",
   "execution_count": 41,
   "metadata": {},
   "outputs": [],
   "source": [
    "X_train_tfidf_w2v, X_test_tfidf_w2v, y_train, y_test = train_test_split(X, y, test_size=0.3, random_state=2)"
   ]
  },
  {
   "cell_type": "code",
   "execution_count": 42,
   "metadata": {},
   "outputs": [],
   "source": [
    "def compute_tfidf_w2v(model, w2v_model, list_of_reviews):\n",
    "    # we are converting a dictionary with word as a key, and the idf as a value\n",
    "    dictionary = dict(zip(model.get_feature_names(), list(model.idf_)))\n",
    "    # TF-IDF weighted Word2Vec\n",
    "    tfidf_feat = model.get_feature_names() # tfidf words/col-names\n",
    "    # final_tf_idf is the sparse matrix with row= sentence, col=word and cell_val = tfidf\n",
    "    w2v_words = list(w2v_model.wv.vocab)\n",
    "    tfidf_sent_vectors = []; # the tfidf-w2v for each sentence/review is stored in this list\n",
    "    row=0;\n",
    "    for sent in tqdm(list_of_reviews): # for each review/sentence \n",
    "        sent_vec = np.zeros(50) # as word vectors are of zero length\n",
    "        weight_sum =0; # num of words with a valid vector in the sentence/review\n",
    "        for word in sent: # for each word in a review/sentence\n",
    "            if word in w2v_words and word in tfidf_feat:\n",
    "                vec = w2v_model.wv[word]\n",
    "    #             tf_idf = tf_idf_matrix[row, tfidf_feat.index(word)]\n",
    "                # to reduce the computation we are \n",
    "                # dictionary[word] = idf value of word in whole courpus\n",
    "                # sent.count(word) = tf valeus of word in this review\n",
    "                tf_idf = dictionary[word]*(sent.count(word)/len(sent))\n",
    "                sent_vec += (vec * tf_idf)\n",
    "                weight_sum += tf_idf\n",
    "        if weight_sum != 0:\n",
    "            sent_vec /= weight_sum\n",
    "        tfidf_sent_vectors.append(sent_vec)\n",
    "        row += 1\n",
    "    return tfidf_sent_vectors"
   ]
  },
  {
   "cell_type": "code",
   "execution_count": 44,
   "metadata": {
    "scrolled": true
   },
   "outputs": [
    {
     "name": "stderr",
     "output_type": "stream",
     "text": [
      "\n",
      "\n",
      "  0%|                                                                                        | 0/44003 [00:00<?, ?it/s]\n",
      "\n",
      "  0%|▏                                                                            | 102/44003 [00:00<00:47, 925.37it/s]\n",
      "\n",
      "  0%|▎                                                                            | 198/44003 [00:00<00:48, 895.75it/s]\n",
      "\n",
      "  1%|▌                                                                            | 299/44003 [00:00<00:48, 905.98it/s]\n",
      "\n",
      "  1%|▋                                                                            | 407/44003 [00:00<00:46, 931.66it/s]\n",
      "\n",
      "  1%|▊                                                                            | 499/44003 [00:00<00:47, 910.34it/s]\n",
      "\n",
      "  1%|█                                                                            | 595/44003 [00:00<00:46, 923.94it/s]\n",
      "\n",
      "  2%|█▏                                                                           | 701/44003 [00:00<00:46, 935.13it/s]\n",
      "\n",
      "  2%|█▍                                                                           | 788/44003 [00:00<00:48, 893.07it/s]\n",
      "\n",
      "  2%|█▌                                                                           | 873/44003 [00:00<00:49, 867.33it/s]\n",
      "\n",
      "  2%|█▋                                                                           | 957/44003 [00:01<00:51, 834.16it/s]\n",
      "\n",
      "  2%|█▊                                                                          | 1039/44003 [00:01<00:52, 817.75it/s]\n",
      "\n",
      "  3%|█▉                                                                          | 1120/44003 [00:01<00:55, 774.68it/s]\n",
      "\n",
      "  3%|██                                                                          | 1198/44003 [00:01<00:58, 725.61it/s]\n",
      "\n",
      "  3%|██▏                                                                         | 1271/44003 [00:01<01:05, 655.29it/s]\n",
      "\n",
      "  3%|██▎                                                                         | 1348/44003 [00:01<01:02, 684.61it/s]\n",
      "\n",
      "  3%|██▍                                                                         | 1427/44003 [00:01<00:59, 709.77it/s]\n",
      "\n",
      "  3%|██▌                                                                         | 1500/44003 [00:01<00:59, 714.19it/s]\n",
      "\n",
      "  4%|██▋                                                                         | 1573/44003 [00:01<00:59, 711.01it/s]\n",
      "\n",
      "  4%|██▊                                                                         | 1647/44003 [00:02<00:59, 716.51it/s]\n",
      "\n",
      "  4%|██▉                                                                         | 1732/44003 [00:02<00:56, 748.48it/s]\n",
      "\n",
      "  4%|███                                                                         | 1808/44003 [00:02<00:57, 732.95it/s]\n",
      "\n",
      "  4%|███▎                                                                        | 1882/44003 [00:02<00:58, 714.39it/s]\n",
      "\n",
      "  4%|███▍                                                                        | 1966/44003 [00:02<00:56, 746.48it/s]\n",
      "\n",
      "  5%|███▌                                                                        | 2042/44003 [00:02<00:56, 737.99it/s]\n",
      "\n",
      "  5%|███▋                                                                        | 2121/44003 [00:02<00:55, 752.17it/s]\n",
      "\n",
      "  5%|███▊                                                                        | 2222/44003 [00:02<00:51, 813.20it/s]\n",
      "\n",
      "  5%|███▉                                                                        | 2306/44003 [00:02<00:53, 774.73it/s]\n",
      "\n",
      "  5%|████▏                                                                       | 2394/44003 [00:03<00:51, 801.78it/s]\n",
      "\n",
      "  6%|████▎                                                                       | 2498/44003 [00:03<00:50, 829.46it/s]\n",
      "\n",
      "  6%|████▍                                                                       | 2583/44003 [00:03<00:50, 823.43it/s]\n",
      "\n",
      "  6%|████▌                                                                       | 2667/44003 [00:03<00:50, 819.29it/s]\n",
      "\n",
      "  6%|████▋                                                                       | 2750/44003 [00:03<00:54, 763.21it/s]\n",
      "\n",
      "  6%|████▉                                                                       | 2828/44003 [00:03<01:00, 683.41it/s]\n",
      "\n",
      "  7%|█████                                                                       | 2921/44003 [00:03<00:56, 731.50it/s]\n",
      "\n",
      "  7%|█████▏                                                                      | 2997/44003 [00:03<00:56, 729.22it/s]\n",
      "\n",
      "  7%|█████▎                                                                      | 3094/44003 [00:03<00:52, 786.45it/s]\n",
      "\n",
      "  7%|█████▍                                                                      | 3176/44003 [00:04<00:53, 765.70it/s]\n",
      "\n",
      "  7%|█████▋                                                                      | 3257/44003 [00:04<00:52, 777.67it/s]\n",
      "\n",
      "  8%|█████▊                                                                      | 3344/44003 [00:04<00:50, 801.62it/s]\n",
      "\n",
      "  8%|█████▉                                                                      | 3426/44003 [00:04<00:51, 789.18it/s]\n",
      "\n",
      "  8%|██████                                                                      | 3518/44003 [00:04<00:49, 816.11it/s]\n",
      "\n",
      "  8%|██████▏                                                                     | 3601/44003 [00:04<00:49, 808.98it/s]\n",
      "\n",
      "  8%|██████▎                                                                     | 3683/44003 [00:04<00:56, 709.67it/s]\n",
      "\n",
      "  9%|██████▍                                                                     | 3757/44003 [00:04<00:56, 709.35it/s]\n",
      "\n",
      "  9%|██████▌                                                                     | 3830/44003 [00:04<00:57, 695.58it/s]\n",
      "\n",
      "  9%|██████▊                                                                     | 3914/44003 [00:05<00:55, 728.23it/s]\n",
      "\n",
      "  9%|██████▉                                                                     | 3996/44003 [00:05<00:53, 749.73it/s]\n",
      "\n",
      "  9%|███████                                                                     | 4075/44003 [00:05<00:52, 759.87it/s]\n",
      "\n",
      "  9%|███████▏                                                                    | 4152/44003 [00:05<00:55, 722.32it/s]\n",
      "\n",
      " 10%|███████▎                                                                    | 4226/44003 [00:05<00:58, 675.92it/s]\n",
      "\n",
      " 10%|███████▍                                                                    | 4295/44003 [00:05<00:59, 667.76it/s]\n",
      "\n",
      " 10%|███████▌                                                                    | 4364/44003 [00:05<00:59, 670.81it/s]\n",
      "\n",
      " 10%|███████▋                                                                    | 4434/44003 [00:05<00:58, 678.38it/s]\n",
      "\n",
      " 10%|███████▊                                                                    | 4508/44003 [00:05<00:56, 693.96it/s]\n",
      "\n",
      " 10%|███████▉                                                                    | 4594/44003 [00:05<00:53, 734.76it/s]\n",
      "\n",
      " 11%|████████                                                                    | 4675/44003 [00:06<00:52, 747.96it/s]\n",
      "\n",
      " 11%|████████▏                                                                   | 4751/44003 [00:06<00:55, 702.80it/s]\n",
      "\n",
      " 11%|████████▎                                                                   | 4833/44003 [00:06<00:54, 716.09it/s]\n",
      "\n",
      " 11%|████████▍                                                                   | 4907/44003 [00:06<00:56, 697.09it/s]\n",
      "\n",
      " 11%|████████▌                                                                   | 4978/44003 [00:06<00:55, 696.92it/s]\n",
      "\n",
      " 11%|████████▋                                                                   | 5049/44003 [00:06<01:05, 592.55it/s]\n",
      "\n",
      " 12%|████████▊                                                                   | 5112/44003 [00:06<01:14, 522.77it/s]\n",
      "\n",
      " 12%|████████▉                                                                   | 5168/44003 [00:06<01:16, 507.96it/s]\n",
      "\n",
      " 12%|█████████                                                                   | 5222/44003 [00:07<01:20, 481.71it/s]\n",
      "\n",
      " 12%|█████████                                                                   | 5277/44003 [00:07<01:17, 499.29it/s]\n",
      "\n",
      " 12%|█████████▏                                                                  | 5347/44003 [00:07<01:10, 545.40it/s]\n",
      "\n"
     ]
    },
    {
     "name": "stderr",
     "output_type": "stream",
     "text": [
      " 12%|█████████▎                                                                  | 5416/44003 [00:07<01:08, 564.26it/s]\n",
      "\n",
      " 12%|█████████▍                                                                  | 5489/44003 [00:07<01:03, 604.15it/s]\n",
      "\n",
      " 13%|█████████▌                                                                  | 5552/44003 [00:07<01:04, 591.57it/s]\n",
      "\n",
      " 13%|█████████▋                                                                  | 5613/44003 [00:07<01:26, 443.94it/s]\n",
      "\n",
      " 13%|█████████▊                                                                  | 5664/44003 [00:07<01:23, 458.51it/s]\n",
      "\n",
      " 13%|█████████▉                                                                  | 5742/44003 [00:08<01:15, 509.10it/s]\n",
      "\n",
      " 13%|██████████                                                                  | 5815/44003 [00:08<01:08, 558.32it/s]\n",
      "\n",
      " 13%|██████████▏                                                                 | 5885/44003 [00:08<01:04, 591.57it/s]\n",
      "\n",
      " 14%|██████████▎                                                                 | 5949/44003 [00:08<01:04, 585.54it/s]\n",
      "\n",
      " 14%|██████████▍                                                                 | 6011/44003 [00:08<01:04, 587.14it/s]\n",
      "\n",
      " 14%|██████████▍                                                                 | 6072/44003 [00:08<01:03, 593.74it/s]\n",
      "\n",
      " 14%|██████████▌                                                                 | 6133/44003 [00:08<01:09, 548.02it/s]\n",
      "\n",
      " 14%|██████████▋                                                                 | 6216/44003 [00:08<01:02, 608.28it/s]\n",
      "\n",
      " 14%|██████████▉                                                                 | 6315/44003 [00:08<00:55, 675.79it/s]\n",
      "\n",
      " 15%|███████████                                                                 | 6390/44003 [00:09<00:54, 695.11it/s]\n",
      "\n",
      " 15%|███████████▏                                                                | 6472/44003 [00:09<00:52, 714.96it/s]\n",
      "\n",
      " 15%|███████████▎                                                                | 6547/44003 [00:09<00:52, 716.58it/s]\n",
      "\n",
      " 15%|███████████▍                                                                | 6633/44003 [00:09<00:51, 731.46it/s]\n",
      "\n",
      " 15%|███████████▌                                                                | 6708/44003 [00:09<00:53, 693.42it/s]\n",
      "\n",
      " 15%|███████████▋                                                                | 6779/44003 [00:09<00:55, 672.89it/s]\n",
      "\n",
      " 16%|███████████▊                                                                | 6848/44003 [00:09<01:03, 581.93it/s]\n",
      "\n",
      " 16%|███████████▉                                                                | 6910/44003 [00:09<01:10, 528.27it/s]\n",
      "\n",
      " 16%|████████████                                                                | 6971/44003 [00:09<01:07, 549.26it/s]\n",
      "\n",
      " 16%|████████████▏                                                               | 7041/44003 [00:10<01:03, 586.10it/s]\n",
      "\n",
      " 16%|████████████▎                                                               | 7115/44003 [00:10<00:59, 623.94it/s]\n",
      "\n",
      " 16%|████████████▍                                                               | 7193/44003 [00:10<00:57, 645.72it/s]\n",
      "\n",
      " 17%|████████████▌                                                               | 7272/44003 [00:10<00:53, 681.86it/s]\n",
      "\n",
      " 17%|████████████▋                                                               | 7353/44003 [00:10<00:52, 701.49it/s]\n",
      "\n",
      " 17%|████████████▊                                                               | 7425/44003 [00:10<01:04, 563.40it/s]\n",
      "\n",
      " 17%|████████████▉                                                               | 7494/44003 [00:10<01:01, 595.10it/s]\n",
      "\n",
      " 17%|█████████████                                                               | 7580/44003 [00:10<00:55, 653.55it/s]\n",
      "\n",
      " 17%|█████████████▏                                                              | 7653/44003 [00:10<00:54, 669.71it/s]\n",
      "\n",
      " 18%|█████████████▎                                                              | 7734/44003 [00:11<00:52, 696.00it/s]\n",
      "\n",
      " 18%|█████████████▍                                                              | 7807/44003 [00:11<00:53, 671.39it/s]\n",
      "\n",
      " 18%|█████████████▌                                                              | 7877/44003 [00:11<00:53, 672.26it/s]\n",
      "\n",
      " 18%|█████████████▊                                                              | 7962/44003 [00:11<00:51, 701.10it/s]\n",
      "\n",
      " 18%|█████████████▉                                                              | 8034/44003 [00:11<00:58, 611.91it/s]\n",
      "\n",
      " 18%|█████████████▉                                                              | 8099/44003 [00:11<00:57, 620.05it/s]\n",
      "\n",
      " 19%|██████████████                                                              | 8171/44003 [00:11<00:55, 645.73it/s]\n",
      "\n",
      " 19%|██████████████▏                                                             | 8238/44003 [00:11<01:00, 586.64it/s]\n",
      "\n",
      " 19%|██████████████▎                                                             | 8299/44003 [00:12<01:09, 512.66it/s]\n",
      "\n",
      " 19%|██████████████▍                                                             | 8371/44003 [00:12<01:03, 557.93it/s]\n",
      "\n",
      " 19%|██████████████▌                                                             | 8456/44003 [00:12<00:57, 615.75it/s]\n",
      "\n",
      " 19%|██████████████▋                                                             | 8523/44003 [00:12<00:56, 626.82it/s]\n",
      "\n",
      " 20%|██████████████▉                                                             | 8619/44003 [00:12<00:51, 693.11it/s]\n",
      "\n",
      " 20%|███████████████                                                             | 8698/44003 [00:12<00:50, 701.43it/s]\n",
      "\n",
      " 20%|███████████████▏                                                            | 8775/44003 [00:12<00:48, 720.47it/s]\n",
      "\n",
      " 20%|███████████████▎                                                            | 8873/44003 [00:12<00:45, 768.90it/s]\n",
      "\n",
      " 20%|███████████████▍                                                            | 8953/44003 [00:12<00:53, 656.56it/s]\n",
      "\n",
      " 21%|███████████████▌                                                            | 9024/44003 [00:13<00:59, 585.02it/s]\n",
      "\n",
      " 21%|███████████████▋                                                            | 9108/44003 [00:13<00:54, 642.17it/s]\n",
      "\n",
      " 21%|███████████████▉                                                            | 9201/44003 [00:13<00:50, 687.09it/s]\n",
      "\n",
      " 21%|████████████████                                                            | 9275/44003 [00:13<00:50, 681.65it/s]\n",
      "\n",
      " 21%|████████████████▏                                                           | 9347/44003 [00:13<00:51, 677.06it/s]\n",
      "\n",
      " 21%|████████████████▎                                                           | 9417/44003 [00:13<00:51, 677.87it/s]\n",
      "\n",
      " 22%|████████████████▍                                                           | 9487/44003 [00:13<00:58, 591.47it/s]\n",
      "\n",
      " 22%|████████████████▍                                                           | 9550/44003 [00:14<01:13, 465.64it/s]\n",
      "\n",
      " 22%|████████████████▌                                                           | 9625/44003 [00:14<01:05, 523.45it/s]\n",
      "\n",
      " 22%|████████████████▊                                                           | 9711/44003 [00:14<00:58, 590.35it/s]\n",
      "\n",
      " 22%|████████████████▉                                                           | 9800/44003 [00:14<00:52, 655.56it/s]\n",
      "\n",
      " 22%|█████████████████                                                           | 9874/44003 [00:14<00:51, 659.37it/s]\n",
      "\n",
      " 23%|█████████████████▏                                                          | 9946/44003 [00:14<00:58, 577.75it/s]\n",
      "\n",
      " 23%|█████████████████                                                          | 10010/44003 [00:14<01:11, 474.66it/s]\n",
      "\n",
      " 23%|█████████████████▏                                                         | 10093/44003 [00:14<01:02, 542.77it/s]\n",
      "\n",
      " 23%|█████████████████▎                                                         | 10156/44003 [00:14<01:00, 562.20it/s]\n",
      "\n",
      " 23%|█████████████████▍                                                         | 10236/44003 [00:15<00:55, 609.37it/s]\n",
      "\n",
      " 23%|█████████████████▌                                                         | 10304/44003 [00:15<00:53, 627.46it/s]\n",
      "\n"
     ]
    },
    {
     "name": "stderr",
     "output_type": "stream",
     "text": [
      " 24%|█████████████████▋                                                         | 10384/44003 [00:15<00:50, 670.68it/s]\n",
      "\n",
      " 24%|█████████████████▊                                                         | 10461/44003 [00:15<00:48, 695.56it/s]\n",
      "\n",
      " 24%|█████████████████▉                                                         | 10541/44003 [00:15<00:47, 700.94it/s]\n",
      "\n",
      " 24%|██████████████████▏                                                        | 10639/44003 [00:15<00:44, 754.71it/s]\n",
      "\n",
      " 24%|██████████████████▎                                                        | 10721/44003 [00:15<00:44, 748.88it/s]\n",
      "\n",
      " 25%|██████████████████▍                                                        | 10811/44003 [00:15<00:42, 777.60it/s]\n",
      "\n",
      " 25%|██████████████████▌                                                        | 10898/44003 [00:15<00:41, 790.12it/s]\n",
      "\n",
      " 25%|██████████████████▋                                                        | 10979/44003 [00:16<00:43, 767.22it/s]\n",
      "\n",
      " 25%|██████████████████▊                                                        | 11060/44003 [00:16<00:44, 746.95it/s]\n",
      "\n",
      " 25%|██████████████████▉                                                        | 11146/44003 [00:16<00:43, 761.20it/s]\n",
      "\n",
      " 26%|███████████████████▏                                                       | 11231/44003 [00:16<00:42, 779.20it/s]\n",
      "\n",
      " 26%|███████████████████▎                                                       | 11310/44003 [00:16<00:42, 760.79it/s]\n",
      "\n",
      " 26%|███████████████████▍                                                       | 11387/44003 [00:16<00:43, 743.92it/s]\n",
      "\n",
      " 26%|███████████████████▌                                                       | 11462/44003 [00:16<00:46, 692.97it/s]\n",
      "\n",
      " 26%|███████████████████▋                                                       | 11533/44003 [00:16<00:49, 654.32it/s]\n",
      "\n",
      " 26%|███████████████████▊                                                       | 11608/44003 [00:16<00:49, 655.79it/s]\n",
      "\n",
      " 27%|███████████████████▉                                                       | 11694/44003 [00:17<00:46, 691.64it/s]\n",
      "\n",
      " 27%|████████████████████                                                       | 11781/44003 [00:17<00:44, 721.64it/s]\n",
      "\n",
      " 27%|████████████████████▏                                                      | 11864/44003 [00:17<00:43, 735.10it/s]\n",
      "\n",
      " 27%|████████████████████▎                                                      | 11939/44003 [00:17<00:46, 693.28it/s]\n",
      "\n",
      " 27%|████████████████████▌                                                      | 12029/44003 [00:17<00:44, 724.15it/s]\n",
      "\n",
      " 28%|████████████████████▋                                                      | 12107/44003 [00:17<00:44, 722.71it/s]\n",
      "\n",
      " 28%|████████████████████▊                                                      | 12195/44003 [00:17<00:42, 744.65it/s]\n",
      "\n",
      " 28%|████████████████████▉                                                      | 12286/44003 [00:17<00:41, 772.18it/s]\n",
      "\n",
      " 28%|█████████████████████                                                      | 12369/44003 [00:17<00:40, 773.17it/s]\n",
      "\n",
      " 28%|█████████████████████▏                                                     | 12447/44003 [00:18<00:40, 770.61it/s]\n",
      "\n",
      " 28%|█████████████████████▎                                                     | 12525/44003 [00:18<00:49, 641.04it/s]\n",
      "\n",
      " 29%|█████████████████████▍                                                     | 12594/44003 [00:18<00:49, 636.28it/s]\n",
      "\n",
      " 29%|█████████████████████▌                                                     | 12670/44003 [00:18<00:47, 661.33it/s]\n",
      "\n",
      " 29%|█████████████████████▋                                                     | 12757/44003 [00:18<00:45, 690.81it/s]\n",
      "\n",
      " 29%|█████████████████████▉                                                     | 12845/44003 [00:18<00:43, 723.41it/s]\n",
      "\n",
      " 29%|██████████████████████                                                     | 12941/44003 [00:18<00:40, 760.84it/s]\n",
      "\n",
      " 30%|██████████████████████▏                                                    | 13022/44003 [00:18<00:41, 747.75it/s]\n",
      "\n",
      " 30%|██████████████████████▎                                                    | 13105/44003 [00:18<00:41, 747.76it/s]\n",
      "\n",
      " 30%|██████████████████████▍                                                    | 13189/44003 [00:19<00:39, 771.83it/s]\n",
      "\n",
      " 30%|██████████████████████▌                                                    | 13268/44003 [00:19<00:40, 754.39it/s]\n",
      "\n",
      " 30%|██████████████████████▋                                                    | 13345/44003 [00:19<00:41, 739.51it/s]\n",
      "\n",
      " 30%|██████████████████████▊                                                    | 13420/44003 [00:19<00:44, 683.38it/s]\n",
      "\n",
      " 31%|███████████████████████                                                    | 13498/44003 [00:19<00:44, 690.69it/s]\n",
      "\n",
      " 31%|███████████████████████▏                                                   | 13568/44003 [00:19<00:47, 642.68it/s]\n",
      "\n",
      " 31%|███████████████████████▏                                                   | 13634/44003 [00:19<00:58, 516.28it/s]\n",
      "\n",
      " 31%|███████████████████████▎                                                   | 13691/44003 [00:19<01:01, 490.66it/s]\n",
      "\n",
      " 31%|███████████████████████▍                                                   | 13744/44003 [00:20<01:04, 466.46it/s]\n",
      "\n",
      " 31%|███████████████████████▌                                                   | 13799/44003 [00:20<01:02, 486.48it/s]\n",
      "\n",
      " 31%|███████████████████████▌                                                   | 13854/44003 [00:20<01:00, 499.07it/s]\n",
      "\n",
      " 32%|███████████████████████▋                                                   | 13906/44003 [00:20<01:03, 475.06it/s]\n",
      "\n",
      " 32%|███████████████████████▊                                                   | 13964/44003 [00:20<00:59, 501.44it/s]\n",
      "\n",
      " 32%|███████████████████████▉                                                   | 14035/44003 [00:20<00:55, 535.37it/s]\n",
      "\n",
      " 32%|████████████████████████                                                   | 14100/44003 [00:20<00:53, 564.00it/s]\n",
      "\n",
      " 32%|████████████████████████▏                                                  | 14176/44003 [00:20<00:50, 589.70it/s]\n",
      "\n",
      " 32%|████████████████████████▎                                                  | 14254/44003 [00:20<00:46, 634.73it/s]\n",
      "\n",
      " 33%|████████████████████████▍                                                  | 14344/44003 [00:21<00:43, 688.64it/s]\n",
      "\n",
      " 33%|████████████████████████▌                                                  | 14431/44003 [00:21<00:40, 728.45it/s]\n",
      "\n",
      " 33%|████████████████████████▋                                                  | 14507/44003 [00:21<00:43, 677.20it/s]\n",
      "\n",
      " 33%|████████████████████████▊                                                  | 14578/44003 [00:21<00:47, 618.49it/s]\n",
      "\n",
      " 33%|████████████████████████▉                                                  | 14643/44003 [00:21<00:49, 590.11it/s]\n",
      "\n",
      " 33%|█████████████████████████                                                  | 14712/44003 [00:21<00:47, 613.44it/s]\n",
      "\n",
      " 34%|█████████████████████████▏                                                 | 14786/44003 [00:21<00:46, 625.74it/s]\n",
      "\n",
      " 34%|█████████████████████████▎                                                 | 14863/44003 [00:21<00:43, 662.55it/s]\n",
      "\n",
      " 34%|█████████████████████████▍                                                 | 14953/44003 [00:21<00:41, 702.21it/s]\n",
      "\n",
      " 34%|█████████████████████████▌                                                 | 15026/44003 [00:22<00:41, 702.41it/s]\n",
      "\n",
      " 34%|█████████████████████████▋                                                 | 15105/44003 [00:22<00:39, 725.13it/s]\n",
      "\n",
      " 34%|█████████████████████████▊                                                 | 15180/44003 [00:22<00:41, 700.67it/s]\n",
      "\n",
      " 35%|██████████████████████████                                                 | 15261/44003 [00:22<00:40, 703.98it/s]\n",
      "\n",
      " 35%|██████████████████████████▏                                                | 15333/44003 [00:22<00:40, 703.35it/s]\n",
      "\n",
      " 35%|██████████████████████████▎                                                | 15404/44003 [00:22<00:43, 662.92it/s]\n",
      "\n",
      " 35%|██████████████████████████▍                                                | 15485/44003 [00:22<00:42, 671.92it/s]\n",
      "\n"
     ]
    },
    {
     "name": "stderr",
     "output_type": "stream",
     "text": [
      " 35%|██████████████████████████▌                                                | 15553/44003 [00:22<00:47, 598.71it/s]\n",
      "\n",
      " 36%|██████████████████████████▋                                                | 15633/44003 [00:23<00:43, 646.21it/s]\n",
      "\n",
      " 36%|██████████████████████████▊                                                | 15701/44003 [00:23<00:43, 654.11it/s]\n",
      "\n",
      " 36%|██████████████████████████▉                                                | 15771/44003 [00:23<00:43, 641.95it/s]\n",
      "\n",
      " 36%|███████████████████████████                                                | 15851/44003 [00:23<00:42, 667.78it/s]\n",
      "\n",
      " 36%|███████████████████████████▏                                               | 15922/44003 [00:23<00:42, 664.52it/s]\n",
      "\n",
      " 36%|███████████████████████████▎                                               | 16005/44003 [00:23<00:40, 690.67it/s]\n",
      "\n",
      " 37%|███████████████████████████▍                                               | 16081/44003 [00:23<00:40, 695.26it/s]\n",
      "\n",
      " 37%|███████████████████████████▌                                               | 16152/44003 [00:23<00:39, 698.11it/s]\n",
      "\n",
      " 37%|███████████████████████████▋                                               | 16223/44003 [00:23<00:39, 701.34it/s]\n",
      "\n",
      " 37%|███████████████████████████▊                                               | 16294/44003 [00:23<00:39, 703.45it/s]\n",
      "\n",
      " 37%|███████████████████████████▉                                               | 16365/44003 [00:24<00:39, 701.30it/s]\n",
      "\n",
      " 37%|████████████████████████████                                               | 16436/44003 [00:24<00:41, 659.80it/s]\n",
      "\n",
      " 38%|████████████████████████████▏                                              | 16521/44003 [00:24<00:39, 689.86it/s]\n",
      "\n",
      " 38%|████████████████████████████▎                                              | 16605/44003 [00:24<00:38, 703.48it/s]\n",
      "\n",
      " 38%|████████████████████████████▍                                              | 16676/44003 [00:24<00:39, 699.78it/s]\n",
      "\n",
      " 38%|████████████████████████████▌                                              | 16747/44003 [00:24<00:39, 690.73it/s]\n",
      "\n",
      " 38%|████████████████████████████▋                                              | 16817/44003 [00:24<00:40, 672.86it/s]\n",
      "\n",
      " 38%|████████████████████████████▊                                              | 16885/44003 [00:24<00:40, 674.51it/s]\n",
      "\n",
      " 39%|████████████████████████████▉                                              | 16955/44003 [00:24<00:41, 654.29it/s]\n",
      "\n",
      " 39%|█████████████████████████████                                              | 17044/44003 [00:25<00:38, 695.91it/s]\n",
      "\n",
      " 39%|█████████████████████████████▏                                             | 17127/44003 [00:25<00:37, 715.27it/s]\n",
      "\n",
      " 39%|█████████████████████████████▎                                             | 17200/44003 [00:25<00:37, 714.10it/s]\n",
      "\n",
      " 39%|█████████████████████████████▍                                             | 17272/44003 [00:25<00:38, 700.40it/s]\n",
      "\n",
      " 39%|█████████████████████████████▌                                             | 17354/44003 [00:25<00:37, 717.91it/s]\n",
      "\n",
      " 40%|█████████████████████████████▋                                             | 17432/44003 [00:25<00:36, 720.71it/s]\n",
      "\n",
      " 40%|█████████████████████████████▊                                             | 17513/44003 [00:25<00:36, 727.50it/s]\n",
      "\n",
      " 40%|█████████████████████████████▉                                             | 17586/44003 [00:25<00:37, 711.57it/s]\n",
      "\n",
      " 40%|██████████████████████████████                                             | 17658/44003 [00:25<00:38, 678.38it/s]\n",
      "\n",
      " 40%|██████████████████████████████▏                                            | 17743/44003 [00:26<00:37, 708.15it/s]\n",
      "\n",
      " 40%|██████████████████████████████▎                                            | 17815/44003 [00:26<00:40, 650.51it/s]\n",
      "\n",
      " 41%|██████████████████████████████▍                                            | 17882/44003 [00:26<00:41, 633.04it/s]\n",
      "\n",
      " 41%|██████████████████████████████▌                                            | 17947/44003 [00:26<00:45, 571.41it/s]\n",
      "\n",
      " 41%|██████████████████████████████▋                                            | 18041/44003 [00:26<00:40, 645.22it/s]\n",
      "\n",
      " 41%|██████████████████████████████▊                                            | 18111/44003 [00:26<00:45, 573.74it/s]\n",
      "\n",
      " 41%|██████████████████████████████▉                                            | 18174/44003 [00:26<00:49, 522.62it/s]\n",
      "\n",
      " 41%|███████████████████████████████                                            | 18238/44003 [00:26<00:46, 550.54it/s]\n",
      "\n",
      " 42%|███████████████████████████████▏                                           | 18297/44003 [00:27<00:47, 539.22it/s]\n",
      "\n",
      " 42%|███████████████████████████████▎                                           | 18354/44003 [00:27<00:49, 516.71it/s]\n",
      "\n",
      " 42%|███████████████████████████████▍                                           | 18434/44003 [00:27<00:44, 577.16it/s]\n",
      "\n",
      " 42%|███████████████████████████████▌                                           | 18496/44003 [00:27<00:43, 584.83it/s]\n",
      "\n",
      " 42%|███████████████████████████████▋                                           | 18557/44003 [00:27<00:46, 551.05it/s]\n",
      "\n",
      " 42%|███████████████████████████████▋                                           | 18617/44003 [00:27<00:45, 560.51it/s]\n",
      "\n",
      " 42%|███████████████████████████████▊                                           | 18681/44003 [00:27<00:43, 579.45it/s]\n",
      "\n",
      " 43%|███████████████████████████████▉                                           | 18741/44003 [00:27<00:51, 493.44it/s]\n",
      "\n",
      " 43%|████████████████████████████████                                           | 18810/44003 [00:27<00:47, 533.96it/s]\n",
      "\n",
      " 43%|████████████████████████████████▏                                          | 18882/44003 [00:28<00:43, 577.80it/s]\n",
      "\n",
      " 43%|████████████████████████████████▎                                          | 18944/44003 [00:28<00:43, 574.01it/s]\n",
      "\n",
      " 43%|████████████████████████████████▍                                          | 19004/44003 [00:28<00:52, 473.33it/s]\n",
      "\n",
      " 43%|████████████████████████████████▌                                          | 19073/44003 [00:28<00:47, 521.99it/s]\n",
      "\n",
      " 43%|████████████████████████████████▌                                          | 19141/44003 [00:28<00:44, 557.48it/s]\n",
      "\n",
      " 44%|████████████████████████████████▋                                          | 19201/44003 [00:28<00:51, 479.97it/s]\n",
      "\n",
      " 44%|████████████████████████████████▊                                          | 19283/44003 [00:28<00:45, 547.79it/s]\n",
      "\n",
      " 44%|████████████████████████████████▉                                          | 19354/44003 [00:28<00:43, 568.23it/s]\n",
      "\n",
      " 44%|█████████████████████████████████                                          | 19416/44003 [00:29<00:52, 471.74it/s]\n",
      "\n",
      " 44%|█████████████████████████████████▏                                         | 19495/44003 [00:29<00:45, 533.75it/s]\n",
      "\n",
      " 44%|█████████████████████████████████▎                                         | 19567/44003 [00:29<00:42, 576.25it/s]\n",
      "\n",
      " 45%|█████████████████████████████████▍                                         | 19631/44003 [00:29<00:45, 532.31it/s]\n",
      "\n",
      " 45%|█████████████████████████████████▌                                         | 19690/44003 [00:29<00:46, 525.73it/s]\n",
      "\n",
      " 45%|█████████████████████████████████▋                                         | 19756/44003 [00:29<00:43, 558.37it/s]\n",
      "\n",
      " 45%|█████████████████████████████████▊                                         | 19815/44003 [00:29<00:46, 515.93it/s]\n",
      "\n",
      " 45%|█████████████████████████████████▊                                         | 19870/44003 [00:29<00:46, 513.69it/s]\n",
      "\n",
      " 45%|█████████████████████████████████▉                                         | 19936/44003 [00:30<00:43, 549.75it/s]\n",
      "\n",
      " 45%|██████████████████████████████████                                         | 20003/44003 [00:30<00:41, 576.78it/s]\n",
      "\n",
      " 46%|██████████████████████████████████▏                                        | 20063/44003 [00:30<00:47, 503.38it/s]\n",
      "\n",
      " 46%|██████████████████████████████████▎                                        | 20135/44003 [00:30<00:44, 541.92it/s]\n",
      "\n",
      " 46%|██████████████████████████████████▍                                        | 20212/44003 [00:30<00:40, 594.29it/s]\n",
      "\n"
     ]
    },
    {
     "name": "stderr",
     "output_type": "stream",
     "text": [
      " 46%|██████████████████████████████████▌                                        | 20275/44003 [00:30<00:49, 478.57it/s]\n",
      "\n",
      " 46%|██████████████████████████████████▋                                        | 20349/44003 [00:30<00:45, 523.63it/s]\n",
      "\n",
      " 46%|██████████████████████████████████▊                                        | 20440/44003 [00:30<00:40, 588.94it/s]\n",
      "\n",
      " 47%|██████████████████████████████████▉                                        | 20514/44003 [00:30<00:38, 609.19it/s]\n",
      "\n",
      " 47%|███████████████████████████████████                                        | 20580/44003 [00:31<00:41, 558.72it/s]\n",
      "\n",
      " 47%|███████████████████████████████████▏                                       | 20641/44003 [00:31<00:41, 569.72it/s]\n",
      "\n",
      " 47%|███████████████████████████████████▎                                       | 20720/44003 [00:31<00:37, 614.29it/s]\n",
      "\n",
      " 47%|███████████████████████████████████▍                                       | 20800/44003 [00:31<00:35, 651.23it/s]\n",
      "\n",
      " 47%|███████████████████████████████████▌                                       | 20869/44003 [00:31<00:35, 652.83it/s]\n",
      "\n",
      " 48%|███████████████████████████████████▋                                       | 20956/44003 [00:31<00:33, 692.72it/s]\n",
      "\n",
      " 48%|███████████████████████████████████▊                                       | 21037/44003 [00:31<00:32, 712.04it/s]\n",
      "\n",
      " 48%|███████████████████████████████████▉                                       | 21117/44003 [00:31<00:31, 719.77it/s]\n",
      "\n",
      " 48%|████████████████████████████████████▏                                      | 21195/44003 [00:31<00:31, 716.98it/s]\n",
      "\n",
      " 48%|████████████████████████████████████▎                                      | 21278/44003 [00:32<00:30, 733.58it/s]\n",
      "\n",
      " 49%|████████████████████████████████████▍                                      | 21352/44003 [00:32<00:31, 711.70it/s]\n",
      "\n",
      " 49%|████████████████████████████████████▌                                      | 21424/44003 [00:32<00:33, 668.29it/s]\n",
      "\n",
      " 49%|████████████████████████████████████▋                                      | 21506/44003 [00:32<00:33, 680.84it/s]\n",
      "\n",
      " 49%|████████████████████████████████████▊                                      | 21596/44003 [00:32<00:30, 723.75it/s]\n",
      "\n",
      " 49%|████████████████████████████████████▉                                      | 21674/44003 [00:32<00:30, 721.19it/s]\n",
      "\n",
      " 49%|█████████████████████████████████████                                      | 21748/44003 [00:32<00:31, 710.13it/s]\n",
      "\n",
      " 50%|█████████████████████████████████████▏                                     | 21845/44003 [00:32<00:29, 757.66it/s]\n",
      "\n",
      " 50%|█████████████████████████████████████▎                                     | 21923/44003 [00:32<00:30, 731.90it/s]\n",
      "\n",
      " 50%|█████████████████████████████████████▌                                     | 22009/44003 [00:33<00:29, 740.66it/s]\n",
      "\n",
      " 50%|█████████████████████████████████████▋                                     | 22097/44003 [00:33<00:28, 760.40it/s]\n",
      "\n",
      " 50%|█████████████████████████████████████▊                                     | 22174/44003 [00:33<00:30, 720.93it/s]\n",
      "\n",
      " 51%|█████████████████████████████████████▉                                     | 22249/44003 [00:33<00:30, 712.72it/s]\n",
      "\n",
      " 51%|██████████████████████████████████████                                     | 22325/44003 [00:33<00:30, 708.09it/s]\n",
      "\n",
      " 51%|██████████████████████████████████████▏                                    | 22424/44003 [00:33<00:28, 759.09it/s]\n",
      "\n",
      " 51%|██████████████████████████████████████▎                                    | 22502/44003 [00:33<00:28, 746.88it/s]\n",
      "\n",
      " 51%|██████████████████████████████████████▍                                    | 22583/44003 [00:33<00:28, 745.97it/s]\n",
      "\n",
      " 52%|██████████████████████████████████████▋                                    | 22668/44003 [00:33<00:28, 759.81it/s]\n",
      "\n",
      " 52%|██████████████████████████████████████▊                                    | 22749/44003 [00:34<00:28, 753.95it/s]\n",
      "\n",
      " 52%|██████████████████████████████████████▉                                    | 22825/44003 [00:34<00:28, 742.36it/s]\n",
      "\n",
      " 52%|███████████████████████████████████████                                    | 22910/44003 [00:34<00:28, 747.21it/s]\n",
      "\n",
      " 52%|███████████████████████████████████████▏                                   | 22985/44003 [00:34<00:29, 717.49it/s]\n",
      "\n",
      " 52%|███████████████████████████████████████▎                                   | 23058/44003 [00:34<00:30, 690.57it/s]\n",
      "\n",
      " 53%|███████████████████████████████████████▍                                   | 23132/44003 [00:34<00:29, 699.81it/s]\n",
      "\n",
      " 53%|███████████████████████████████████████▌                                   | 23226/44003 [00:34<00:28, 737.04it/s]\n",
      "\n",
      " 53%|███████████████████████████████████████▊                                   | 23328/44003 [00:34<00:26, 781.68it/s]\n",
      "\n",
      " 53%|███████████████████████████████████████▉                                   | 23423/44003 [00:34<00:25, 805.83it/s]\n",
      "\n",
      " 53%|████████████████████████████████████████                                   | 23515/44003 [00:35<00:25, 815.48it/s]\n",
      "\n",
      " 54%|████████████████████████████████████████▏                                  | 23598/44003 [00:35<00:26, 764.01it/s]\n",
      "\n",
      " 54%|████████████████████████████████████████▎                                  | 23676/44003 [00:35<00:27, 743.13it/s]\n",
      "\n",
      " 54%|████████████████████████████████████████▍                                  | 23752/44003 [00:35<00:27, 743.63it/s]\n",
      "\n",
      " 54%|████████████████████████████████████████▋                                  | 23835/44003 [00:35<00:26, 748.67it/s]\n",
      "\n",
      " 54%|████████████████████████████████████████▊                                  | 23918/44003 [00:35<00:26, 749.92it/s]\n",
      "\n",
      " 55%|████████████████████████████████████████▉                                  | 23998/44003 [00:35<00:27, 737.97it/s]\n",
      "\n",
      " 55%|█████████████████████████████████████████                                  | 24092/44003 [00:35<00:25, 766.13it/s]\n",
      "\n",
      " 55%|█████████████████████████████████████████▏                                 | 24170/44003 [00:36<00:29, 680.37it/s]\n",
      "\n",
      " 55%|█████████████████████████████████████████▎                                 | 24241/44003 [00:36<00:29, 678.66it/s]\n",
      "\n",
      " 55%|█████████████████████████████████████████▍                                 | 24329/44003 [00:36<00:27, 704.86it/s]\n",
      "\n",
      " 55%|█████████████████████████████████████████▌                                 | 24415/44003 [00:36<00:27, 721.99it/s]\n",
      "\n",
      " 56%|█████████████████████████████████████████▋                                 | 24489/44003 [00:36<00:28, 678.38it/s]\n",
      "\n",
      " 56%|█████████████████████████████████████████▊                                 | 24566/44003 [00:36<00:28, 687.67it/s]\n",
      "\n",
      " 56%|█████████████████████████████████████████▉                                 | 24636/44003 [00:36<00:29, 649.61it/s]\n",
      "\n",
      " 56%|██████████████████████████████████████████                                 | 24714/44003 [00:36<00:28, 670.61it/s]\n",
      "\n",
      " 56%|██████████████████████████████████████████▏                                | 24782/44003 [00:36<00:29, 658.03it/s]\n",
      "\n",
      " 56%|██████████████████████████████████████████▎                                | 24858/44003 [00:37<00:28, 666.02it/s]\n",
      "\n",
      " 57%|██████████████████████████████████████████▍                                | 24926/44003 [00:37<00:31, 613.74it/s]\n",
      "\n",
      " 57%|██████████████████████████████████████████▌                                | 25006/44003 [00:37<00:28, 656.67it/s]\n",
      "\n",
      " 57%|██████████████████████████████████████████▋                                | 25074/44003 [00:37<00:30, 623.33it/s]\n",
      "\n",
      " 57%|██████████████████████████████████████████▊                                | 25138/44003 [00:37<00:41, 453.90it/s]\n",
      "\n",
      " 57%|██████████████████████████████████████████▉                                | 25222/44003 [00:37<00:35, 524.79it/s]\n",
      "\n",
      " 58%|███████████████████████████████████████████▏                               | 25308/44003 [00:37<00:31, 591.05it/s]\n",
      "\n",
      " 58%|███████████████████████████████████████████▎                               | 25377/44003 [00:37<00:34, 542.52it/s]\n",
      "\n",
      " 58%|███████████████████████████████████████████▎                               | 25439/44003 [00:38<00:33, 549.26it/s]\n",
      "\n",
      " 58%|███████████████████████████████████████████▍                               | 25512/44003 [00:38<00:31, 592.12it/s]\n",
      "\n"
     ]
    },
    {
     "name": "stderr",
     "output_type": "stream",
     "text": [
      " 58%|███████████████████████████████████████████▌                               | 25576/44003 [00:38<00:30, 602.60it/s]\n",
      "\n",
      " 58%|███████████████████████████████████████████▋                               | 25640/44003 [00:38<00:37, 483.70it/s]\n",
      "\n",
      " 58%|███████████████████████████████████████████▊                               | 25730/44003 [00:38<00:33, 553.30it/s]\n",
      "\n",
      " 59%|███████████████████████████████████████████▉                               | 25811/44003 [00:38<00:29, 610.25it/s]\n",
      "\n",
      " 59%|████████████████████████████████████████████                               | 25880/44003 [00:38<00:36, 502.94it/s]\n",
      "\n",
      " 59%|████████████████████████████████████████████▏                              | 25948/44003 [00:38<00:33, 544.80it/s]\n",
      "\n",
      " 59%|████████████████████████████████████████████▍                              | 26040/44003 [00:39<00:29, 608.50it/s]\n",
      "\n",
      " 59%|████████████████████████████████████████████▌                              | 26112/44003 [00:39<00:28, 631.33it/s]\n",
      "\n",
      " 59%|████████████████████████████████████████████▌                              | 26181/44003 [00:39<00:32, 545.58it/s]\n",
      "\n",
      " 60%|████████████████████████████████████████████▊                              | 26265/44003 [00:39<00:29, 608.90it/s]\n",
      "\n",
      " 60%|████████████████████████████████████████████▉                              | 26355/44003 [00:39<00:26, 671.43it/s]\n",
      "\n",
      " 60%|█████████████████████████████████████████████                              | 26429/44003 [00:39<00:31, 563.64it/s]\n",
      "\n",
      " 60%|█████████████████████████████████████████████▏                             | 26493/44003 [00:39<00:30, 566.21it/s]\n",
      "\n",
      " 60%|█████████████████████████████████████████████▎                             | 26556/44003 [00:39<00:29, 582.86it/s]\n",
      "\n",
      " 60%|█████████████████████████████████████████████▎                             | 26619/44003 [00:40<00:29, 596.20it/s]\n",
      "\n",
      " 61%|█████████████████████████████████████████████▍                             | 26682/44003 [00:40<00:34, 503.51it/s]\n",
      "\n",
      " 61%|█████████████████████████████████████████████▌                             | 26758/44003 [00:40<00:31, 544.50it/s]\n",
      "\n",
      " 61%|█████████████████████████████████████████████▋                             | 26834/44003 [00:40<00:29, 583.41it/s]\n",
      "\n",
      " 61%|█████████████████████████████████████████████▊                             | 26905/44003 [00:40<00:27, 611.72it/s]\n",
      "\n",
      " 61%|█████████████████████████████████████████████▉                             | 26970/44003 [00:40<00:34, 498.68it/s]\n",
      "\n",
      " 61%|██████████████████████████████████████████████                             | 27057/44003 [00:40<00:30, 555.27it/s]\n",
      "\n",
      " 62%|██████████████████████████████████████████████▎                            | 27137/44003 [00:40<00:27, 607.60it/s]\n",
      "\n",
      " 62%|██████████████████████████████████████████████▍                            | 27221/44003 [00:41<00:25, 650.13it/s]\n",
      "\n",
      " 62%|██████████████████████████████████████████████▌                            | 27311/44003 [00:41<00:23, 708.38it/s]\n",
      "\n",
      " 62%|██████████████████████████████████████████████▋                            | 27398/44003 [00:41<00:22, 735.08it/s]\n",
      "\n",
      " 62%|██████████████████████████████████████████████▊                            | 27480/44003 [00:41<00:22, 728.02it/s]\n",
      "\n",
      " 63%|██████████████████████████████████████████████▉                            | 27569/44003 [00:41<00:21, 754.06it/s]\n",
      "\n",
      " 63%|███████████████████████████████████████████████                            | 27647/44003 [00:41<00:21, 748.27it/s]\n",
      "\n",
      " 63%|███████████████████████████████████████████████▎                           | 27736/44003 [00:41<00:20, 777.95it/s]\n",
      "\n",
      " 63%|███████████████████████████████████████████████▍                           | 27816/44003 [00:41<00:23, 676.03it/s]\n",
      "\n",
      " 63%|███████████████████████████████████████████████▌                           | 27887/44003 [00:42<00:27, 581.99it/s]\n",
      "\n",
      " 64%|███████████████████████████████████████████████▋                           | 27955/44003 [00:42<00:26, 607.26it/s]\n",
      "\n",
      " 64%|███████████████████████████████████████████████▊                           | 28049/44003 [00:42<00:23, 679.35it/s]\n",
      "\n",
      " 64%|███████████████████████████████████████████████▉                           | 28123/44003 [00:42<00:27, 578.93it/s]\n",
      "\n",
      " 64%|████████████████████████████████████████████████                           | 28193/44003 [00:42<00:26, 590.44it/s]\n",
      "\n",
      " 64%|████████████████████████████████████████████████▏                          | 28274/44003 [00:42<00:24, 640.94it/s]\n",
      "\n",
      " 64%|████████████████████████████████████████████████▎                          | 28343/44003 [00:42<00:30, 514.91it/s]\n",
      "\n",
      " 65%|████████████████████████████████████████████████▍                          | 28404/44003 [00:42<00:29, 536.95it/s]\n",
      "\n",
      " 65%|████████████████████████████████████████████████▌                          | 28494/44003 [00:43<00:26, 595.68it/s]\n",
      "\n",
      " 65%|████████████████████████████████████████████████▋                          | 28582/44003 [00:43<00:23, 658.85it/s]\n",
      "\n",
      " 65%|████████████████████████████████████████████████▊                          | 28656/44003 [00:43<00:22, 673.94it/s]\n",
      "\n",
      " 65%|████████████████████████████████████████████████▉                          | 28729/44003 [00:43<00:22, 682.63it/s]\n",
      "\n",
      " 65%|█████████████████████████████████████████████████                          | 28801/44003 [00:43<00:25, 594.50it/s]\n",
      "\n",
      " 66%|█████████████████████████████████████████████████▏                         | 28874/44003 [00:43<00:24, 622.02it/s]\n",
      "\n",
      " 66%|█████████████████████████████████████████████████▎                         | 28945/44003 [00:43<00:23, 642.42it/s]\n",
      "\n",
      " 66%|█████████████████████████████████████████████████▍                         | 29019/44003 [00:43<00:22, 667.94it/s]\n",
      "\n",
      " 66%|█████████████████████████████████████████████████▌                         | 29088/44003 [00:43<00:23, 646.55it/s]\n",
      "\n",
      " 66%|█████████████████████████████████████████████████▋                         | 29155/44003 [00:44<00:23, 628.31it/s]\n",
      "\n",
      " 66%|█████████████████████████████████████████████████▊                         | 29220/44003 [00:44<00:29, 504.95it/s]\n",
      "\n",
      " 67%|█████████████████████████████████████████████████▉                         | 29276/44003 [00:44<00:28, 509.94it/s]\n",
      "\n",
      " 67%|██████████████████████████████████████████████████                         | 29346/44003 [00:44<00:26, 554.82it/s]\n",
      "\n",
      " 67%|██████████████████████████████████████████████████                         | 29405/44003 [00:44<00:33, 433.54it/s]\n",
      "\n",
      " 67%|██████████████████████████████████████████████████▏                        | 29456/44003 [00:44<00:32, 453.09it/s]\n",
      "\n",
      " 67%|██████████████████████████████████████████████████▎                        | 29531/44003 [00:44<00:28, 513.34it/s]\n",
      "\n",
      " 67%|██████████████████████████████████████████████████▍                        | 29611/44003 [00:44<00:25, 574.27it/s]\n",
      "\n",
      " 67%|██████████████████████████████████████████████████▌                        | 29676/44003 [00:45<00:31, 455.61it/s]\n",
      "\n",
      " 68%|██████████████████████████████████████████████████▋                        | 29752/44003 [00:45<00:27, 512.85it/s]\n",
      "\n",
      " 68%|██████████████████████████████████████████████████▊                        | 29815/44003 [00:45<00:26, 535.29it/s]\n",
      "\n",
      " 68%|██████████████████████████████████████████████████▉                        | 29890/44003 [00:45<00:24, 579.13it/s]\n",
      "\n",
      " 68%|███████████████████████████████████████████████████                        | 29968/44003 [00:45<00:22, 619.36it/s]\n",
      "\n",
      " 68%|███████████████████████████████████████████████████▏                       | 30040/44003 [00:45<00:21, 643.17it/s]\n",
      "\n",
      " 68%|███████████████████████████████████████████████████▎                       | 30124/44003 [00:45<00:20, 688.85it/s]\n",
      "\n",
      " 69%|███████████████████████████████████████████████████▍                       | 30208/44003 [00:45<00:18, 726.81it/s]\n",
      "\n",
      " 69%|███████████████████████████████████████████████████▌                       | 30284/44003 [00:45<00:19, 700.45it/s]\n",
      "\n",
      " 69%|███████████████████████████████████████████████████▋                       | 30357/44003 [00:46<00:22, 605.20it/s]\n",
      "\n",
      " 69%|███████████████████████████████████████████████████▊                       | 30422/44003 [00:46<00:26, 512.53it/s]\n",
      "\n",
      " 69%|███████████████████████████████████████████████████▉                       | 30495/44003 [00:46<00:24, 562.82it/s]\n",
      "\n"
     ]
    },
    {
     "name": "stderr",
     "output_type": "stream",
     "text": [
      " 69%|████████████████████████████████████████████████████                       | 30569/44003 [00:46<00:22, 605.29it/s]\n",
      "\n",
      " 70%|████████████████████████████████████████████████████▏                      | 30639/44003 [00:46<00:21, 627.02it/s]\n",
      "\n",
      " 70%|████████████████████████████████████████████████████▎                      | 30706/44003 [00:46<00:22, 587.75it/s]\n",
      "\n",
      " 70%|████████████████████████████████████████████████████▍                      | 30775/44003 [00:46<00:21, 611.30it/s]\n",
      "\n",
      " 70%|████████████████████████████████████████████████████▌                      | 30861/44003 [00:46<00:19, 661.81it/s]\n",
      "\n",
      " 70%|████████████████████████████████████████████████████▋                      | 30938/44003 [00:47<00:18, 690.53it/s]\n",
      "\n",
      " 70%|████████████████████████████████████████████████████▊                      | 31015/44003 [00:47<00:18, 699.55it/s]\n",
      "\n",
      " 71%|████████████████████████████████████████████████████▉                      | 31087/44003 [00:47<00:18, 688.19it/s]\n",
      "\n",
      " 71%|█████████████████████████████████████████████████████                      | 31159/44003 [00:47<00:18, 696.43it/s]\n",
      "\n",
      " 71%|█████████████████████████████████████████████████████▎                     | 31245/44003 [00:47<00:17, 726.11it/s]\n",
      "\n",
      " 71%|█████████████████████████████████████████████████████▍                     | 31332/44003 [00:47<00:17, 743.91it/s]\n",
      "\n",
      " 71%|█████████████████████████████████████████████████████▌                     | 31408/44003 [00:47<00:18, 664.35it/s]\n",
      "\n",
      " 72%|█████████████████████████████████████████████████████▋                     | 31477/44003 [00:47<00:19, 632.87it/s]\n",
      "\n",
      " 72%|█████████████████████████████████████████████████████▊                     | 31543/44003 [00:47<00:23, 540.67it/s]\n",
      "\n",
      " 72%|█████████████████████████████████████████████████████▊                     | 31601/44003 [00:48<00:24, 498.36it/s]\n",
      "\n",
      " 72%|█████████████████████████████████████████████████████▉                     | 31655/44003 [00:48<00:27, 448.35it/s]\n",
      "\n",
      " 72%|██████████████████████████████████████████████████████                     | 31734/44003 [00:48<00:24, 509.50it/s]\n",
      "\n",
      " 72%|██████████████████████████████████████████████████████▏                    | 31806/44003 [00:48<00:21, 557.52it/s]\n",
      "\n",
      " 72%|██████████████████████████████████████████████████████▎                    | 31879/44003 [00:48<00:20, 599.50it/s]\n",
      "\n",
      " 73%|██████████████████████████████████████████████████████▍                    | 31963/44003 [00:48<00:18, 641.09it/s]\n",
      "\n",
      " 73%|██████████████████████████████████████████████████████▌                    | 32036/44003 [00:48<00:18, 661.61it/s]\n",
      "\n",
      " 73%|██████████████████████████████████████████████████████▋                    | 32113/44003 [00:48<00:17, 690.58it/s]\n",
      "\n",
      " 73%|██████████████████████████████████████████████████████▊                    | 32185/44003 [00:49<00:16, 698.67it/s]\n",
      "\n",
      " 73%|██████████████████████████████████████████████████████▉                    | 32263/44003 [00:49<00:16, 721.08it/s]\n",
      "\n",
      " 73%|███████████████████████████████████████████████████████                    | 32337/44003 [00:49<00:16, 694.63it/s]\n",
      "\n",
      " 74%|███████████████████████████████████████████████████████▏                   | 32408/44003 [00:49<00:17, 668.00it/s]\n",
      "\n",
      " 74%|███████████████████████████████████████████████████████▎                   | 32482/44003 [00:49<00:16, 687.82it/s]\n",
      "\n",
      " 74%|███████████████████████████████████████████████████████▌                   | 32577/44003 [00:49<00:15, 723.49it/s]\n",
      "\n",
      " 74%|███████████████████████████████████████████████████████▋                   | 32669/44003 [00:49<00:14, 772.31it/s]\n",
      "\n",
      " 74%|███████████████████████████████████████████████████████▊                   | 32748/44003 [00:49<00:14, 757.10it/s]\n",
      "\n",
      " 75%|███████████████████████████████████████████████████████▉                   | 32825/44003 [00:49<00:15, 701.69it/s]\n",
      "\n",
      " 75%|████████████████████████████████████████████████████████                   | 32897/44003 [00:49<00:15, 695.86it/s]\n",
      "\n",
      " 75%|████████████████████████████████████████████████████████▏                  | 32968/44003 [00:50<00:17, 648.18it/s]\n",
      "\n",
      " 75%|████████████████████████████████████████████████████████▎                  | 33051/44003 [00:50<00:16, 667.71it/s]\n",
      "\n",
      " 75%|████████████████████████████████████████████████████████▍                  | 33141/44003 [00:50<00:15, 697.63it/s]\n",
      "\n",
      " 75%|████████████████████████████████████████████████████████▌                  | 33212/44003 [00:50<00:15, 699.02it/s]\n",
      "\n",
      " 76%|████████████████████████████████████████████████████████▊                  | 33304/44003 [00:50<00:14, 726.60it/s]\n",
      "\n",
      " 76%|████████████████████████████████████████████████████████▉                  | 33390/44003 [00:50<00:13, 760.86it/s]\n",
      "\n",
      " 76%|█████████████████████████████████████████████████████████                  | 33476/44003 [00:50<00:13, 785.64it/s]\n",
      "\n",
      " 76%|█████████████████████████████████████████████████████████▏                 | 33556/44003 [00:50<00:13, 774.35it/s]\n",
      "\n",
      " 76%|█████████████████████████████████████████████████████████▎                 | 33635/44003 [00:51<00:14, 739.61it/s]\n",
      "\n",
      " 77%|█████████████████████████████████████████████████████████▍                 | 33713/44003 [00:51<00:14, 724.76it/s]\n",
      "\n",
      " 77%|█████████████████████████████████████████████████████████▌                 | 33787/44003 [00:51<00:15, 640.02it/s]\n",
      "\n",
      " 77%|█████████████████████████████████████████████████████████▋                 | 33859/44003 [00:51<00:15, 651.36it/s]\n",
      "\n",
      " 77%|█████████████████████████████████████████████████████████▊                 | 33930/44003 [00:51<00:15, 649.34it/s]\n",
      "\n",
      " 77%|█████████████████████████████████████████████████████████▉                 | 34016/44003 [00:51<00:14, 678.37it/s]\n",
      "\n",
      " 77%|██████████████████████████████████████████████████████████                 | 34085/44003 [00:51<00:16, 604.27it/s]\n",
      "\n",
      " 78%|██████████████████████████████████████████████████████████▏                | 34173/44003 [00:51<00:14, 655.68it/s]\n",
      "\n",
      " 78%|██████████████████████████████████████████████████████████▍                | 34275/44003 [00:51<00:13, 734.15it/s]\n",
      "\n",
      " 78%|██████████████████████████████████████████████████████████▌                | 34354/44003 [00:52<00:12, 749.63it/s]\n",
      "\n",
      " 78%|██████████████████████████████████████████████████████████▋                | 34433/44003 [00:52<00:12, 743.95it/s]\n",
      "\n",
      " 78%|██████████████████████████████████████████████████████████▊                | 34510/44003 [00:52<00:13, 717.03it/s]\n",
      "\n",
      " 79%|██████████████████████████████████████████████████████████▉                | 34587/44003 [00:52<00:13, 714.86it/s]\n",
      "\n",
      " 79%|███████████████████████████████████████████████████████████                | 34670/44003 [00:52<00:12, 729.91it/s]\n",
      "\n",
      " 79%|███████████████████████████████████████████████████████████▎               | 34765/44003 [00:52<00:12, 767.26it/s]\n",
      "\n",
      " 79%|███████████████████████████████████████████████████████████▍               | 34843/44003 [00:52<00:11, 770.10it/s]\n",
      "\n",
      " 79%|███████████████████████████████████████████████████████████▌               | 34921/44003 [00:52<00:12, 738.13it/s]\n",
      "\n",
      " 80%|███████████████████████████████████████████████████████████▋               | 34996/44003 [00:52<00:12, 721.62it/s]\n",
      "\n",
      " 80%|███████████████████████████████████████████████████████████▊               | 35069/44003 [00:53<00:12, 722.99it/s]\n",
      "\n",
      " 80%|███████████████████████████████████████████████████████████▉               | 35142/44003 [00:53<00:12, 724.77it/s]\n",
      "\n",
      " 80%|████████████████████████████████████████████████████████████               | 35215/44003 [00:53<00:12, 725.50it/s]\n",
      "\n",
      " 80%|████████████████████████████████████████████████████████████▏              | 35304/44003 [00:53<00:11, 751.50it/s]\n",
      "\n",
      " 80%|████████████████████████████████████████████████████████████▎              | 35389/44003 [00:53<00:11, 750.31it/s]\n",
      "\n",
      " 81%|████████████████████████████████████████████████████████████▍              | 35465/44003 [00:53<00:11, 750.75it/s]\n",
      "\n",
      " 81%|████████████████████████████████████████████████████████████▌              | 35541/44003 [00:53<00:12, 689.31it/s]\n",
      "\n",
      " 81%|████████████████████████████████████████████████████████████▋              | 35621/44003 [00:53<00:11, 701.76it/s]\n",
      "\n",
      " 81%|████████████████████████████████████████████████████████████▊              | 35696/44003 [00:53<00:11, 698.29it/s]\n",
      "\n"
     ]
    },
    {
     "name": "stderr",
     "output_type": "stream",
     "text": [
      " 81%|████████████████████████████████████████████████████████████▉              | 35773/44003 [00:53<00:11, 715.39it/s]\n",
      "\n",
      " 81%|█████████████████████████████████████████████████████████████              | 35846/44003 [00:54<00:11, 682.14it/s]\n",
      "\n",
      " 82%|█████████████████████████████████████████████████████████████▏             | 35915/44003 [00:54<00:12, 655.01it/s]\n",
      "\n",
      " 82%|█████████████████████████████████████████████████████████████▎             | 35993/44003 [00:54<00:11, 669.54it/s]\n",
      "\n",
      " 82%|█████████████████████████████████████████████████████████████▍             | 36072/44003 [00:54<00:11, 679.21it/s]\n",
      "\n",
      " 82%|█████████████████████████████████████████████████████████████▌             | 36141/44003 [00:54<00:11, 681.87it/s]\n",
      "\n",
      " 82%|█████████████████████████████████████████████████████████████▋             | 36210/44003 [00:54<00:11, 667.76it/s]\n",
      "\n",
      " 82%|█████████████████████████████████████████████████████████████▊             | 36293/44003 [00:54<00:11, 682.05it/s]\n",
      "\n",
      " 83%|█████████████████████████████████████████████████████████████▉             | 36367/44003 [00:54<00:11, 689.60it/s]\n",
      "\n",
      " 83%|██████████████████████████████████████████████████████████████             | 36437/44003 [00:54<00:11, 661.33it/s]\n",
      "\n",
      " 83%|██████████████████████████████████████████████████████████████▏            | 36522/44003 [00:55<00:10, 690.71it/s]\n",
      "\n",
      " 83%|██████████████████████████████████████████████████████████████▎            | 36592/44003 [00:55<00:10, 689.73it/s]\n",
      "\n",
      " 83%|██████████████████████████████████████████████████████████████▍            | 36662/44003 [00:55<00:10, 676.90it/s]\n",
      "\n",
      " 84%|██████████████████████████████████████████████████████████████▋            | 36762/44003 [00:55<00:09, 731.43it/s]\n",
      "\n",
      " 84%|██████████████████████████████████████████████████████████████▊            | 36837/44003 [00:55<00:09, 732.22it/s]\n",
      "\n",
      " 84%|██████████████████████████████████████████████████████████████▉            | 36915/44003 [00:55<00:09, 717.22it/s]\n",
      "\n",
      " 84%|███████████████████████████████████████████████████████████████            | 36992/44003 [00:55<00:09, 730.61it/s]\n",
      "\n",
      " 84%|███████████████████████████████████████████████████████████████▏           | 37068/44003 [00:55<00:09, 726.89it/s]\n",
      "\n",
      " 84%|███████████████████████████████████████████████████████████████▎           | 37155/44003 [00:55<00:09, 749.54it/s]\n",
      "\n",
      " 85%|███████████████████████████████████████████████████████████████▍           | 37241/44003 [00:56<00:08, 778.01it/s]\n",
      "\n",
      " 85%|███████████████████████████████████████████████████████████████▌           | 37322/44003 [00:56<00:08, 762.08it/s]\n",
      "\n",
      " 85%|███████████████████████████████████████████████████████████████▋           | 37399/44003 [00:56<00:08, 756.24it/s]\n",
      "\n",
      " 85%|███████████████████████████████████████████████████████████████▉           | 37485/44003 [00:56<00:08, 782.87it/s]\n",
      "\n",
      " 85%|████████████████████████████████████████████████████████████████           | 37564/44003 [00:56<00:08, 753.64it/s]\n",
      "\n",
      " 86%|████████████████████████████████████████████████████████████████▏          | 37640/44003 [00:56<00:08, 724.73it/s]\n",
      "\n",
      " 86%|████████████████████████████████████████████████████████████████▎          | 37736/44003 [00:56<00:08, 781.63it/s]\n",
      "\n",
      " 86%|████████████████████████████████████████████████████████████████▍          | 37816/44003 [00:56<00:08, 768.61it/s]\n",
      "\n",
      " 86%|████████████████████████████████████████████████████████████████▌          | 37895/44003 [00:56<00:07, 765.19it/s]\n",
      "\n",
      " 86%|████████████████████████████████████████████████████████████████▋          | 37973/44003 [00:57<00:08, 710.44it/s]\n",
      "\n",
      " 86%|████████████████████████████████████████████████████████████████▊          | 38046/44003 [00:57<00:08, 670.92it/s]\n",
      "\n",
      " 87%|█████████████████████████████████████████████████████████████████          | 38136/44003 [00:57<00:08, 716.35it/s]\n",
      "\n",
      " 87%|█████████████████████████████████████████████████████████████████▏         | 38216/44003 [00:57<00:08, 714.75it/s]\n",
      "\n",
      " 87%|█████████████████████████████████████████████████████████████████▎         | 38299/44003 [00:57<00:07, 725.01it/s]\n",
      "\n",
      " 87%|█████████████████████████████████████████████████████████████████▍         | 38376/44003 [00:57<00:07, 719.65it/s]\n",
      "\n",
      " 87%|█████████████████████████████████████████████████████████████████▌         | 38463/44003 [00:57<00:07, 754.08it/s]\n",
      "\n",
      " 88%|█████████████████████████████████████████████████████████████████▋         | 38552/44003 [00:57<00:07, 768.57it/s]\n",
      "\n",
      " 88%|█████████████████████████████████████████████████████████████████▊         | 38630/44003 [00:57<00:07, 728.28it/s]\n",
      "\n",
      " 88%|█████████████████████████████████████████████████████████████████▉         | 38704/44003 [00:58<00:07, 712.55it/s]\n",
      "\n",
      " 88%|██████████████████████████████████████████████████████████████████         | 38784/44003 [00:58<00:07, 735.98it/s]\n",
      "\n",
      " 88%|██████████████████████████████████████████████████████████████████▏        | 38859/44003 [00:58<00:07, 723.94it/s]\n",
      "\n",
      " 88%|██████████████████████████████████████████████████████████████████▎        | 38933/44003 [00:58<00:07, 698.50it/s]\n",
      "\n",
      " 89%|██████████████████████████████████████████████████████████████████▍        | 39011/44003 [00:58<00:07, 710.75it/s]\n",
      "\n",
      " 89%|██████████████████████████████████████████████████████████████████▌        | 39085/44003 [00:58<00:06, 713.61it/s]\n",
      "\n",
      " 89%|██████████████████████████████████████████████████████████████████▋        | 39157/44003 [00:58<00:06, 693.05it/s]\n",
      "\n",
      " 89%|██████████████████████████████████████████████████████████████████▊        | 39227/44003 [00:58<00:06, 684.86it/s]\n",
      "\n",
      " 89%|███████████████████████████████████████████████████████████████████        | 39312/44003 [00:58<00:06, 725.89it/s]\n",
      "\n",
      " 90%|███████████████████████████████████████████████████████████████████▏       | 39390/44003 [00:58<00:06, 733.56it/s]\n",
      "\n",
      " 90%|███████████████████████████████████████████████████████████████████▎       | 39464/44003 [00:59<00:06, 703.10it/s]\n",
      "\n",
      " 90%|███████████████████████████████████████████████████████████████████▍       | 39550/44003 [00:59<00:06, 718.70it/s]\n",
      "\n",
      " 90%|███████████████████████████████████████████████████████████████████▌       | 39623/44003 [00:59<00:06, 714.85it/s]\n",
      "\n",
      " 90%|███████████████████████████████████████████████████████████████████▋       | 39708/44003 [00:59<00:05, 733.41it/s]\n",
      "\n",
      " 90%|███████████████████████████████████████████████████████████████████▊       | 39792/44003 [00:59<00:05, 760.44it/s]\n",
      "\n",
      " 91%|███████████████████████████████████████████████████████████████████▉       | 39869/44003 [00:59<00:05, 738.86it/s]\n",
      "\n",
      " 91%|████████████████████████████████████████████████████████████████████       | 39944/44003 [00:59<00:06, 674.49it/s]\n",
      "\n",
      " 91%|████████████████████████████████████████████████████████████████████▏      | 40029/44003 [00:59<00:05, 692.21it/s]\n",
      "\n",
      " 91%|████████████████████████████████████████████████████████████████████▎      | 40107/44003 [01:00<00:05, 684.32it/s]\n",
      "\n",
      " 91%|████████████████████████████████████████████████████████████████████▍      | 40177/44003 [01:00<00:05, 651.01it/s]\n",
      "\n",
      " 91%|████████████████████████████████████████████████████████████████████▌      | 40244/44003 [01:00<00:05, 650.81it/s]\n",
      "\n",
      " 92%|████████████████████████████████████████████████████████████████████▋      | 40315/44003 [01:00<00:05, 657.44it/s]\n",
      "\n",
      " 92%|████████████████████████████████████████████████████████████████████▊      | 40382/44003 [01:00<00:06, 570.22it/s]\n",
      "\n",
      " 92%|████████████████████████████████████████████████████████████████████▉      | 40454/44003 [01:00<00:06, 591.07it/s]\n",
      "\n",
      " 92%|█████████████████████████████████████████████████████████████████████      | 40521/44003 [01:00<00:05, 612.51it/s]\n",
      "\n",
      " 92%|█████████████████████████████████████████████████████████████████████▏     | 40600/44003 [01:00<00:05, 654.99it/s]\n",
      "\n",
      " 93%|█████████████████████████████████████████████████████████████████████▍     | 40706/44003 [01:00<00:04, 728.28it/s]\n",
      "\n",
      " 93%|█████████████████████████████████████████████████████████████████████▌     | 40783/44003 [01:01<00:04, 708.97it/s]\n",
      "\n",
      " 93%|█████████████████████████████████████████████████████████████████████▋     | 40857/44003 [01:01<00:04, 699.73it/s]\n",
      "\n",
      " 93%|█████████████████████████████████████████████████████████████████████▊     | 40934/44003 [01:01<00:04, 703.19it/s]\n",
      "\n"
     ]
    },
    {
     "name": "stderr",
     "output_type": "stream",
     "text": [
      " 93%|█████████████████████████████████████████████████████████████████████▉     | 41006/44003 [01:01<00:04, 690.17it/s]\n",
      "\n",
      " 93%|██████████████████████████████████████████████████████████████████████     | 41077/44003 [01:01<00:04, 694.54it/s]\n",
      "\n",
      " 94%|██████████████████████████████████████████████████████████████████████▏    | 41157/44003 [01:01<00:04, 709.57it/s]\n",
      "\n",
      " 94%|██████████████████████████████████████████████████████████████████████▎    | 41240/44003 [01:01<00:03, 726.45it/s]\n",
      "\n",
      " 94%|██████████████████████████████████████████████████████████████████████▍    | 41338/44003 [01:01<00:03, 773.11it/s]\n",
      "\n",
      " 94%|██████████████████████████████████████████████████████████████████████▌    | 41417/44003 [01:01<00:03, 709.86it/s]\n",
      "\n",
      " 94%|██████████████████████████████████████████████████████████████████████▋    | 41495/44003 [01:02<00:03, 709.66it/s]\n",
      "\n",
      " 94%|██████████████████████████████████████████████████████████████████████▊    | 41576/44003 [01:02<00:03, 719.86it/s]\n",
      "\n",
      " 95%|██████████████████████████████████████████████████████████████████████▉    | 41649/44003 [01:02<00:03, 706.81it/s]\n",
      "\n",
      " 95%|███████████████████████████████████████████████████████████████████████    | 41721/44003 [01:02<00:03, 676.34it/s]\n",
      "\n",
      " 95%|███████████████████████████████████████████████████████████████████████▏   | 41790/44003 [01:02<00:03, 645.67it/s]\n",
      "\n",
      " 95%|███████████████████████████████████████████████████████████████████████▎   | 41859/44003 [01:02<00:03, 632.86it/s]\n",
      "\n",
      " 95%|███████████████████████████████████████████████████████████████████████▍   | 41939/44003 [01:02<00:03, 671.29it/s]\n",
      "\n",
      " 95%|███████████████████████████████████████████████████████████████████████▌   | 42021/44003 [01:02<00:02, 683.52it/s]\n",
      "\n",
      " 96%|███████████████████████████████████████████████████████████████████████▊   | 42105/44003 [01:02<00:02, 707.52it/s]\n",
      "\n",
      " 96%|███████████████████████████████████████████████████████████████████████▉   | 42190/44003 [01:03<00:02, 743.40it/s]\n",
      "\n",
      " 96%|████████████████████████████████████████████████████████████████████████   | 42266/44003 [01:03<00:02, 686.36it/s]\n",
      "\n",
      " 96%|████████████████████████████████████████████████████████████████████████▏  | 42337/44003 [01:03<00:02, 659.87it/s]\n",
      "\n",
      " 96%|████████████████████████████████████████████████████████████████████████▎  | 42405/44003 [01:03<00:02, 662.77it/s]\n",
      "\n",
      " 97%|████████████████████████████████████████████████████████████████████████▍  | 42490/44003 [01:03<00:02, 683.65it/s]\n",
      "\n",
      " 97%|████████████████████████████████████████████████████████████████████████▌  | 42560/44003 [01:03<00:02, 669.64it/s]\n",
      "\n",
      " 97%|████████████████████████████████████████████████████████████████████████▋  | 42628/44003 [01:03<00:02, 656.47it/s]\n",
      "\n",
      " 97%|████████████████████████████████████████████████████████████████████████▊  | 42711/44003 [01:03<00:01, 700.16it/s]\n",
      "\n",
      " 97%|████████████████████████████████████████████████████████████████████████▉  | 42796/44003 [01:03<00:01, 721.40it/s]\n",
      "\n",
      " 97%|█████████████████████████████████████████████████████████████████████████  | 42884/44003 [01:04<00:01, 734.04it/s]\n",
      "\n",
      " 98%|█████████████████████████████████████████████████████████████████████████▏ | 42959/44003 [01:04<00:01, 737.71it/s]\n",
      "\n",
      " 98%|█████████████████████████████████████████████████████████████████████████▎ | 43034/44003 [01:04<00:01, 741.10it/s]\n",
      "\n",
      " 98%|█████████████████████████████████████████████████████████████████████████▍ | 43109/44003 [01:04<00:01, 740.47it/s]\n",
      "\n",
      " 98%|█████████████████████████████████████████████████████████████████████████▌ | 43184/44003 [01:04<00:01, 728.47it/s]\n",
      "\n",
      " 98%|█████████████████████████████████████████████████████████████████████████▋ | 43258/44003 [01:04<00:01, 626.05it/s]\n",
      "\n",
      " 98%|█████████████████████████████████████████████████████████████████████████▊ | 43324/44003 [01:04<00:01, 633.54it/s]\n",
      "\n",
      " 99%|█████████████████████████████████████████████████████████████████████████▉ | 43390/44003 [01:04<00:01, 612.81it/s]\n",
      "\n",
      " 99%|██████████████████████████████████████████████████████████████████████████ | 43487/44003 [01:04<00:00, 675.97it/s]\n",
      "\n",
      " 99%|██████████████████████████████████████████████████████████████████████████▎| 43571/44003 [01:05<00:00, 693.38it/s]\n",
      "\n",
      " 99%|██████████████████████████████████████████████████████████████████████████▍| 43643/44003 [01:05<00:00, 589.00it/s]\n",
      "\n",
      " 99%|██████████████████████████████████████████████████████████████████████████▍| 43707/44003 [01:05<00:00, 553.58it/s]\n",
      "\n",
      " 99%|██████████████████████████████████████████████████████████████████████████▌| 43780/44003 [01:05<00:00, 585.30it/s]\n",
      "\n",
      "100%|██████████████████████████████████████████████████████████████████████████▊| 43881/44003 [01:05<00:00, 651.82it/s]\n",
      "\n",
      "100%|██████████████████████████████████████████████████████████████████████████▉| 43952/44003 [01:05<00:00, 667.53it/s]\n",
      "\n",
      "100%|███████████████████████████████████████████████████████████████████████████| 44003/44003 [01:05<00:00, 669.53it/s]"
     ]
    }
   ],
   "source": [
    "X_train_tfidfw2v = compute_tfidf_w2v(tfidf, w2v_model, list_of_reviews_train)"
   ]
  },
  {
   "cell_type": "code",
   "execution_count": 46,
   "metadata": {
    "scrolled": true
   },
   "outputs": [
    {
     "name": "stderr",
     "output_type": "stream",
     "text": [
      "\n",
      "\n",
      "  0%|                                                                                        | 0/18859 [00:00<?, ?it/s]\n",
      "\n",
      "  0%|▎                                                                             | 83/18859 [00:00<00:25, 725.13it/s]\n",
      "\n",
      "  1%|▌                                                                            | 142/18859 [00:00<00:28, 659.27it/s]\n",
      "\n",
      "  1%|▉                                                                            | 226/18859 [00:00<00:26, 691.33it/s]\n",
      "\n",
      "  2%|█▏                                                                           | 292/18859 [00:00<00:27, 664.17it/s]\n",
      "\n",
      "  2%|█▍                                                                           | 367/18859 [00:00<00:27, 667.56it/s]\n",
      "\n",
      "  2%|█▊                                                                           | 453/18859 [00:00<00:26, 692.30it/s]\n",
      "\n",
      "  3%|██▏                                                                          | 521/18859 [00:00<00:27, 675.29it/s]\n",
      "\n",
      "  3%|██▍                                                                          | 595/18859 [00:00<00:26, 692.20it/s]\n",
      "\n",
      "  4%|██▋                                                                          | 669/18859 [00:00<00:25, 704.41it/s]\n",
      "\n",
      "  4%|███                                                                          | 747/18859 [00:01<00:25, 716.07it/s]\n",
      "\n",
      "  4%|███▎                                                                         | 817/18859 [00:01<00:34, 515.66it/s]\n",
      "\n",
      "  5%|███▌                                                                         | 876/18859 [00:01<00:40, 445.49it/s]\n",
      "\n",
      "  5%|███▊                                                                         | 927/18859 [00:01<00:39, 454.70it/s]\n",
      "\n",
      "  5%|████                                                                        | 1006/18859 [00:01<00:34, 519.27it/s]\n",
      "\n",
      "  6%|████▎                                                                       | 1068/18859 [00:01<00:32, 545.62it/s]\n",
      "\n",
      "  6%|████▋                                                                       | 1158/18859 [00:01<00:29, 600.32it/s]\n",
      "\n",
      "  6%|████▉                                                                       | 1224/18859 [00:02<00:29, 602.82it/s]\n",
      "\n",
      "  7%|█████▏                                                                      | 1288/18859 [00:02<00:37, 467.67it/s]\n",
      "\n",
      "  7%|█████▍                                                                      | 1360/18859 [00:02<00:34, 505.77it/s]\n",
      "\n",
      "  8%|█████▊                                                                      | 1436/18859 [00:02<00:31, 557.34it/s]\n",
      "\n",
      "  8%|██████                                                                      | 1500/18859 [00:02<00:30, 568.80it/s]\n",
      "\n",
      "  8%|██████▍                                                                     | 1589/18859 [00:02<00:27, 636.87it/s]\n",
      "\n",
      "  9%|██████▋                                                                     | 1659/18859 [00:02<00:26, 648.34it/s]\n",
      "\n",
      "  9%|██████▉                                                                     | 1728/18859 [00:02<00:34, 489.63it/s]\n",
      "\n",
      " 10%|███████▎                                                                    | 1811/18859 [00:03<00:30, 557.64it/s]\n",
      "\n",
      " 10%|███████▌                                                                    | 1884/18859 [00:03<00:28, 597.31it/s]\n",
      "\n",
      " 10%|███████▉                                                                    | 1965/18859 [00:03<00:26, 647.14it/s]\n",
      "\n",
      " 11%|████████▏                                                                   | 2036/18859 [00:03<00:26, 643.64it/s]\n",
      "\n",
      " 11%|████████▌                                                                   | 2128/18859 [00:03<00:24, 693.28it/s]\n",
      "\n",
      " 12%|████████▊                                                                   | 2202/18859 [00:03<00:25, 659.99it/s]\n",
      "\n",
      " 12%|█████████▏                                                                  | 2294/18859 [00:03<00:23, 698.23it/s]\n",
      "\n",
      " 13%|█████████▌                                                                  | 2371/18859 [00:03<00:23, 716.79it/s]\n",
      "\n",
      " 13%|█████████▊                                                                  | 2445/18859 [00:03<00:23, 696.93it/s]\n",
      "\n",
      " 13%|██████████▏                                                                 | 2517/18859 [00:04<00:25, 647.41it/s]\n",
      "\n",
      " 14%|██████████▍                                                                 | 2584/18859 [00:04<00:26, 611.63it/s]\n",
      "\n",
      " 14%|██████████▋                                                                 | 2647/18859 [00:04<00:28, 575.31it/s]\n",
      "\n",
      " 14%|██████████▉                                                                 | 2717/18859 [00:04<00:26, 606.64it/s]\n",
      "\n",
      " 15%|███████████▎                                                                | 2792/18859 [00:04<00:25, 640.69it/s]\n",
      "\n",
      " 15%|███████████▌                                                                | 2870/18859 [00:04<00:23, 674.55it/s]\n",
      "\n",
      " 16%|███████████▉                                                                | 2966/18859 [00:04<00:21, 725.58it/s]\n",
      "\n",
      " 16%|████████████▎                                                               | 3053/18859 [00:04<00:21, 750.03it/s]\n",
      "\n",
      " 17%|████████████▌                                                               | 3130/18859 [00:04<00:21, 723.48it/s]\n",
      "\n",
      " 17%|████████████▉                                                               | 3209/18859 [00:05<00:21, 741.87it/s]\n",
      "\n",
      " 17%|█████████████▏                                                              | 3285/18859 [00:05<00:22, 700.36it/s]\n",
      "\n",
      " 18%|█████████████▌                                                              | 3367/18859 [00:05<00:21, 730.99it/s]\n",
      "\n",
      " 18%|█████████████▉                                                              | 3463/18859 [00:05<00:19, 774.54it/s]\n",
      "\n",
      " 19%|██████████████▎                                                             | 3543/18859 [00:05<00:20, 751.81it/s]\n",
      "\n",
      " 19%|██████████████▌                                                             | 3620/18859 [00:05<00:21, 703.89it/s]\n",
      "\n",
      " 20%|██████████████▉                                                             | 3714/18859 [00:05<00:19, 759.90it/s]\n",
      "\n",
      " 20%|███████████████▎                                                            | 3793/18859 [00:05<00:20, 749.63it/s]\n",
      "\n",
      " 21%|███████████████▌                                                            | 3870/18859 [00:06<00:30, 486.16it/s]\n",
      "\n",
      " 21%|███████████████▊                                                            | 3932/18859 [00:06<00:33, 441.53it/s]\n",
      "\n",
      " 21%|████████████████▏                                                           | 4017/18859 [00:06<00:28, 514.29it/s]\n",
      "\n",
      " 22%|████████████████▌                                                           | 4097/18859 [00:06<00:25, 573.87it/s]\n",
      "\n",
      " 22%|████████████████▊                                                           | 4165/18859 [00:06<00:24, 593.06it/s]\n",
      "\n",
      " 23%|█████████████████▏                                                          | 4258/18859 [00:06<00:22, 646.94it/s]\n",
      "\n",
      " 23%|█████████████████▍                                                          | 4330/18859 [00:06<00:21, 664.96it/s]\n",
      "\n",
      " 23%|█████████████████▋                                                          | 4402/18859 [00:06<00:22, 648.53it/s]\n",
      "\n",
      " 24%|██████████████████                                                          | 4473/18859 [00:07<00:21, 665.42it/s]\n",
      "\n",
      " 24%|██████████████████▎                                                         | 4543/18859 [00:07<00:29, 484.23it/s]\n",
      "\n",
      " 24%|██████████████████▌                                                         | 4601/18859 [00:07<00:31, 456.94it/s]\n",
      "\n",
      " 25%|██████████████████▊                                                         | 4654/18859 [00:07<00:31, 444.67it/s]\n",
      "\n",
      " 25%|███████████████████                                                         | 4728/18859 [00:07<00:28, 502.56it/s]\n",
      "\n",
      " 26%|███████████████████▍                                                        | 4812/18859 [00:07<00:24, 568.22it/s]\n",
      "\n",
      " 26%|███████████████████▋                                                        | 4882/18859 [00:07<00:23, 596.29it/s]\n",
      "\n",
      " 26%|████████████████████                                                        | 4969/18859 [00:07<00:21, 636.79it/s]\n",
      "\n"
     ]
    },
    {
     "name": "stderr",
     "output_type": "stream",
     "text": [
      " 27%|████████████████████▎                                                       | 5038/18859 [00:08<00:23, 585.65it/s]\n",
      "\n",
      " 27%|████████████████████▌                                                       | 5103/18859 [00:08<00:22, 602.34it/s]\n",
      "\n",
      " 27%|████████████████████▊                                                       | 5179/18859 [00:08<00:21, 622.29it/s]\n",
      "\n",
      " 28%|█████████████████████▏                                                      | 5265/18859 [00:08<00:20, 671.27it/s]\n",
      "\n",
      " 28%|█████████████████████▌                                                      | 5351/18859 [00:08<00:19, 708.76it/s]\n",
      "\n",
      " 29%|█████████████████████▊                                                      | 5425/18859 [00:08<00:18, 708.70it/s]\n",
      "\n",
      " 29%|██████████████████████▏                                                     | 5503/18859 [00:08<00:18, 710.12it/s]\n",
      "\n",
      " 30%|██████████████████████▌                                                     | 5589/18859 [00:08<00:17, 747.43it/s]\n",
      "\n",
      " 30%|██████████████████████▉                                                     | 5686/18859 [00:08<00:16, 777.37it/s]\n",
      "\n",
      " 31%|███████████████████████▏                                                    | 5765/18859 [00:09<00:16, 770.87it/s]\n",
      "\n",
      " 31%|███████████████████████▌                                                    | 5843/18859 [00:09<00:19, 659.82it/s]\n",
      "\n",
      " 31%|███████████████████████▉                                                    | 5925/18859 [00:09<00:18, 696.22it/s]\n",
      "\n",
      " 32%|████████████████████████▏                                                   | 6001/18859 [00:09<00:18, 701.37it/s]\n",
      "\n",
      " 32%|████████████████████████▌                                                   | 6085/18859 [00:09<00:17, 726.98it/s]\n",
      "\n",
      " 33%|████████████████████████▊                                                   | 6161/18859 [00:09<00:18, 702.53it/s]\n",
      "\n",
      " 33%|█████████████████████████                                                   | 6233/18859 [00:09<00:18, 692.96it/s]\n",
      "\n",
      " 33%|█████████████████████████▍                                                  | 6308/18859 [00:09<00:17, 702.93it/s]\n",
      "\n",
      " 34%|█████████████████████████▋                                                  | 6385/18859 [00:09<00:17, 707.47it/s]\n",
      "\n",
      " 34%|██████████████████████████                                                  | 6471/18859 [00:10<00:17, 723.48it/s]\n",
      "\n",
      " 35%|██████████████████████████▍                                                 | 6565/18859 [00:10<00:16, 748.39it/s]\n",
      "\n",
      " 35%|██████████████████████████▊                                                 | 6641/18859 [00:10<00:21, 578.21it/s]\n",
      "\n",
      " 36%|███████████████████████████                                                 | 6706/18859 [00:10<00:21, 569.62it/s]\n",
      "\n",
      " 36%|███████████████████████████▎                                                | 6771/18859 [00:10<00:20, 589.92it/s]\n",
      "\n",
      " 36%|███████████████████████████▌                                                | 6834/18859 [00:10<00:22, 537.30it/s]\n",
      "\n",
      " 37%|███████████████████████████▊                                                | 6891/18859 [00:10<00:22, 540.94it/s]\n",
      "\n",
      " 37%|████████████████████████████                                                | 6957/18859 [00:10<00:20, 570.77it/s]\n",
      "\n",
      " 37%|████████████████████████████▎                                               | 7022/18859 [00:11<00:20, 579.68it/s]\n",
      "\n",
      " 38%|████████████████████████████▌                                               | 7084/18859 [00:11<00:19, 590.03it/s]\n",
      "\n",
      " 38%|████████████████████████████▊                                               | 7145/18859 [00:11<00:23, 496.81it/s]\n",
      "\n",
      " 38%|█████████████████████████████                                               | 7212/18859 [00:11<00:21, 537.01it/s]\n",
      "\n",
      " 39%|█████████████████████████████▎                                              | 7280/18859 [00:11<00:20, 563.89it/s]\n",
      "\n",
      " 39%|█████████████████████████████▌                                              | 7343/18859 [00:11<00:19, 581.59it/s]\n",
      "\n",
      " 39%|█████████████████████████████▉                                              | 7419/18859 [00:11<00:18, 609.18it/s]\n",
      "\n",
      " 40%|██████████████████████████████▏                                             | 7489/18859 [00:11<00:17, 633.59it/s]\n",
      "\n",
      " 40%|██████████████████████████████▍                                             | 7566/18859 [00:11<00:16, 664.44it/s]\n",
      "\n",
      " 40%|██████████████████████████████▊                                             | 7634/18859 [00:12<00:18, 621.92it/s]\n",
      "\n",
      " 41%|███████████████████████████████                                             | 7698/18859 [00:12<00:21, 519.49it/s]\n",
      "\n",
      " 41%|███████████████████████████████▎                                            | 7781/18859 [00:12<00:19, 581.18it/s]\n",
      "\n",
      " 42%|███████████████████████████████▌                                            | 7845/18859 [00:12<00:23, 459.97it/s]\n",
      "\n",
      " 42%|███████████████████████████████▊                                            | 7899/18859 [00:12<00:24, 442.45it/s]\n",
      "\n",
      " 42%|████████████████████████████████                                            | 7951/18859 [00:12<00:23, 462.05it/s]\n",
      "\n",
      " 42%|████████████████████████████████▏                                           | 8002/18859 [00:12<00:25, 425.86it/s]\n",
      "\n",
      " 43%|████████████████████████████████▌                                           | 8076/18859 [00:13<00:22, 485.39it/s]\n",
      "\n",
      " 43%|████████████████████████████████▉                                           | 8163/18859 [00:13<00:19, 557.62it/s]\n",
      "\n",
      " 44%|█████████████████████████████████▏                                          | 8240/18859 [00:13<00:17, 606.87it/s]\n",
      "\n",
      " 44%|█████████████████████████████████▍                                          | 8311/18859 [00:13<00:16, 623.30it/s]\n",
      "\n",
      " 44%|█████████████████████████████████▊                                          | 8384/18859 [00:13<00:16, 650.61it/s]\n",
      "\n",
      " 45%|██████████████████████████████████                                          | 8453/18859 [00:13<00:15, 658.83it/s]\n",
      "\n",
      " 45%|██████████████████████████████████▍                                         | 8533/18859 [00:13<00:14, 694.34it/s]\n",
      "\n",
      " 46%|██████████████████████████████████▋                                         | 8605/18859 [00:13<00:15, 678.62it/s]\n",
      "\n",
      " 46%|██████████████████████████████████▉                                         | 8677/18859 [00:13<00:14, 683.92it/s]\n",
      "\n",
      " 46%|███████████████████████████████████▎                                        | 8756/18859 [00:13<00:14, 711.54it/s]\n",
      "\n",
      " 47%|███████████████████████████████████▌                                        | 8829/18859 [00:14<00:16, 609.21it/s]\n",
      "\n",
      " 47%|███████████████████████████████████▊                                        | 8894/18859 [00:14<00:16, 587.75it/s]\n",
      "\n",
      " 47%|████████████████████████████████████                                        | 8956/18859 [00:14<00:17, 567.99it/s]\n",
      "\n",
      " 48%|████████████████████████████████████▎                                       | 9015/18859 [00:14<00:18, 540.26it/s]\n",
      "\n",
      " 48%|████████████████████████████████████▌                                       | 9071/18859 [00:14<00:19, 490.61it/s]\n",
      "\n",
      " 48%|████████████████████████████████████▊                                       | 9123/18859 [00:14<00:19, 496.56it/s]\n",
      "\n",
      " 49%|█████████████████████████████████████▏                                      | 9213/18859 [00:14<00:17, 567.33it/s]\n",
      "\n",
      " 49%|█████████████████████████████████████▍                                      | 9280/18859 [00:14<00:16, 580.07it/s]\n",
      "\n",
      " 50%|█████████████████████████████████████▋                                      | 9353/18859 [00:15<00:15, 609.09it/s]\n",
      "\n",
      " 50%|█████████████████████████████████████▉                                      | 9420/18859 [00:15<00:15, 624.26it/s]\n",
      "\n",
      " 50%|██████████████████████████████████████▎                                     | 9492/18859 [00:15<00:14, 648.63it/s]\n",
      "\n",
      " 51%|██████████████████████████████████████▌                                     | 9559/18859 [00:15<00:14, 654.43it/s]\n",
      "\n",
      " 51%|██████████████████████████████████████▊                                     | 9634/18859 [00:15<00:13, 678.69it/s]\n",
      "\n",
      " 51%|███████████████████████████████████████▏                                    | 9709/18859 [00:15<00:13, 695.94it/s]\n",
      "\n",
      " 52%|███████████████████████████████████████▍                                    | 9780/18859 [00:15<00:13, 671.51it/s]\n",
      "\n"
     ]
    },
    {
     "name": "stderr",
     "output_type": "stream",
     "text": [
      " 52%|███████████████████████████████████████▋                                    | 9848/18859 [00:15<00:13, 657.55it/s]\n",
      "\n",
      " 53%|███████████████████████████████████████▉                                    | 9915/18859 [00:15<00:14, 614.21it/s]\n",
      "\n",
      " 53%|███████████████████████████████████████▊                                   | 10004/18859 [00:16<00:13, 667.51it/s]\n",
      "\n",
      " 53%|████████████████████████████████████████                                   | 10085/18859 [00:16<00:12, 688.58it/s]\n",
      "\n",
      " 54%|████████████████████████████████████████▍                                  | 10156/18859 [00:16<00:12, 678.70it/s]\n",
      "\n",
      " 54%|████████████████████████████████████████▋                                  | 10226/18859 [00:16<00:14, 604.26it/s]\n",
      "\n",
      " 55%|████████████████████████████████████████▉                                  | 10289/18859 [00:16<00:14, 576.61it/s]\n",
      "\n",
      " 55%|█████████████████████████████████████████▏                                 | 10361/18859 [00:16<00:14, 602.76it/s]\n",
      "\n",
      " 55%|█████████████████████████████████████████▍                                 | 10423/18859 [00:16<00:13, 605.08it/s]\n",
      "\n",
      " 56%|█████████████████████████████████████████▋                                 | 10493/18859 [00:16<00:13, 617.60it/s]\n",
      "\n",
      " 56%|██████████████████████████████████████████                                 | 10566/18859 [00:16<00:12, 647.22it/s]\n",
      "\n",
      " 56%|██████████████████████████████████████████▎                                | 10649/18859 [00:17<00:12, 679.69it/s]\n",
      "\n",
      " 57%|██████████████████████████████████████████▋                                | 10726/18859 [00:17<00:11, 689.14it/s]\n",
      "\n",
      " 57%|██████████████████████████████████████████▉                                | 10796/18859 [00:17<00:12, 663.71it/s]\n",
      "\n",
      " 58%|███████████████████████████████████████████▏                               | 10864/18859 [00:17<00:12, 653.64it/s]\n",
      "\n",
      " 58%|███████████████████████████████████████████▍                               | 10930/18859 [00:17<00:13, 597.49it/s]\n",
      "\n",
      " 58%|███████████████████████████████████████████▋                               | 10992/18859 [00:17<00:16, 467.40it/s]\n",
      "\n",
      " 59%|███████████████████████████████████████████▉                               | 11047/18859 [00:17<00:15, 488.34it/s]\n",
      "\n",
      " 59%|████████████████████████████████████████████▎                              | 11131/18859 [00:17<00:13, 556.34it/s]\n",
      "\n",
      " 59%|████████████████████████████████████████████▌                              | 11204/18859 [00:17<00:12, 595.88it/s]\n",
      "\n",
      " 60%|████████████████████████████████████████████▊                              | 11280/18859 [00:18<00:11, 634.02it/s]\n",
      "\n",
      " 60%|█████████████████████████████████████████████▏                             | 11355/18859 [00:18<00:11, 660.08it/s]\n",
      "\n",
      " 61%|█████████████████████████████████████████████▍                             | 11425/18859 [00:18<00:14, 520.90it/s]\n",
      "\n",
      " 61%|█████████████████████████████████████████████▋                             | 11484/18859 [00:18<00:13, 537.88it/s]\n",
      "\n",
      " 61%|█████████████████████████████████████████████▉                             | 11562/18859 [00:18<00:12, 592.87it/s]\n",
      "\n",
      " 62%|██████████████████████████████████████████████▎                            | 11659/18859 [00:18<00:10, 668.76it/s]\n",
      "\n",
      " 62%|██████████████████████████████████████████████▋                            | 11747/18859 [00:18<00:09, 719.92it/s]\n",
      "\n",
      " 63%|███████████████████████████████████████████████                            | 11825/18859 [00:18<00:09, 732.59it/s]\n",
      "\n",
      " 63%|███████████████████████████████████████████████▎                           | 11903/18859 [00:19<00:12, 569.13it/s]\n",
      "\n",
      " 63%|███████████████████████████████████████████████▌                           | 11969/18859 [00:19<00:11, 577.48it/s]\n",
      "\n",
      " 64%|███████████████████████████████████████████████▉                           | 12055/18859 [00:19<00:10, 627.23it/s]\n",
      "\n",
      " 64%|████████████████████████████████████████████████▎                          | 12154/18859 [00:19<00:09, 704.38it/s]\n",
      "\n",
      " 65%|████████████████████████████████████████████████▋                          | 12232/18859 [00:19<00:09, 710.19it/s]\n",
      "\n",
      " 65%|████████████████████████████████████████████████▉                          | 12308/18859 [00:19<00:09, 720.88it/s]\n",
      "\n",
      " 66%|█████████████████████████████████████████████████▎                         | 12400/18859 [00:19<00:08, 769.52it/s]\n",
      "\n",
      " 66%|█████████████████████████████████████████████████▋                         | 12481/18859 [00:19<00:08, 763.80it/s]\n",
      "\n",
      " 67%|█████████████████████████████████████████████████▉                         | 12560/18859 [00:19<00:08, 763.51it/s]\n",
      "\n",
      " 67%|██████████████████████████████████████████████████▎                        | 12638/18859 [00:20<00:08, 764.48it/s]\n",
      "\n",
      " 67%|██████████████████████████████████████████████████▌                        | 12716/18859 [00:20<00:10, 592.87it/s]\n",
      "\n",
      " 68%|██████████████████████████████████████████████████▊                        | 12782/18859 [00:20<00:10, 562.10it/s]\n",
      "\n",
      " 68%|███████████████████████████████████████████████████▏                       | 12865/18859 [00:20<00:09, 621.34it/s]\n",
      "\n",
      " 69%|███████████████████████████████████████████████████▍                       | 12933/18859 [00:20<00:09, 614.92it/s]\n",
      "\n",
      " 69%|███████████████████████████████████████████████████▋                       | 13004/18859 [00:20<00:09, 634.04it/s]\n",
      "\n",
      " 69%|████████████████████████████████████████████████████                       | 13082/18859 [00:20<00:08, 664.96it/s]\n",
      "\n",
      " 70%|████████████████████████████████████████████████████▎                      | 13167/18859 [00:20<00:08, 687.48it/s]\n",
      "\n",
      " 70%|████████████████████████████████████████████████████▋                      | 13239/18859 [00:21<00:08, 675.13it/s]\n",
      "\n",
      " 71%|████████████████████████████████████████████████████▉                      | 13319/18859 [00:21<00:08, 688.19it/s]\n",
      "\n",
      " 71%|█████████████████████████████████████████████████████▎                     | 13391/18859 [00:21<00:07, 696.66it/s]\n",
      "\n",
      " 71%|█████████████████████████████████████████████████████▌                     | 13477/18859 [00:21<00:07, 715.89it/s]\n",
      "\n",
      " 72%|█████████████████████████████████████████████████████▉                     | 13555/18859 [00:21<00:07, 732.97it/s]\n",
      "\n",
      " 72%|██████████████████████████████████████████████████████▏                    | 13629/18859 [00:21<00:07, 688.55it/s]\n",
      "\n",
      " 73%|██████████████████████████████████████████████████████▍                    | 13699/18859 [00:21<00:08, 644.79it/s]\n",
      "\n",
      " 73%|██████████████████████████████████████████████████████▊                    | 13775/18859 [00:21<00:07, 674.19it/s]\n",
      "\n",
      " 73%|███████████████████████████████████████████████████████                    | 13848/18859 [00:21<00:07, 668.80it/s]\n",
      "\n",
      " 74%|███████████████████████████████████████████████████████▍                   | 13948/18859 [00:22<00:06, 720.17it/s]\n",
      "\n",
      " 74%|███████████████████████████████████████████████████████▊                   | 14027/18859 [00:22<00:06, 711.91it/s]\n",
      "\n",
      " 75%|████████████████████████████████████████████████████████                   | 14111/18859 [00:22<00:06, 717.42it/s]\n",
      "\n",
      " 75%|████████████████████████████████████████████████████████▍                  | 14184/18859 [00:22<00:06, 684.33it/s]\n",
      "\n",
      " 76%|████████████████████████████████████████████████████████▋                  | 14267/18859 [00:22<00:06, 710.46it/s]\n",
      "\n",
      " 76%|█████████████████████████████████████████████████████████                  | 14339/18859 [00:22<00:06, 696.33it/s]\n",
      "\n",
      " 76%|█████████████████████████████████████████████████████████▎                 | 14410/18859 [00:22<00:06, 659.98it/s]\n",
      "\n",
      " 77%|█████████████████████████████████████████████████████████▌                 | 14484/18859 [00:22<00:06, 678.87it/s]\n",
      "\n",
      " 77%|█████████████████████████████████████████████████████████▉                 | 14566/18859 [00:22<00:06, 711.52it/s]\n",
      "\n",
      " 78%|██████████████████████████████████████████████████████████▏                | 14645/18859 [00:23<00:05, 732.64it/s]\n",
      "\n",
      " 78%|██████████████████████████████████████████████████████████▌                | 14720/18859 [00:23<00:08, 491.78it/s]\n",
      "\n",
      " 78%|██████████████████████████████████████████████████████████▊                | 14781/18859 [00:23<00:07, 513.56it/s]\n",
      "\n",
      " 79%|███████████████████████████████████████████████████████████                | 14866/18859 [00:23<00:06, 579.20it/s]\n",
      "\n"
     ]
    },
    {
     "name": "stderr",
     "output_type": "stream",
     "text": [
      " 79%|███████████████████████████████████████████████████████████▍               | 14941/18859 [00:23<00:06, 620.55it/s]\n",
      "\n",
      " 80%|███████████████████████████████████████████████████████████▋               | 15010/18859 [00:23<00:08, 475.45it/s]\n",
      "\n",
      " 80%|███████████████████████████████████████████████████████████▉               | 15086/18859 [00:23<00:07, 532.50it/s]\n",
      "\n",
      " 80%|████████████████████████████████████████████████████████████▎              | 15161/18859 [00:24<00:06, 582.01it/s]\n",
      "\n",
      " 81%|████████████████████████████████████████████████████████████▌              | 15227/18859 [00:24<00:06, 597.32it/s]\n",
      "\n",
      " 81%|████████████████████████████████████████████████████████████▊              | 15293/18859 [00:24<00:05, 603.52it/s]\n",
      "\n",
      " 82%|█████████████████████████████████████████████████████████████▏             | 15380/18859 [00:24<00:05, 647.13it/s]\n",
      "\n",
      " 82%|█████████████████████████████████████████████████████████████▍             | 15459/18859 [00:24<00:05, 677.69it/s]\n",
      "\n",
      " 82%|█████████████████████████████████████████████████████████████▊             | 15530/18859 [00:24<00:04, 685.75it/s]\n",
      "\n",
      " 83%|██████████████████████████████████████████████████████████████             | 15607/18859 [00:24<00:04, 690.41it/s]\n",
      "\n",
      " 83%|██████████████████████████████████████████████████████████████▎            | 15683/18859 [00:24<00:04, 688.78it/s]\n",
      "\n",
      " 84%|██████████████████████████████████████████████████████████████▋            | 15755/18859 [00:24<00:04, 695.67it/s]\n",
      "\n",
      " 84%|██████████████████████████████████████████████████████████████▉            | 15837/18859 [00:24<00:04, 700.03it/s]\n",
      "\n",
      " 84%|███████████████████████████████████████████████████████████████▎           | 15908/18859 [00:25<00:05, 570.71it/s]\n",
      "\n",
      " 85%|███████████████████████████████████████████████████████████████▌           | 15983/18859 [00:25<00:04, 611.29it/s]\n",
      "\n",
      " 85%|███████████████████████████████████████████████████████████████▊           | 16059/18859 [00:25<00:04, 648.15it/s]\n",
      "\n",
      " 86%|████████████████████████████████████████████████████████████████▏          | 16128/18859 [00:25<00:04, 621.84it/s]\n",
      "\n",
      " 86%|████████████████████████████████████████████████████████████████▍          | 16210/18859 [00:25<00:04, 644.31it/s]\n",
      "\n",
      " 86%|████████████████████████████████████████████████████████████████▊          | 16298/18859 [00:25<00:03, 677.59it/s]\n",
      "\n",
      " 87%|█████████████████████████████████████████████████████████████████          | 16371/18859 [00:25<00:03, 687.68it/s]\n",
      "\n",
      " 87%|█████████████████████████████████████████████████████████████████▍         | 16442/18859 [00:25<00:03, 665.51it/s]\n",
      "\n",
      " 88%|█████████████████████████████████████████████████████████████████▋         | 16512/18859 [00:26<00:03, 674.26it/s]\n",
      "\n",
      " 88%|█████████████████████████████████████████████████████████████████▉         | 16583/18859 [00:26<00:03, 669.25it/s]\n",
      "\n",
      " 88%|██████████████████████████████████████████████████████████████████▎        | 16660/18859 [00:26<00:03, 679.84it/s]\n",
      "\n",
      " 89%|██████████████████████████████████████████████████████████████████▌        | 16729/18859 [00:26<00:03, 681.78it/s]\n",
      "\n",
      " 89%|██████████████████████████████████████████████████████████████████▊        | 16811/18859 [00:26<00:02, 690.88it/s]\n",
      "\n",
      " 90%|███████████████████████████████████████████████████████████████████▏       | 16886/18859 [00:26<00:02, 691.27it/s]\n",
      "\n",
      " 90%|███████████████████████████████████████████████████████████████████▍       | 16964/18859 [00:26<00:02, 713.27it/s]\n",
      "\n",
      " 90%|███████████████████████████████████████████████████████████████████▊       | 17045/18859 [00:26<00:02, 723.59it/s]\n",
      "\n",
      " 91%|████████████████████████████████████████████████████████████████████       | 17121/18859 [00:26<00:02, 733.78it/s]\n",
      "\n",
      " 91%|████████████████████████████████████████████████████████████████████▍      | 17224/18859 [00:26<00:02, 786.30it/s]\n",
      "\n",
      " 92%|████████████████████████████████████████████████████████████████████▊      | 17304/18859 [00:27<00:02, 742.62it/s]\n",
      "\n",
      " 92%|█████████████████████████████████████████████████████████████████████      | 17380/18859 [00:27<00:02, 731.13it/s]\n",
      "\n",
      " 93%|█████████████████████████████████████████████████████████████████████▍     | 17472/18859 [00:27<00:01, 770.85it/s]\n",
      "\n",
      " 93%|█████████████████████████████████████████████████████████████████████▊     | 17562/18859 [00:27<00:01, 786.89it/s]\n",
      "\n",
      " 94%|██████████████████████████████████████████████████████████████████████▏    | 17642/18859 [00:27<00:01, 790.01it/s]\n",
      "\n",
      " 94%|██████████████████████████████████████████████████████████████████████▍    | 17722/18859 [00:27<00:01, 728.39it/s]\n",
      "\n",
      " 94%|██████████████████████████████████████████████████████████████████████▊    | 17802/18859 [00:27<00:01, 728.63it/s]\n",
      "\n",
      " 95%|███████████████████████████████████████████████████████████████████████▏   | 17898/18859 [00:27<00:01, 764.44it/s]\n",
      "\n",
      " 95%|███████████████████████████████████████████████████████████████████████▍   | 17976/18859 [00:28<00:01, 715.76it/s]\n",
      "\n",
      " 96%|███████████████████████████████████████████████████████████████████████▊   | 18053/18859 [00:28<00:01, 729.69it/s]\n",
      "\n",
      " 96%|████████████████████████████████████████████████████████████████████████   | 18128/18859 [00:28<00:01, 690.45it/s]\n",
      "\n",
      " 97%|████████████████████████████████████████████████████████████████████████▍  | 18206/18859 [00:28<00:00, 712.56it/s]\n",
      "\n",
      " 97%|████████████████████████████████████████████████████████████████████████▋  | 18279/18859 [00:28<00:00, 611.01it/s]\n",
      "\n",
      " 97%|████████████████████████████████████████████████████████████████████████▉  | 18346/18859 [00:28<00:00, 604.62it/s]\n",
      "\n",
      " 98%|█████████████████████████████████████████████████████████████████████████▎ | 18429/18859 [00:28<00:00, 640.95it/s]\n",
      "\n",
      " 98%|█████████████████████████████████████████████████████████████████████████▌ | 18509/18859 [00:28<00:00, 658.59it/s]\n",
      "\n",
      " 99%|█████████████████████████████████████████████████████████████████████████▉ | 18577/18859 [00:28<00:00, 645.43it/s]\n",
      "\n",
      " 99%|██████████████████████████████████████████████████████████████████████████▏| 18661/18859 [00:29<00:00, 668.56it/s]\n",
      "\n",
      " 99%|██████████████████████████████████████████████████████████████████████████▌| 18738/18859 [00:29<00:00, 693.26it/s]\n",
      "\n",
      "100%|██████████████████████████████████████████████████████████████████████████▊| 18820/18859 [00:29<00:00, 726.91it/s]\n",
      "\n",
      "100%|███████████████████████████████████████████████████████████████████████████| 18859/18859 [00:29<00:00, 643.31it/s]"
     ]
    }
   ],
   "source": [
    "X_test_tfidfw2v = compute_tfidf_w2v(tfidf, w2v_model, list_of_reviews_test)"
   ]
  },
  {
   "cell_type": "markdown",
   "metadata": {},
   "source": [
    "### [4.4.1] Applying Linear SVM with tfidf_w2v"
   ]
  },
  {
   "cell_type": "code",
   "execution_count": 53,
   "metadata": {},
   "outputs": [
    {
     "name": "stderr",
     "output_type": "stream",
     "text": [
      "\n",
      "  0%|                                                                                           | 0/80 [00:00<?, ?it/s]\n",
      "  1%|█                                                                                  | 1/80 [00:00<00:23,  3.37it/s]\n",
      "  2%|██                                                                                 | 2/80 [00:00<00:22,  3.53it/s]\n",
      "  4%|███                                                                                | 3/80 [00:00<00:21,  3.64it/s]\n",
      "  5%|████▏                                                                              | 4/80 [00:01<00:20,  3.71it/s]\n",
      "  6%|█████▏                                                                             | 5/80 [00:01<00:19,  3.75it/s]\n",
      "  8%|██████▏                                                                            | 6/80 [00:01<00:19,  3.78it/s]\n",
      "  9%|███████▎                                                                           | 7/80 [00:01<00:19,  3.72it/s]\n",
      " 10%|████████▎                                                                          | 8/80 [00:02<00:19,  3.77it/s]\n",
      " 11%|█████████▎                                                                         | 9/80 [00:02<00:18,  3.78it/s]\n",
      " 12%|██████████▎                                                                       | 10/80 [00:02<00:18,  3.81it/s]\n",
      " 14%|███████████▎                                                                      | 11/80 [00:02<00:18,  3.82it/s]\n",
      " 15%|████████████▎                                                                     | 12/80 [00:03<00:17,  3.85it/s]\n",
      " 16%|█████████████▎                                                                    | 13/80 [00:03<00:17,  3.82it/s]\n",
      " 18%|██████████████▎                                                                   | 14/80 [00:03<00:17,  3.83it/s]\n",
      " 19%|███████████████▍                                                                  | 15/80 [00:03<00:16,  3.84it/s]\n",
      " 20%|████████████████▍                                                                 | 16/80 [00:04<00:16,  3.84it/s]\n",
      " 21%|█████████████████▍                                                                | 17/80 [00:04<00:16,  3.84it/s]\n",
      " 22%|██████████████████▍                                                               | 18/80 [00:04<00:16,  3.83it/s]\n",
      " 24%|███████████████████▍                                                              | 19/80 [00:04<00:15,  3.84it/s]\n",
      " 25%|████████████████████▌                                                             | 20/80 [00:05<00:15,  3.86it/s]\n",
      " 26%|█████████████████████▌                                                            | 21/80 [00:05<00:15,  3.85it/s]\n",
      " 28%|██████████████████████▌                                                           | 22/80 [00:05<00:14,  3.87it/s]\n",
      " 29%|███████████████████████▌                                                          | 23/80 [00:06<00:14,  3.88it/s]\n",
      " 30%|████████████████████████▌                                                         | 24/80 [00:06<00:14,  3.87it/s]\n",
      " 31%|█████████████████████████▋                                                        | 25/80 [00:06<00:14,  3.88it/s]\n",
      " 32%|██████████████████████████▋                                                       | 26/80 [00:06<00:13,  3.86it/s]\n",
      " 34%|███████████████████████████▋                                                      | 27/80 [00:07<00:13,  3.89it/s]\n",
      " 35%|████████████████████████████▋                                                     | 28/80 [00:07<00:13,  3.85it/s]\n",
      " 36%|█████████████████████████████▋                                                    | 29/80 [00:07<00:13,  3.88it/s]\n",
      " 38%|██████████████████████████████▊                                                   | 30/80 [00:07<00:13,  3.84it/s]\n",
      " 39%|███████████████████████████████▊                                                  | 31/80 [00:08<00:12,  3.85it/s]\n",
      " 40%|████████████████████████████████▊                                                 | 32/80 [00:08<00:12,  3.87it/s]\n",
      " 41%|█████████████████████████████████▊                                                | 33/80 [00:08<00:12,  3.86it/s]\n",
      " 42%|██████████████████████████████████▊                                               | 34/80 [00:08<00:11,  3.86it/s]\n",
      " 44%|███████████████████████████████████▉                                              | 35/80 [00:09<00:11,  3.87it/s]\n",
      " 45%|████████████████████████████████████▉                                             | 36/80 [00:09<00:11,  3.85it/s]\n",
      " 46%|█████████████████████████████████████▉                                            | 37/80 [00:09<00:11,  3.84it/s]\n",
      " 48%|██████████████████████████████████████▉                                           | 38/80 [00:09<00:10,  3.87it/s]\n",
      " 49%|███████████████████████████████████████▉                                          | 39/80 [00:10<00:10,  3.86it/s]\n",
      " 50%|█████████████████████████████████████████                                         | 40/80 [00:10<00:10,  3.86it/s]\n",
      " 51%|██████████████████████████████████████████                                        | 41/80 [00:10<00:10,  3.85it/s]\n",
      " 52%|███████████████████████████████████████████                                       | 42/80 [00:10<00:09,  3.85it/s]\n",
      " 54%|████████████████████████████████████████████                                      | 43/80 [00:11<00:09,  3.83it/s]\n",
      " 55%|█████████████████████████████████████████████                                     | 44/80 [00:11<00:09,  3.79it/s]\n",
      " 56%|██████████████████████████████████████████████▏                                   | 45/80 [00:11<00:09,  3.80it/s]\n",
      " 57%|███████████████████████████████████████████████▏                                  | 46/80 [00:11<00:08,  3.81it/s]\n",
      " 59%|████████████████████████████████████████████████▏                                 | 47/80 [00:12<00:08,  3.82it/s]\n",
      " 60%|█████████████████████████████████████████████████▏                                | 48/80 [00:12<00:08,  3.83it/s]\n",
      " 61%|██████████████████████████████████████████████████▏                               | 49/80 [00:12<00:08,  3.85it/s]\n",
      " 62%|███████████████████████████████████████████████████▎                              | 50/80 [00:13<00:07,  3.87it/s]\n",
      " 64%|████████████████████████████████████████████████████▎                             | 51/80 [00:13<00:07,  3.85it/s]\n",
      " 65%|█████████████████████████████████████████████████████▎                            | 52/80 [00:13<00:07,  3.88it/s]\n",
      " 66%|██████████████████████████████████████████████████████▎                           | 53/80 [00:13<00:06,  3.88it/s]\n",
      " 68%|███████████████████████████████████████████████████████▎                          | 54/80 [00:14<00:06,  3.89it/s]\n",
      " 69%|████████████████████████████████████████████████████████▍                         | 55/80 [00:14<00:06,  3.86it/s]\n",
      " 70%|█████████████████████████████████████████████████████████▍                        | 56/80 [00:14<00:06,  3.81it/s]\n",
      " 71%|██████████████████████████████████████████████████████████▍                       | 57/80 [00:14<00:05,  3.84it/s]\n",
      " 72%|███████████████████████████████████████████████████████████▍                      | 58/80 [00:15<00:05,  3.84it/s]\n",
      " 74%|████████████████████████████████████████████████████████████▍                     | 59/80 [00:15<00:05,  3.73it/s]\n",
      " 75%|█████████████████████████████████████████████████████████████▌                    | 60/80 [00:15<00:05,  3.76it/s]\n",
      " 76%|██████████████████████████████████████████████████████████████▌                   | 61/80 [00:15<00:05,  3.78it/s]\n",
      " 78%|███████████████████████████████████████████████████████████████▌                  | 62/80 [00:16<00:04,  3.78it/s]\n",
      " 79%|████████████████████████████████████████████████████████████████▌                 | 63/80 [00:16<00:04,  3.81it/s]\n",
      " 80%|█████████████████████████████████████████████████████████████████▌                | 64/80 [00:16<00:04,  3.83it/s]\n",
      " 81%|██████████████████████████████████████████████████████████████████▋               | 65/80 [00:16<00:03,  3.82it/s]\n",
      " 82%|███████████████████████████████████████████████████████████████████▋              | 66/80 [00:17<00:03,  3.81it/s]\n",
      " 84%|████████████████████████████████████████████████████████████████████▋             | 67/80 [00:17<00:03,  3.84it/s]\n",
      " 85%|█████████████████████████████████████████████████████████████████████▋            | 68/80 [00:17<00:03,  3.84it/s]\n",
      " 86%|██████████████████████████████████████████████████████████████████████▋           | 69/80 [00:17<00:02,  3.85it/s]\n",
      " 88%|███████████████████████████████████████████████████████████████████████▊          | 70/80 [00:18<00:02,  3.84it/s]\n",
      " 89%|████████████████████████████████████████████████████████████████████████▊         | 71/80 [00:18<00:02,  3.86it/s]\n",
      " 90%|█████████████████████████████████████████████████████████████████████████▊        | 72/80 [00:18<00:02,  3.76it/s]\n",
      " 91%|██████████████████████████████████████████████████████████████████████████▊       | 73/80 [00:19<00:01,  3.71it/s]\n",
      " 92%|███████████████████████████████████████████████████████████████████████████▊      | 74/80 [00:19<00:01,  3.69it/s]\n",
      " 94%|████████████████████████████████████████████████████████████████████████████▉     | 75/80 [00:19<00:01,  3.73it/s]\n",
      " 95%|█████████████████████████████████████████████████████████████████████████████▉    | 76/80 [00:19<00:01,  3.74it/s]\n",
      " 96%|██████████████████████████████████████████████████████████████████████████████▉   | 77/80 [00:20<00:00,  3.72it/s]\n",
      " 98%|███████████████████████████████████████████████████████████████████████████████▉  | 78/80 [00:20<00:00,  3.68it/s]\n",
      " 99%|████████████████████████████████████████████████████████████████████████████████▉ | 79/80 [00:20<00:00,  3.54it/s]\n",
      "100%|██████████████████████████████████████████████████████████████████████████████████| 80/80 [00:21<00:00,  3.50it/s]"
     ]
    },
    {
     "data": {
      "image/png": "[encoded data removed]",
      "text/plain": [
       "<Figure size 432x288 with 1 Axes>"
      ]
     },
     "metadata": {
      "needs_background": "light"
     },
     "output_type": "display_data"
    },
    {
     "data": {
      "image/png": "[encoded data removed]",
      "text/plain": [
       "<Figure size 432x288 with 2 Axes>"
      ]
     },
     "metadata": {
      "needs_background": "light"
     },
     "output_type": "display_data"
    },
    {
     "data": {
      "image/png": "[encoded data removed]",
      "text/plain": [
       "<Figure size 432x288 with 2 Axes>"
      ]
     },
     "metadata": {
      "needs_background": "light"
     },
     "output_type": "display_data"
    },
    {
     "data": {
      "image/png": "[encoded data removed]",
      "text/plain": [
       "<Figure size 432x288 with 1 Axes>"
      ]
     },
     "metadata": {
      "needs_background": "light"
     },
     "output_type": "display_data"
    },
    {
     "name": "stdout",
     "output_type": "stream",
     "text": [
      "Wall time: 22.3 s\n"
     ]
    }
   ],
   "source": [
    "%%time\n",
    "linear_tfidf_w2v, linear_tfidf_w2v_auc = get_best_hyperparam(X_train_tfidfw2v, X_test_tfidfw2v, y_train, y_test,linear=True, pen=\"l2\")"
   ]
  },
  {
   "cell_type": "markdown",
   "metadata": {},
   "source": [
    "### [4.4.2] Applying Linear SVM with tfidf_w2v"
   ]
  },
  {
   "cell_type": "code",
   "execution_count": 47,
   "metadata": {},
   "outputs": [
    {
     "name": "stderr",
     "output_type": "stream",
     "text": [
      "\n",
      "\n",
      "  0%|                                                                                            | 0/4 [00:00<?, ?it/s]\n",
      "\n",
      " 25%|█████████████████████                                                               | 1/4 [00:34<01:43, 34.40s/it]\n",
      "\n",
      " 50%|██████████████████████████████████████████                                          | 2/4 [00:56<01:01, 30.58s/it]\n",
      "\n",
      " 75%|███████████████████████████████████████████████████████████████                     | 3/4 [01:17<00:27, 27.91s/it]\n",
      "\n",
      "100%|████████████████████████████████████████████████████████████████████████████████████| 4/4 [01:39<00:00, 26.00s/it]"
     ]
    },
    {
     "data": {
      "image/png": "[encoded data removed]",
      "text/plain": [
       "<Figure size 432x288 with 1 Axes>"
      ]
     },
     "metadata": {
      "needs_background": "light"
     },
     "output_type": "display_data"
    },
    {
     "data": {
      "image/png": "[encoded data removed]",
      "text/plain": [
       "<Figure size 432x288 with 2 Axes>"
      ]
     },
     "metadata": {
      "needs_background": "light"
     },
     "output_type": "display_data"
    },
    {
     "data": {
      "image/png": "[encoded data removed]",
      "text/plain": [
       "<Figure size 432x288 with 2 Axes>"
      ]
     },
     "metadata": {
      "needs_background": "light"
     },
     "output_type": "display_data"
    },
    {
     "data": {
      "image/png": "[encoded data removed]",
      "text/plain": [
       "<Figure size 432x288 with 1 Axes>"
      ]
     },
     "metadata": {
      "needs_background": "light"
     },
     "output_type": "display_data"
    },
    {
     "name": "stdout",
     "output_type": "stream",
     "text": [
      "Wall time: 2min 45s\n"
     ]
    }
   ],
   "source": [
    "%%time\n",
    "rbf_tfidf_w2v, rbf_tfidf_w2v_auc = get_best_hyperparam(X_train_tfidfw2v[:10000], X_test_tfidfw2v, y_train[:10000], y_test,linear=False, pen=\"l2\")"
   ]
  },
  {
   "cell_type": "markdown",
   "metadata": {},
   "source": [
    "# Conclusion"
   ]
  },
  {
   "cell_type": "code",
   "execution_count": 48,
   "metadata": {},
   "outputs": [
    {
     "name": "stdout",
     "output_type": "stream",
     "text": [
      "+------------+-------------+--------------------+---------------------+\n",
      "| Vectorizer | Regularizer |  Hyper parameter   |         AUC         |\n",
      "+------------+-------------+--------------------+---------------------+\n",
      "|    BOW     |    Linear   |       0.0001       | 0.9433773929233897  |\n",
      "|    BOW     |     SVC     |       0.0001       |  0.7636823666820133 |\n",
      "|   TFIDF    |    Linear   |       0.0001       |  0.931916437632015  |\n",
      "|   TFIDF    |     SVC     |     1111.1112      |  0.8910621108996668 |\n",
      "|  Avg_w2v   |    Linear   |       0.0001       |  0.8889698694949155 |\n",
      "|  Avg_w2v   |     SVC     | 3333.3334000000004 |  0.8639749806218618 |\n",
      "| TFIDF_w2v  |    Linear   |       0.0001       |  0.8564468992060892 |\n",
      "| TFIDF_w2v  |     SVC     |       0.0001       |  0.8184536201931757 |\n",
      "+------------+-------------+--------------------+---------------------+\n"
     ]
    }
   ],
   "source": [
    "x = PrettyTable()\n",
    "\n",
    "x.field_names = [\"Vectorizer\", \"Regularizer\", \"Hyper parameter\", \"AUC\"]\n",
    "x.add_row([\"BOW\", \"Linear\", \"0.0001\", \"0.9433773929233897 \"])\n",
    "x.add_row([\"BOW\", \"SVC\", \"0.0001\", \"0.7636823666820133\"])\n",
    "x.add_row([\"TFIDF\", \"Linear\", \"0.0001\", \"0.931916437632015\"])\n",
    "x.add_row([\"TFIDF\", \"SVC\", \"1111.1112\", \"0.8910621108996668\"])\n",
    "x.add_row([\"Avg_w2v\", \"Linear\", \"0.0001\", \"0.8889698694949155\"])\n",
    "x.add_row([\"Avg_w2v\", \"SVC\", rbf_aw2v, rbf_aw2v_auc])\n",
    "x.add_row([\"TFIDF_w2v\", \"Linear\", \"0.0001\", \"0.8564468992060892\"])\n",
    "x.add_row([\"TFIDF_w2v\", \"SVC\", rbf_tfidf_w2v, rbf_tfidf_w2v_auc])\n",
    "print(x)"
   ]
  }
 ],
 "metadata": {
  "kernelspec": {
   "display_name": "Python 3",
   "language": "python",
   "name": "python3"
  },
  "language_info": {
   "codemirror_mode": {
    "name": "ipython",
    "version": 3
   },
   "file_extension": ".py",
   "mimetype": "text/x-python",
   "name": "python",
   "nbconvert_exporter": "python",
   "pygments_lexer": "ipython3",
   "version": "3.7.1"
  }
 },
 "nbformat": 4,
 "nbformat_minor": 2
}
